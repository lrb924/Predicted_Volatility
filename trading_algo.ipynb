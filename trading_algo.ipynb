{
 "cells": [
  {
   "cell_type": "code",
   "execution_count": 10,
   "metadata": {},
   "outputs": [],
   "source": [
    "# Importing Modules \n",
    "import os \n",
    "\n",
    "import pandas as pd\n",
    "import numpy as np\n",
    "\n",
    "import matplotlib.pyplot as plt\n",
    "%matplotlib inline\n",
    "\n",
    "\n",
    "# import warnings\n",
    "# warnings.filterwarnings('ignore')"
   ]
  },
  {
   "cell_type": "code",
   "execution_count": 11,
   "metadata": {},
   "outputs": [],
   "source": [
    "def get_signals(df):\n",
    "    df['signal'] = 0\n",
    "    df['signal'] = np.where(df[\"prediction\"]>df[\"observed\"].shift().describe().loc[\"25%\"], float(1),\\\n",
    "                    np.where(df[\"prediction\"]<df[\"observed\"].shift().describe().loc[\"75%\"], float(-1),0))\n",
    "\n",
    "    # print(df_trading['signal'].value_counts())\n",
    "    \n",
    "    return df\n"
   ]
  },
  {
   "cell_type": "code",
   "execution_count": 12,
   "metadata": {},
   "outputs": [],
   "source": [
    "def load_etfs(directory):\n",
    "    \n",
    "    df = pd.DataFrame()\n",
    "    \n",
    "    for root,dirs,files in os.walk(directory):\n",
    "        for filename in files: \n",
    "            etf_path  = (os.path.join(root, filename))\n",
    "            \n",
    "            df_etf = pd.read_csv(etf_path, parse_dates=True, infer_datetime_format=True, index_col='Date')\n",
    "            df_etf.rename(columns={'Close': etf_path[-7:-4]}, inplace=True)\n",
    "            \n",
    "            df = pd.concat([df, df_etf.pct_change()], axis=1)\n",
    "            df.dropna(inplace=True)\n",
    "            \n",
    "    return df\n"
   ]
  },
  {
   "cell_type": "code",
   "execution_count": 13,
   "metadata": {},
   "outputs": [],
   "source": [
    "def compute_return(df, df_signals):\n",
    "    \n",
    "    final_returns = {}\n",
    "    \n",
    "    df['return'] = df.sum(axis=1)\n",
    "    df['return'].iloc[0] = 1\n",
    "    df['strategy_return'] = df['return'] * df_signals['signal']\n",
    "    df.dropna(inplace=True)\n",
    "    \n",
    "    df['cumulative_return'] = (1 + df[\"return\"]).cumprod()\n",
    "    df['cumulative_strategy_return'] = (1 + df[\"strategy_return\"]).cumprod()\n",
    "    \n",
    "    final_returns['final_return'] = np.round(df['cumulative_return'].iloc[-1], 3)\n",
    "    final_returns['final_strategy_return'] = np.round(df['cumulative_strategy_return'].iloc[-1], 3)\n",
    "    \n",
    "    return df, final_returns\n"
   ]
  },
  {
   "cell_type": "code",
   "execution_count": 14,
   "metadata": {},
   "outputs": [],
   "source": [
    "# df_pred = pd.read_csv('./predictions_test.csv', parse_dates=True, infer_datetime_format=True, index_col='Date')\n",
    "# df_signals = get_signals(df_pred)\n",
    "\n",
    "# df_cyc = load_etfs('./DATA/ETF_CYC')\n",
    "# df_def = load_etfs('./DATA/ETF_DEF')\n",
    "# df_cyc, final_cyc_returns = compute_return(df_cyc, df_signals)\n",
    "# df_def, final_def_returns = compute_return(df_def, df_signals)\n",
    "\n",
    "# print('\\n-----------------------')\n",
    "# print('Cyclical ETFs Results:')\n",
    "# print(final_cyc_returns)\n",
    "# print('-----------------------')\n",
    "# print('Defensive ETFs Results:')\n",
    "# print(final_def_returns)\n",
    "\n",
    "# defensive_plot = (0 + df_cyc[[\"cumulative_return\", \"cumulative_strategy_return\"]])\n",
    "# defensive_plot.plot.line();\n",
    "\n",
    "# cyclical_plot = (0 + df_def[[\"cumulative_return\", \"cumulative_strategy_return\"]])\n",
    "# cyclical_plot.plot.line();"
   ]
  }
 ],
 "metadata": {
  "kernelspec": {
   "display_name": "Python 3.10.4 ('tf_gpu')",
   "language": "python",
   "name": "python3"
  },
  "language_info": {
   "codemirror_mode": {
    "name": "ipython",
    "version": 3
   },
   "file_extension": ".py",
   "mimetype": "text/x-python",
   "name": "python",
   "nbconvert_exporter": "python",
   "pygments_lexer": "ipython3",
   "version": "3.10.4"
  },
  "vscode": {
   "interpreter": {
    "hash": "ecbdb9fbf868892931d640333ffd1e700f14eb7f4e70f167f3dc311fc82fcb91"
   }
  }
 },
 "nbformat": 4,
 "nbformat_minor": 2
}
