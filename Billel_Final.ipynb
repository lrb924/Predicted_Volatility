{
 "cells": [
  {
   "cell_type": "markdown",
   "id": "eb85d67b",
   "metadata": {},
   "source": [
    "# Times Series with GARCH"
   ]
  },
  {
   "cell_type": "code",
   "execution_count": 1,
   "id": "b0c64b3b",
   "metadata": {},
   "outputs": [
    {
     "data": {
      "text/html": [
       "        <script type=\"text/javascript\">\n",
       "        window.PlotlyConfig = {MathJaxConfig: 'local'};\n",
       "        if (window.MathJax && window.MathJax.Hub && window.MathJax.Hub.Config) {window.MathJax.Hub.Config({SVG: {font: \"STIX-Web\"}});}\n",
       "        if (typeof require !== 'undefined') {\n",
       "        require.undef(\"plotly\");\n",
       "        requirejs.config({\n",
       "            paths: {\n",
       "                'plotly': ['https://cdn.plot.ly/plotly-2.12.1.min']\n",
       "            }\n",
       "        });\n",
       "        require(['plotly'], function(Plotly) {\n",
       "            window._Plotly = Plotly;\n",
       "        });\n",
       "        }\n",
       "        </script>\n",
       "        "
      ]
     },
     "metadata": {},
     "output_type": "display_data"
    }
   ],
   "source": [
    "# Installations \n",
    "from arch import arch_model\n",
    "from statsmodels.tsa.stattools import adfuller,q_stat,acf\n",
    "from statsmodels.graphics.tsaplots import plot_acf, plot_pacf\n",
    "import pandas as pd\n",
    "import numpy as np \n",
    "from pathlib import Path\n",
    "import seaborn as sns\n",
    "import matplotlib.pyplot as plt\n",
    "import warnings\n",
    "warnings.filterwarnings(\"ignore\")\n",
    "import glob\n",
    "import cufflinks as cf\n",
    "import scipy\n",
    "import scipy.stats as stats\n",
    "import scipy.optimize as sp_optimize\n",
    "from sklearn.metrics import mean_absolute_error, mean_squared_error\n",
    "from statsmodels.tsa.statespace.varmax import VARMAX, VARMAXResults\n",
    "from statsmodels.tsa.statespace.kalman_filter import FilterResults\n",
    "import plotly.graph_objects as go"
   ]
  },
  {
   "cell_type": "code",
   "execution_count": 2,
   "id": "f43e6d47",
   "metadata": {},
   "outputs": [
    {
     "data": {
      "text/html": [
       "        <script type=\"text/javascript\">\n",
       "        window.PlotlyConfig = {MathJaxConfig: 'local'};\n",
       "        if (window.MathJax && window.MathJax.Hub && window.MathJax.Hub.Config) {window.MathJax.Hub.Config({SVG: {font: \"STIX-Web\"}});}\n",
       "        if (typeof require !== 'undefined') {\n",
       "        require.undef(\"plotly\");\n",
       "        requirejs.config({\n",
       "            paths: {\n",
       "                'plotly': ['https://cdn.plot.ly/plotly-2.12.1.min']\n",
       "            }\n",
       "        });\n",
       "        require(['plotly'], function(Plotly) {\n",
       "            window._Plotly = Plotly;\n",
       "        });\n",
       "        }\n",
       "        </script>\n",
       "        "
      ]
     },
     "metadata": {},
     "output_type": "display_data"
    },
    {
     "data": {
      "text/html": [
       "        <script type=\"text/javascript\">\n",
       "        window.PlotlyConfig = {MathJaxConfig: 'local'};\n",
       "        if (window.MathJax && window.MathJax.Hub && window.MathJax.Hub.Config) {window.MathJax.Hub.Config({SVG: {font: \"STIX-Web\"}});}\n",
       "        if (typeof require !== 'undefined') {\n",
       "        require.undef(\"plotly\");\n",
       "        requirejs.config({\n",
       "            paths: {\n",
       "                'plotly': ['https://cdn.plot.ly/plotly-2.12.1.min']\n",
       "            }\n",
       "        });\n",
       "        require(['plotly'], function(Plotly) {\n",
       "            window._Plotly = Plotly;\n",
       "        });\n",
       "        }\n",
       "        </script>\n",
       "        "
      ]
     },
     "metadata": {},
     "output_type": "display_data"
    }
   ],
   "source": [
    "# Imports\n",
    "plt.style.use(\"seaborn\")\n",
    "cf.set_config_file(offline = True)\n",
    "%matplotlib inline\n",
    "cf.set_config_file(offline = True)"
   ]
  },
  {
   "cell_type": "markdown",
   "id": "3d6b5ec9",
   "metadata": {},
   "source": [
    "# Extracting Data from Google Finance\n",
    "## Step 1\n",
    "1. Using SP500 to predict market volatility \n",
    "\n"
   ]
  },
  {
   "cell_type": "code",
   "execution_count": 3,
   "id": "9e8d6ff1",
   "metadata": {},
   "outputs": [
    {
     "name": "stdout",
     "output_type": "stream",
     "text": [
      "(3025, 6)\n",
      "Data loaded\n"
     ]
    },
    {
     "data": {
      "text/html": [
       "<div>\n",
       "<style scoped>\n",
       "    .dataframe tbody tr th:only-of-type {\n",
       "        vertical-align: middle;\n",
       "    }\n",
       "\n",
       "    .dataframe tbody tr th {\n",
       "        vertical-align: top;\n",
       "    }\n",
       "\n",
       "    .dataframe thead th {\n",
       "        text-align: right;\n",
       "    }\n",
       "</style>\n",
       "<table border=\"1\" class=\"dataframe\">\n",
       "  <thead>\n",
       "    <tr style=\"text-align: right;\">\n",
       "      <th></th>\n",
       "      <th>Open</th>\n",
       "      <th>High</th>\n",
       "      <th>Low</th>\n",
       "      <th>Close</th>\n",
       "      <th>Volume</th>\n",
       "      <th>Return</th>\n",
       "    </tr>\n",
       "    <tr>\n",
       "      <th>Date</th>\n",
       "      <th></th>\n",
       "      <th></th>\n",
       "      <th></th>\n",
       "      <th></th>\n",
       "      <th></th>\n",
       "      <th></th>\n",
       "    </tr>\n",
       "  </thead>\n",
       "  <tbody>\n",
       "    <tr>\n",
       "      <th>2010-10-06</th>\n",
       "      <td>1159.81</td>\n",
       "      <td>1162.33</td>\n",
       "      <td>1154.85</td>\n",
       "      <td>1159.97</td>\n",
       "      <td>0</td>\n",
       "      <td>-0.000672</td>\n",
       "    </tr>\n",
       "    <tr>\n",
       "      <th>2010-10-07</th>\n",
       "      <td>1161.57</td>\n",
       "      <td>1163.87</td>\n",
       "      <td>1151.41</td>\n",
       "      <td>1158.06</td>\n",
       "      <td>391055008</td>\n",
       "      <td>-0.001647</td>\n",
       "    </tr>\n",
       "    <tr>\n",
       "      <th>2010-10-08</th>\n",
       "      <td>1158.36</td>\n",
       "      <td>1167.73</td>\n",
       "      <td>1155.58</td>\n",
       "      <td>1165.15</td>\n",
       "      <td>387142016</td>\n",
       "      <td>0.006122</td>\n",
       "    </tr>\n",
       "  </tbody>\n",
       "</table>\n",
       "</div>"
      ],
      "text/plain": [
       "               Open     High      Low    Close     Volume    Return\n",
       "Date                                                               \n",
       "2010-10-06  1159.81  1162.33  1154.85  1159.97          0 -0.000672\n",
       "2010-10-07  1161.57  1163.87  1151.41  1158.06  391055008 -0.001647\n",
       "2010-10-08  1158.36  1167.73  1155.58  1165.15  387142016  0.006122"
      ]
     },
     "metadata": {},
     "output_type": "display_data"
    },
    {
     "data": {
      "text/html": [
       "<div>\n",
       "<style scoped>\n",
       "    .dataframe tbody tr th:only-of-type {\n",
       "        vertical-align: middle;\n",
       "    }\n",
       "\n",
       "    .dataframe tbody tr th {\n",
       "        vertical-align: top;\n",
       "    }\n",
       "\n",
       "    .dataframe thead th {\n",
       "        text-align: right;\n",
       "    }\n",
       "</style>\n",
       "<table border=\"1\" class=\"dataframe\">\n",
       "  <thead>\n",
       "    <tr style=\"text-align: right;\">\n",
       "      <th></th>\n",
       "      <th>Open</th>\n",
       "      <th>High</th>\n",
       "      <th>Low</th>\n",
       "      <th>Close</th>\n",
       "      <th>Volume</th>\n",
       "      <th>Return</th>\n",
       "    </tr>\n",
       "    <tr>\n",
       "      <th>Date</th>\n",
       "      <th></th>\n",
       "      <th></th>\n",
       "      <th></th>\n",
       "      <th></th>\n",
       "      <th></th>\n",
       "      <th></th>\n",
       "    </tr>\n",
       "  </thead>\n",
       "  <tbody>\n",
       "    <tr>\n",
       "      <th>2022-09-28</th>\n",
       "      <td>3651.94</td>\n",
       "      <td>3736.74</td>\n",
       "      <td>3640.61</td>\n",
       "      <td>3719.04</td>\n",
       "      <td>2637914627</td>\n",
       "      <td>0.019672</td>\n",
       "    </tr>\n",
       "    <tr>\n",
       "      <th>2022-09-29</th>\n",
       "      <td>3687.01</td>\n",
       "      <td>3687.01</td>\n",
       "      <td>3610.40</td>\n",
       "      <td>3640.47</td>\n",
       "      <td>2601213630</td>\n",
       "      <td>-0.021126</td>\n",
       "    </tr>\n",
       "    <tr>\n",
       "      <th>2022-09-30</th>\n",
       "      <td>3633.48</td>\n",
       "      <td>3671.44</td>\n",
       "      <td>3584.13</td>\n",
       "      <td>3585.62</td>\n",
       "      <td>3146085245</td>\n",
       "      <td>-0.015067</td>\n",
       "    </tr>\n",
       "  </tbody>\n",
       "</table>\n",
       "</div>"
      ],
      "text/plain": [
       "               Open     High      Low    Close      Volume    Return\n",
       "Date                                                                \n",
       "2022-09-28  3651.94  3736.74  3640.61  3719.04  2637914627  0.019672\n",
       "2022-09-29  3687.01  3687.01  3610.40  3640.47  2601213630 -0.021126\n",
       "2022-09-30  3633.48  3671.44  3584.13  3585.62  3146085245 -0.015067"
      ]
     },
     "metadata": {},
     "output_type": "display_data"
    },
    {
     "data": {
      "application/vnd.plotly.v1+json": {
       "config": {
        "linkText": "Export to plot.ly",
        "plotlyServerURL": "https://plot.ly",
        "showLink": true
       },
       "data": [
        {
         "close": [
          4155.38,
          4175.48,
          4300.17,
          4146.87,
          4123.34,
          3991.24,
          4001.05,
          3935.18,
          3930.08,
          4023.89,
          4008.01,
          4088.85,
          3923.68,
          3900.79,
          3901.36,
          3973.75,
          3941.48,
          3978.73,
          4057.84,
          4158.24,
          4132.15,
          4101.23,
          4176.82,
          4108.54,
          4121.43,
          4160.68,
          4115.77,
          4017.82,
          3900.86,
          3749.63,
          3735.48,
          3789.99,
          3666.77,
          3674.84,
          3764.79,
          3759.89,
          3795.73,
          3911.74,
          3900.11,
          3821.55,
          3818.83,
          3785.38,
          3825.33,
          3831.39,
          3845.08,
          3902.62,
          3899.38,
          3854.43,
          3818.8,
          3801.78,
          3790.38,
          3863.16,
          3830.85,
          3936.69,
          3959.9,
          3998.95,
          3961.63,
          3966.84,
          3921.05,
          4023.61,
          4072.43,
          4130.29,
          4118.63,
          4091.19,
          4155.17,
          4151.94,
          4145.19,
          4140.06,
          4122.47,
          4210.24,
          4207.27,
          4280.15,
          4297.14,
          4305.2,
          4274.04,
          4283.74,
          4228.48,
          4137.99,
          4128.73,
          4140.77,
          4199.12,
          4057.66,
          4030.61,
          3986.16,
          3955,
          3966.85,
          3924.26,
          3908.19,
          3979.87,
          4006.18,
          4067.36,
          4110.41,
          3932.69,
          3946.01,
          3901.35,
          3873.33,
          3899.89,
          3855.93,
          3789.93,
          3757.99,
          3693.23,
          3655.04,
          3647.29,
          3719.04,
          3640.47,
          3585.62
         ],
         "high": [
          4169.81,
          4200.1,
          4307.66,
          4270.43,
          4157.69,
          4081.27,
          4068.82,
          4049.09,
          3964.8,
          4038.88,
          4046.46,
          4090.72,
          4051.98,
          3945.96,
          3943.42,
          3981.88,
          3955.68,
          3999.33,
          4075.14,
          4158.49,
          4168.34,
          4166.54,
          4177.51,
          4142.67,
          4168.78,
          4164.86,
          4160.14,
          4119.1,
          3974.39,
          3838.15,
          3778.18,
          3837.56,
          3728.18,
          3707.71,
          3779.65,
          3801.79,
          3802.58,
          3913.65,
          3927.72,
          3945.86,
          3836.5,
          3818.99,
          3829.82,
          3832.19,
          3870.91,
          3910.63,
          3918.5,
          3880.94,
          3873.41,
          3829.44,
          3796.41,
          3863.62,
          3902.44,
          3939.81,
          3974.13,
          3999.29,
          4012.44,
          3975.3,
          3953.22,
          4039.56,
          4078.95,
          4140.15,
          4144.95,
          4140.47,
          4167.66,
          4161.29,
          4151.58,
          4186.62,
          4137.3,
          4211.03,
          4257.91,
          4280.47,
          4301.79,
          4325.28,
          4302.18,
          4292.53,
          4266.31,
          4195.08,
          4159.77,
          4156.56,
          4200.54,
          4203.04,
          4062.99,
          4044.98,
          4015.37,
          3970.23,
          4018.43,
          3942.55,
          3987.89,
          4010.5,
          4076.81,
          4119.28,
          4037.12,
          3961.94,
          3959.14,
          3880.95,
          3900.45,
          3876.01,
          3907.07,
          3790.9,
          3727.14,
          3715.67,
          3717.53,
          3736.74,
          3687.01,
          3671.44
         ],
         "low": [
          4062.51,
          4147.08,
          4148.91,
          4106.01,
          4067.91,
          3975.48,
          3958.17,
          3928.82,
          3858.87,
          3963.9,
          3983.99,
          4033.93,
          3911.91,
          3876.58,
          3810.32,
          3909.04,
          3875.13,
          3925.03,
          3984.6,
          4077.43,
          4104.88,
          4073.85,
          4074.37,
          4098.67,
          4109.18,
          4080.19,
          4107.2,
          4017.17,
          3900.16,
          3734.3,
          3705.68,
          3722.3,
          3639.77,
          3636.87,
          3715.31,
          3717.69,
          3743.52,
          3821.75,
          3889.66,
          3820.14,
          3799.02,
          3738.67,
          3752.1,
          3742.06,
          3809.37,
          3858.85,
          3869.34,
          3847.22,
          3802.36,
          3759.07,
          3721.56,
          3817.18,
          3818.63,
          3860.73,
          3922.03,
          3927.64,
          3938.86,
          3943.46,
          3910.74,
          3951.43,
          3992.97,
          4079.22,
          4096.02,
          4079.81,
          4107.96,
          4135.42,
          4107.31,
          4128.97,
          4112.09,
          4177.26,
          4201.41,
          4219.78,
          4256.9,
          4277.77,
          4253.08,
          4261.98,
          4218.7,
          4129.86,
          4124.03,
          4119.97,
          4147.59,
          4057.66,
          4017.42,
          3965.21,
          3954.53,
          3903.65,
          3906.21,
          3886.75,
          3906.03,
          3944.81,
          4022.94,
          4083.67,
          3921.28,
          3912.18,
          3888.28,
          3837.08,
          3838.5,
          3827.54,
          3789.49,
          3749.45,
          3647.47,
          3644.76,
          3623.29,
          3640.61,
          3610.4,
          3584.13
         ],
         "open": [
          4130.61,
          4159.78,
          4181.18,
          4270.43,
          4128.17,
          4081.27,
          4035.18,
          3990.08,
          3903.95,
          3963.9,
          4013.02,
          4052,
          4051.98,
          3899,
          3927.76,
          3919.42,
          3942.94,
          3929.59,
          3984.6,
          4077.43,
          4151.09,
          4149.78,
          4095.41,
          4137.57,
          4134.72,
          4096.47,
          4147.12,
          4101.65,
          3974.39,
          3838.15,
          3763.52,
          3764.05,
          3728.18,
          3665.9,
          3715.31,
          3733.89,
          3774.71,
          3821.75,
          3920.76,
          3913,
          3825.09,
          3785.99,
          3781,
          3792.61,
          3831.98,
          3858.85,
          3888.26,
          3880.94,
          3851.95,
          3779.67,
          3763.99,
          3818,
          3883.79,
          3860.73,
          3935.32,
          3955.47,
          3998.43,
          3965.72,
          3953.22,
          3951.43,
          4026.13,
          4087.33,
          4112.38,
          4104.21,
          4107.96,
          4154.85,
          4115.87,
          4155.93,
          4133.11,
          4181.02,
          4227.4,
          4225.02,
          4269.37,
          4290.46,
          4280.4,
          4273.13,
          4266.31,
          4195.08,
          4133.09,
          4126.55,
          4153.26,
          4198.74,
          4034.58,
          4041.25,
          4000.67,
          3936.73,
          3994.66,
          3930.89,
          3909.43,
          3959.94,
          4022.94,
          4083.67,
          4037.12,
          3940.73,
          3932.41,
          3880.95,
          3849.91,
          3875.23,
          3871.4,
          3782.36,
          3727.14,
          3682.72,
          3686.44,
          3651.94,
          3687.01,
          3633.48
         ],
         "showlegend": false,
         "type": "candlestick",
         "x": [
          "2022-05-02",
          "2022-05-03",
          "2022-05-04",
          "2022-05-05",
          "2022-05-06",
          "2022-05-09",
          "2022-05-10",
          "2022-05-11",
          "2022-05-12",
          "2022-05-13",
          "2022-05-16",
          "2022-05-17",
          "2022-05-18",
          "2022-05-19",
          "2022-05-20",
          "2022-05-23",
          "2022-05-24",
          "2022-05-25",
          "2022-05-26",
          "2022-05-27",
          "2022-05-31",
          "2022-06-01",
          "2022-06-02",
          "2022-06-03",
          "2022-06-06",
          "2022-06-07",
          "2022-06-08",
          "2022-06-09",
          "2022-06-10",
          "2022-06-13",
          "2022-06-14",
          "2022-06-15",
          "2022-06-16",
          "2022-06-17",
          "2022-06-21",
          "2022-06-22",
          "2022-06-23",
          "2022-06-24",
          "2022-06-27",
          "2022-06-28",
          "2022-06-29",
          "2022-06-30",
          "2022-07-01",
          "2022-07-05",
          "2022-07-06",
          "2022-07-07",
          "2022-07-08",
          "2022-07-11",
          "2022-07-12",
          "2022-07-13",
          "2022-07-14",
          "2022-07-15",
          "2022-07-18",
          "2022-07-19",
          "2022-07-20",
          "2022-07-21",
          "2022-07-22",
          "2022-07-25",
          "2022-07-26",
          "2022-07-27",
          "2022-07-28",
          "2022-07-29",
          "2022-08-01",
          "2022-08-02",
          "2022-08-03",
          "2022-08-04",
          "2022-08-05",
          "2022-08-08",
          "2022-08-09",
          "2022-08-10",
          "2022-08-11",
          "2022-08-12",
          "2022-08-15",
          "2022-08-16",
          "2022-08-17",
          "2022-08-18",
          "2022-08-19",
          "2022-08-22",
          "2022-08-23",
          "2022-08-24",
          "2022-08-25",
          "2022-08-26",
          "2022-08-29",
          "2022-08-30",
          "2022-08-31",
          "2022-09-01",
          "2022-09-02",
          "2022-09-06",
          "2022-09-07",
          "2022-09-08",
          "2022-09-09",
          "2022-09-12",
          "2022-09-13",
          "2022-09-14",
          "2022-09-15",
          "2022-09-16",
          "2022-09-19",
          "2022-09-20",
          "2022-09-21",
          "2022-09-22",
          "2022-09-23",
          "2022-09-26",
          "2022-09-27",
          "2022-09-28",
          "2022-09-29",
          "2022-09-30"
         ],
         "yaxis": "y2"
        }
       ],
       "layout": {
        "legend": {
         "bgcolor": "#151516",
         "font": {
          "color": "#D9D9D9"
         }
        },
        "paper_bgcolor": "#151516",
        "plot_bgcolor": "#151516",
        "template": {
         "data": {
          "bar": [
           {
            "error_x": {
             "color": "#2a3f5f"
            },
            "error_y": {
             "color": "#2a3f5f"
            },
            "marker": {
             "line": {
              "color": "#E5ECF6",
              "width": 0.5
             },
             "pattern": {
              "fillmode": "overlay",
              "size": 10,
              "solidity": 0.2
             }
            },
            "type": "bar"
           }
          ],
          "barpolar": [
           {
            "marker": {
             "line": {
              "color": "#E5ECF6",
              "width": 0.5
             },
             "pattern": {
              "fillmode": "overlay",
              "size": 10,
              "solidity": 0.2
             }
            },
            "type": "barpolar"
           }
          ],
          "carpet": [
           {
            "aaxis": {
             "endlinecolor": "#2a3f5f",
             "gridcolor": "white",
             "linecolor": "white",
             "minorgridcolor": "white",
             "startlinecolor": "#2a3f5f"
            },
            "baxis": {
             "endlinecolor": "#2a3f5f",
             "gridcolor": "white",
             "linecolor": "white",
             "minorgridcolor": "white",
             "startlinecolor": "#2a3f5f"
            },
            "type": "carpet"
           }
          ],
          "choropleth": [
           {
            "colorbar": {
             "outlinewidth": 0,
             "ticks": ""
            },
            "type": "choropleth"
           }
          ],
          "contour": [
           {
            "colorbar": {
             "outlinewidth": 0,
             "ticks": ""
            },
            "colorscale": [
             [
              0,
              "#0d0887"
             ],
             [
              0.1111111111111111,
              "#46039f"
             ],
             [
              0.2222222222222222,
              "#7201a8"
             ],
             [
              0.3333333333333333,
              "#9c179e"
             ],
             [
              0.4444444444444444,
              "#bd3786"
             ],
             [
              0.5555555555555556,
              "#d8576b"
             ],
             [
              0.6666666666666666,
              "#ed7953"
             ],
             [
              0.7777777777777778,
              "#fb9f3a"
             ],
             [
              0.8888888888888888,
              "#fdca26"
             ],
             [
              1,
              "#f0f921"
             ]
            ],
            "type": "contour"
           }
          ],
          "contourcarpet": [
           {
            "colorbar": {
             "outlinewidth": 0,
             "ticks": ""
            },
            "type": "contourcarpet"
           }
          ],
          "heatmap": [
           {
            "colorbar": {
             "outlinewidth": 0,
             "ticks": ""
            },
            "colorscale": [
             [
              0,
              "#0d0887"
             ],
             [
              0.1111111111111111,
              "#46039f"
             ],
             [
              0.2222222222222222,
              "#7201a8"
             ],
             [
              0.3333333333333333,
              "#9c179e"
             ],
             [
              0.4444444444444444,
              "#bd3786"
             ],
             [
              0.5555555555555556,
              "#d8576b"
             ],
             [
              0.6666666666666666,
              "#ed7953"
             ],
             [
              0.7777777777777778,
              "#fb9f3a"
             ],
             [
              0.8888888888888888,
              "#fdca26"
             ],
             [
              1,
              "#f0f921"
             ]
            ],
            "type": "heatmap"
           }
          ],
          "heatmapgl": [
           {
            "colorbar": {
             "outlinewidth": 0,
             "ticks": ""
            },
            "colorscale": [
             [
              0,
              "#0d0887"
             ],
             [
              0.1111111111111111,
              "#46039f"
             ],
             [
              0.2222222222222222,
              "#7201a8"
             ],
             [
              0.3333333333333333,
              "#9c179e"
             ],
             [
              0.4444444444444444,
              "#bd3786"
             ],
             [
              0.5555555555555556,
              "#d8576b"
             ],
             [
              0.6666666666666666,
              "#ed7953"
             ],
             [
              0.7777777777777778,
              "#fb9f3a"
             ],
             [
              0.8888888888888888,
              "#fdca26"
             ],
             [
              1,
              "#f0f921"
             ]
            ],
            "type": "heatmapgl"
           }
          ],
          "histogram": [
           {
            "marker": {
             "pattern": {
              "fillmode": "overlay",
              "size": 10,
              "solidity": 0.2
             }
            },
            "type": "histogram"
           }
          ],
          "histogram2d": [
           {
            "colorbar": {
             "outlinewidth": 0,
             "ticks": ""
            },
            "colorscale": [
             [
              0,
              "#0d0887"
             ],
             [
              0.1111111111111111,
              "#46039f"
             ],
             [
              0.2222222222222222,
              "#7201a8"
             ],
             [
              0.3333333333333333,
              "#9c179e"
             ],
             [
              0.4444444444444444,
              "#bd3786"
             ],
             [
              0.5555555555555556,
              "#d8576b"
             ],
             [
              0.6666666666666666,
              "#ed7953"
             ],
             [
              0.7777777777777778,
              "#fb9f3a"
             ],
             [
              0.8888888888888888,
              "#fdca26"
             ],
             [
              1,
              "#f0f921"
             ]
            ],
            "type": "histogram2d"
           }
          ],
          "histogram2dcontour": [
           {
            "colorbar": {
             "outlinewidth": 0,
             "ticks": ""
            },
            "colorscale": [
             [
              0,
              "#0d0887"
             ],
             [
              0.1111111111111111,
              "#46039f"
             ],
             [
              0.2222222222222222,
              "#7201a8"
             ],
             [
              0.3333333333333333,
              "#9c179e"
             ],
             [
              0.4444444444444444,
              "#bd3786"
             ],
             [
              0.5555555555555556,
              "#d8576b"
             ],
             [
              0.6666666666666666,
              "#ed7953"
             ],
             [
              0.7777777777777778,
              "#fb9f3a"
             ],
             [
              0.8888888888888888,
              "#fdca26"
             ],
             [
              1,
              "#f0f921"
             ]
            ],
            "type": "histogram2dcontour"
           }
          ],
          "mesh3d": [
           {
            "colorbar": {
             "outlinewidth": 0,
             "ticks": ""
            },
            "type": "mesh3d"
           }
          ],
          "parcoords": [
           {
            "line": {
             "colorbar": {
              "outlinewidth": 0,
              "ticks": ""
             }
            },
            "type": "parcoords"
           }
          ],
          "pie": [
           {
            "automargin": true,
            "type": "pie"
           }
          ],
          "scatter": [
           {
            "fillpattern": {
             "fillmode": "overlay",
             "size": 10,
             "solidity": 0.2
            },
            "type": "scatter"
           }
          ],
          "scatter3d": [
           {
            "line": {
             "colorbar": {
              "outlinewidth": 0,
              "ticks": ""
             }
            },
            "marker": {
             "colorbar": {
              "outlinewidth": 0,
              "ticks": ""
             }
            },
            "type": "scatter3d"
           }
          ],
          "scattercarpet": [
           {
            "marker": {
             "colorbar": {
              "outlinewidth": 0,
              "ticks": ""
             }
            },
            "type": "scattercarpet"
           }
          ],
          "scattergeo": [
           {
            "marker": {
             "colorbar": {
              "outlinewidth": 0,
              "ticks": ""
             }
            },
            "type": "scattergeo"
           }
          ],
          "scattergl": [
           {
            "marker": {
             "colorbar": {
              "outlinewidth": 0,
              "ticks": ""
             }
            },
            "type": "scattergl"
           }
          ],
          "scattermapbox": [
           {
            "marker": {
             "colorbar": {
              "outlinewidth": 0,
              "ticks": ""
             }
            },
            "type": "scattermapbox"
           }
          ],
          "scatterpolar": [
           {
            "marker": {
             "colorbar": {
              "outlinewidth": 0,
              "ticks": ""
             }
            },
            "type": "scatterpolar"
           }
          ],
          "scatterpolargl": [
           {
            "marker": {
             "colorbar": {
              "outlinewidth": 0,
              "ticks": ""
             }
            },
            "type": "scatterpolargl"
           }
          ],
          "scatterternary": [
           {
            "marker": {
             "colorbar": {
              "outlinewidth": 0,
              "ticks": ""
             }
            },
            "type": "scatterternary"
           }
          ],
          "surface": [
           {
            "colorbar": {
             "outlinewidth": 0,
             "ticks": ""
            },
            "colorscale": [
             [
              0,
              "#0d0887"
             ],
             [
              0.1111111111111111,
              "#46039f"
             ],
             [
              0.2222222222222222,
              "#7201a8"
             ],
             [
              0.3333333333333333,
              "#9c179e"
             ],
             [
              0.4444444444444444,
              "#bd3786"
             ],
             [
              0.5555555555555556,
              "#d8576b"
             ],
             [
              0.6666666666666666,
              "#ed7953"
             ],
             [
              0.7777777777777778,
              "#fb9f3a"
             ],
             [
              0.8888888888888888,
              "#fdca26"
             ],
             [
              1,
              "#f0f921"
             ]
            ],
            "type": "surface"
           }
          ],
          "table": [
           {
            "cells": {
             "fill": {
              "color": "#EBF0F8"
             },
             "line": {
              "color": "white"
             }
            },
            "header": {
             "fill": {
              "color": "#C8D4E3"
             },
             "line": {
              "color": "white"
             }
            },
            "type": "table"
           }
          ]
         },
         "layout": {
          "annotationdefaults": {
           "arrowcolor": "#2a3f5f",
           "arrowhead": 0,
           "arrowwidth": 1
          },
          "autotypenumbers": "strict",
          "coloraxis": {
           "colorbar": {
            "outlinewidth": 0,
            "ticks": ""
           }
          },
          "colorscale": {
           "diverging": [
            [
             0,
             "#8e0152"
            ],
            [
             0.1,
             "#c51b7d"
            ],
            [
             0.2,
             "#de77ae"
            ],
            [
             0.3,
             "#f1b6da"
            ],
            [
             0.4,
             "#fde0ef"
            ],
            [
             0.5,
             "#f7f7f7"
            ],
            [
             0.6,
             "#e6f5d0"
            ],
            [
             0.7,
             "#b8e186"
            ],
            [
             0.8,
             "#7fbc41"
            ],
            [
             0.9,
             "#4d9221"
            ],
            [
             1,
             "#276419"
            ]
           ],
           "sequential": [
            [
             0,
             "#0d0887"
            ],
            [
             0.1111111111111111,
             "#46039f"
            ],
            [
             0.2222222222222222,
             "#7201a8"
            ],
            [
             0.3333333333333333,
             "#9c179e"
            ],
            [
             0.4444444444444444,
             "#bd3786"
            ],
            [
             0.5555555555555556,
             "#d8576b"
            ],
            [
             0.6666666666666666,
             "#ed7953"
            ],
            [
             0.7777777777777778,
             "#fb9f3a"
            ],
            [
             0.8888888888888888,
             "#fdca26"
            ],
            [
             1,
             "#f0f921"
            ]
           ],
           "sequentialminus": [
            [
             0,
             "#0d0887"
            ],
            [
             0.1111111111111111,
             "#46039f"
            ],
            [
             0.2222222222222222,
             "#7201a8"
            ],
            [
             0.3333333333333333,
             "#9c179e"
            ],
            [
             0.4444444444444444,
             "#bd3786"
            ],
            [
             0.5555555555555556,
             "#d8576b"
            ],
            [
             0.6666666666666666,
             "#ed7953"
            ],
            [
             0.7777777777777778,
             "#fb9f3a"
            ],
            [
             0.8888888888888888,
             "#fdca26"
            ],
            [
             1,
             "#f0f921"
            ]
           ]
          },
          "colorway": [
           "#636efa",
           "#EF553B",
           "#00cc96",
           "#ab63fa",
           "#FFA15A",
           "#19d3f3",
           "#FF6692",
           "#B6E880",
           "#FF97FF",
           "#FECB52"
          ],
          "font": {
           "color": "#2a3f5f"
          },
          "geo": {
           "bgcolor": "white",
           "lakecolor": "white",
           "landcolor": "#E5ECF6",
           "showlakes": true,
           "showland": true,
           "subunitcolor": "white"
          },
          "hoverlabel": {
           "align": "left"
          },
          "hovermode": "closest",
          "mapbox": {
           "style": "light"
          },
          "paper_bgcolor": "white",
          "plot_bgcolor": "#E5ECF6",
          "polar": {
           "angularaxis": {
            "gridcolor": "white",
            "linecolor": "white",
            "ticks": ""
           },
           "bgcolor": "#E5ECF6",
           "radialaxis": {
            "gridcolor": "white",
            "linecolor": "white",
            "ticks": ""
           }
          },
          "scene": {
           "xaxis": {
            "backgroundcolor": "#E5ECF6",
            "gridcolor": "white",
            "gridwidth": 2,
            "linecolor": "white",
            "showbackground": true,
            "ticks": "",
            "zerolinecolor": "white"
           },
           "yaxis": {
            "backgroundcolor": "#E5ECF6",
            "gridcolor": "white",
            "gridwidth": 2,
            "linecolor": "white",
            "showbackground": true,
            "ticks": "",
            "zerolinecolor": "white"
           },
           "zaxis": {
            "backgroundcolor": "#E5ECF6",
            "gridcolor": "white",
            "gridwidth": 2,
            "linecolor": "white",
            "showbackground": true,
            "ticks": "",
            "zerolinecolor": "white"
           }
          },
          "shapedefaults": {
           "line": {
            "color": "#2a3f5f"
           }
          },
          "ternary": {
           "aaxis": {
            "gridcolor": "white",
            "linecolor": "white",
            "ticks": ""
           },
           "baxis": {
            "gridcolor": "white",
            "linecolor": "white",
            "ticks": ""
           },
           "bgcolor": "#E5ECF6",
           "caxis": {
            "gridcolor": "white",
            "linecolor": "white",
            "ticks": ""
           }
          },
          "title": {
           "x": 0.05
          },
          "xaxis": {
           "automargin": true,
           "gridcolor": "white",
           "linecolor": "white",
           "ticks": "",
           "title": {
            "standoff": 15
           },
           "zerolinecolor": "white",
           "zerolinewidth": 2
          },
          "yaxis": {
           "automargin": true,
           "gridcolor": "white",
           "linecolor": "white",
           "ticks": "",
           "title": {
            "standoff": 15
           },
           "zerolinecolor": "white",
           "zerolinewidth": 2
          }
         }
        },
        "title": {
         "font": {
          "color": "#D9D9D9"
         },
         "text": "SP500"
        },
        "xaxis": {
         "gridcolor": "#434343",
         "rangeslider": {
          "visible": false
         },
         "showgrid": true,
         "tickfont": {
          "color": "#C2C2C2"
         },
         "title": {
          "font": {
           "color": "#D9D9D9"
          },
          "text": "Time"
         },
         "zerolinecolor": "#666570"
        },
        "yaxis": {
         "gridcolor": "#434343",
         "showgrid": true,
         "showticklabels": false,
         "tickfont": {
          "color": "#C2C2C2"
         },
         "title": {
          "font": {
           "color": "#D9D9D9"
          },
          "text": "Stock Price"
         },
         "zerolinecolor": "#666570"
        },
        "yaxis2": {
         "gridcolor": "#434343",
         "showgrid": true,
         "tickfont": {
          "color": "#C2C2C2"
         },
         "title": {
          "font": {
           "color": "#D9D9D9"
          },
          "text": "Stock Price"
         },
         "zerolinecolor": "#666570"
        }
       }
      },
      "text/html": [
       "<div>                            <div id=\"5e3972e7-dcdf-46c3-92e6-863bd470d2aa\" class=\"plotly-graph-div\" style=\"height:525px; width:100%;\"></div>            <script type=\"text/javascript\">                require([\"plotly\"], function(Plotly) {                    window.PLOTLYENV=window.PLOTLYENV || {};\n",
       "                    window.PLOTLYENV.BASE_URL='https://plot.ly';                                    if (document.getElementById(\"5e3972e7-dcdf-46c3-92e6-863bd470d2aa\")) {                    Plotly.newPlot(                        \"5e3972e7-dcdf-46c3-92e6-863bd470d2aa\",                        [{\"close\":[4155.38,4175.48,4300.17,4146.87,4123.34,3991.24,4001.05,3935.18,3930.08,4023.89,4008.01,4088.85,3923.68,3900.79,3901.36,3973.75,3941.48,3978.73,4057.84,4158.24,4132.15,4101.23,4176.82,4108.54,4121.43,4160.68,4115.77,4017.82,3900.86,3749.63,3735.48,3789.99,3666.77,3674.84,3764.79,3759.89,3795.73,3911.74,3900.11,3821.55,3818.83,3785.38,3825.33,3831.39,3845.08,3902.62,3899.38,3854.43,3818.8,3801.78,3790.38,3863.16,3830.85,3936.69,3959.9,3998.95,3961.63,3966.84,3921.05,4023.61,4072.43,4130.29,4118.63,4091.19,4155.17,4151.94,4145.19,4140.06,4122.47,4210.24,4207.27,4280.15,4297.14,4305.2,4274.04,4283.74,4228.48,4137.99,4128.73,4140.77,4199.12,4057.66,4030.61,3986.16,3955.0,3966.85,3924.26,3908.19,3979.87,4006.18,4067.36,4110.41,3932.69,3946.01,3901.35,3873.33,3899.89,3855.93,3789.93,3757.99,3693.23,3655.04,3647.29,3719.04,3640.47,3585.62],\"high\":[4169.81,4200.1,4307.66,4270.43,4157.69,4081.27,4068.82,4049.09,3964.8,4038.88,4046.46,4090.72,4051.98,3945.96,3943.42,3981.88,3955.68,3999.33,4075.14,4158.49,4168.34,4166.54,4177.51,4142.67,4168.78,4164.86,4160.14,4119.1,3974.39,3838.15,3778.18,3837.56,3728.18,3707.71,3779.65,3801.79,3802.58,3913.65,3927.72,3945.86,3836.5,3818.99,3829.82,3832.19,3870.91,3910.63,3918.5,3880.94,3873.41,3829.44,3796.41,3863.62,3902.44,3939.81,3974.13,3999.29,4012.44,3975.3,3953.22,4039.56,4078.95,4140.15,4144.95,4140.47,4167.66,4161.29,4151.58,4186.62,4137.3,4211.03,4257.91,4280.47,4301.79,4325.28,4302.18,4292.53,4266.31,4195.08,4159.77,4156.56,4200.54,4203.04,4062.99,4044.98,4015.37,3970.23,4018.43,3942.55,3987.89,4010.5,4076.81,4119.28,4037.12,3961.94,3959.14,3880.95,3900.45,3876.01,3907.07,3790.9,3727.14,3715.67,3717.53,3736.74,3687.01,3671.44],\"low\":[4062.51,4147.08,4148.91,4106.01,4067.91,3975.48,3958.17,3928.82,3858.87,3963.9,3983.99,4033.93,3911.91,3876.58,3810.32,3909.04,3875.13,3925.03,3984.6,4077.43,4104.88,4073.85,4074.37,4098.67,4109.18,4080.19,4107.2,4017.17,3900.16,3734.3,3705.68,3722.3,3639.77,3636.87,3715.31,3717.69,3743.52,3821.75,3889.66,3820.14,3799.02,3738.67,3752.1,3742.06,3809.37,3858.85,3869.34,3847.22,3802.36,3759.07,3721.56,3817.18,3818.63,3860.73,3922.03,3927.64,3938.86,3943.46,3910.74,3951.43,3992.97,4079.22,4096.02,4079.81,4107.96,4135.42,4107.31,4128.97,4112.09,4177.26,4201.41,4219.78,4256.9,4277.77,4253.08,4261.98,4218.7,4129.86,4124.03,4119.97,4147.59,4057.66,4017.42,3965.21,3954.53,3903.65,3906.21,3886.75,3906.03,3944.81,4022.94,4083.67,3921.28,3912.18,3888.28,3837.08,3838.5,3827.54,3789.49,3749.45,3647.47,3644.76,3623.29,3640.61,3610.4,3584.13],\"open\":[4130.61,4159.78,4181.18,4270.43,4128.17,4081.27,4035.18,3990.08,3903.95,3963.9,4013.02,4052.0,4051.98,3899.0,3927.76,3919.42,3942.94,3929.59,3984.6,4077.43,4151.09,4149.78,4095.41,4137.57,4134.72,4096.47,4147.12,4101.65,3974.39,3838.15,3763.52,3764.05,3728.18,3665.9,3715.31,3733.89,3774.71,3821.75,3920.76,3913.0,3825.09,3785.99,3781.0,3792.61,3831.98,3858.85,3888.26,3880.94,3851.95,3779.67,3763.99,3818.0,3883.79,3860.73,3935.32,3955.47,3998.43,3965.72,3953.22,3951.43,4026.13,4087.33,4112.38,4104.21,4107.96,4154.85,4115.87,4155.93,4133.11,4181.02,4227.4,4225.02,4269.37,4290.46,4280.4,4273.13,4266.31,4195.08,4133.09,4126.55,4153.26,4198.74,4034.58,4041.25,4000.67,3936.73,3994.66,3930.89,3909.43,3959.94,4022.94,4083.67,4037.12,3940.73,3932.41,3880.95,3849.91,3875.23,3871.4,3782.36,3727.14,3682.72,3686.44,3651.94,3687.01,3633.48],\"showlegend\":false,\"x\":[\"2022-05-02\",\"2022-05-03\",\"2022-05-04\",\"2022-05-05\",\"2022-05-06\",\"2022-05-09\",\"2022-05-10\",\"2022-05-11\",\"2022-05-12\",\"2022-05-13\",\"2022-05-16\",\"2022-05-17\",\"2022-05-18\",\"2022-05-19\",\"2022-05-20\",\"2022-05-23\",\"2022-05-24\",\"2022-05-25\",\"2022-05-26\",\"2022-05-27\",\"2022-05-31\",\"2022-06-01\",\"2022-06-02\",\"2022-06-03\",\"2022-06-06\",\"2022-06-07\",\"2022-06-08\",\"2022-06-09\",\"2022-06-10\",\"2022-06-13\",\"2022-06-14\",\"2022-06-15\",\"2022-06-16\",\"2022-06-17\",\"2022-06-21\",\"2022-06-22\",\"2022-06-23\",\"2022-06-24\",\"2022-06-27\",\"2022-06-28\",\"2022-06-29\",\"2022-06-30\",\"2022-07-01\",\"2022-07-05\",\"2022-07-06\",\"2022-07-07\",\"2022-07-08\",\"2022-07-11\",\"2022-07-12\",\"2022-07-13\",\"2022-07-14\",\"2022-07-15\",\"2022-07-18\",\"2022-07-19\",\"2022-07-20\",\"2022-07-21\",\"2022-07-22\",\"2022-07-25\",\"2022-07-26\",\"2022-07-27\",\"2022-07-28\",\"2022-07-29\",\"2022-08-01\",\"2022-08-02\",\"2022-08-03\",\"2022-08-04\",\"2022-08-05\",\"2022-08-08\",\"2022-08-09\",\"2022-08-10\",\"2022-08-11\",\"2022-08-12\",\"2022-08-15\",\"2022-08-16\",\"2022-08-17\",\"2022-08-18\",\"2022-08-19\",\"2022-08-22\",\"2022-08-23\",\"2022-08-24\",\"2022-08-25\",\"2022-08-26\",\"2022-08-29\",\"2022-08-30\",\"2022-08-31\",\"2022-09-01\",\"2022-09-02\",\"2022-09-06\",\"2022-09-07\",\"2022-09-08\",\"2022-09-09\",\"2022-09-12\",\"2022-09-13\",\"2022-09-14\",\"2022-09-15\",\"2022-09-16\",\"2022-09-19\",\"2022-09-20\",\"2022-09-21\",\"2022-09-22\",\"2022-09-23\",\"2022-09-26\",\"2022-09-27\",\"2022-09-28\",\"2022-09-29\",\"2022-09-30\"],\"yaxis\":\"y2\",\"type\":\"candlestick\"}],                        {\"legend\":{\"bgcolor\":\"#151516\",\"font\":{\"color\":\"#D9D9D9\"}},\"paper_bgcolor\":\"#151516\",\"plot_bgcolor\":\"#151516\",\"template\":{\"data\":{\"barpolar\":[{\"marker\":{\"line\":{\"color\":\"#E5ECF6\",\"width\":0.5},\"pattern\":{\"fillmode\":\"overlay\",\"size\":10,\"solidity\":0.2}},\"type\":\"barpolar\"}],\"bar\":[{\"error_x\":{\"color\":\"#2a3f5f\"},\"error_y\":{\"color\":\"#2a3f5f\"},\"marker\":{\"line\":{\"color\":\"#E5ECF6\",\"width\":0.5},\"pattern\":{\"fillmode\":\"overlay\",\"size\":10,\"solidity\":0.2}},\"type\":\"bar\"}],\"carpet\":[{\"aaxis\":{\"endlinecolor\":\"#2a3f5f\",\"gridcolor\":\"white\",\"linecolor\":\"white\",\"minorgridcolor\":\"white\",\"startlinecolor\":\"#2a3f5f\"},\"baxis\":{\"endlinecolor\":\"#2a3f5f\",\"gridcolor\":\"white\",\"linecolor\":\"white\",\"minorgridcolor\":\"white\",\"startlinecolor\":\"#2a3f5f\"},\"type\":\"carpet\"}],\"choropleth\":[{\"colorbar\":{\"outlinewidth\":0,\"ticks\":\"\"},\"type\":\"choropleth\"}],\"contourcarpet\":[{\"colorbar\":{\"outlinewidth\":0,\"ticks\":\"\"},\"type\":\"contourcarpet\"}],\"contour\":[{\"colorbar\":{\"outlinewidth\":0,\"ticks\":\"\"},\"colorscale\":[[0.0,\"#0d0887\"],[0.1111111111111111,\"#46039f\"],[0.2222222222222222,\"#7201a8\"],[0.3333333333333333,\"#9c179e\"],[0.4444444444444444,\"#bd3786\"],[0.5555555555555556,\"#d8576b\"],[0.6666666666666666,\"#ed7953\"],[0.7777777777777778,\"#fb9f3a\"],[0.8888888888888888,\"#fdca26\"],[1.0,\"#f0f921\"]],\"type\":\"contour\"}],\"heatmapgl\":[{\"colorbar\":{\"outlinewidth\":0,\"ticks\":\"\"},\"colorscale\":[[0.0,\"#0d0887\"],[0.1111111111111111,\"#46039f\"],[0.2222222222222222,\"#7201a8\"],[0.3333333333333333,\"#9c179e\"],[0.4444444444444444,\"#bd3786\"],[0.5555555555555556,\"#d8576b\"],[0.6666666666666666,\"#ed7953\"],[0.7777777777777778,\"#fb9f3a\"],[0.8888888888888888,\"#fdca26\"],[1.0,\"#f0f921\"]],\"type\":\"heatmapgl\"}],\"heatmap\":[{\"colorbar\":{\"outlinewidth\":0,\"ticks\":\"\"},\"colorscale\":[[0.0,\"#0d0887\"],[0.1111111111111111,\"#46039f\"],[0.2222222222222222,\"#7201a8\"],[0.3333333333333333,\"#9c179e\"],[0.4444444444444444,\"#bd3786\"],[0.5555555555555556,\"#d8576b\"],[0.6666666666666666,\"#ed7953\"],[0.7777777777777778,\"#fb9f3a\"],[0.8888888888888888,\"#fdca26\"],[1.0,\"#f0f921\"]],\"type\":\"heatmap\"}],\"histogram2dcontour\":[{\"colorbar\":{\"outlinewidth\":0,\"ticks\":\"\"},\"colorscale\":[[0.0,\"#0d0887\"],[0.1111111111111111,\"#46039f\"],[0.2222222222222222,\"#7201a8\"],[0.3333333333333333,\"#9c179e\"],[0.4444444444444444,\"#bd3786\"],[0.5555555555555556,\"#d8576b\"],[0.6666666666666666,\"#ed7953\"],[0.7777777777777778,\"#fb9f3a\"],[0.8888888888888888,\"#fdca26\"],[1.0,\"#f0f921\"]],\"type\":\"histogram2dcontour\"}],\"histogram2d\":[{\"colorbar\":{\"outlinewidth\":0,\"ticks\":\"\"},\"colorscale\":[[0.0,\"#0d0887\"],[0.1111111111111111,\"#46039f\"],[0.2222222222222222,\"#7201a8\"],[0.3333333333333333,\"#9c179e\"],[0.4444444444444444,\"#bd3786\"],[0.5555555555555556,\"#d8576b\"],[0.6666666666666666,\"#ed7953\"],[0.7777777777777778,\"#fb9f3a\"],[0.8888888888888888,\"#fdca26\"],[1.0,\"#f0f921\"]],\"type\":\"histogram2d\"}],\"histogram\":[{\"marker\":{\"pattern\":{\"fillmode\":\"overlay\",\"size\":10,\"solidity\":0.2}},\"type\":\"histogram\"}],\"mesh3d\":[{\"colorbar\":{\"outlinewidth\":0,\"ticks\":\"\"},\"type\":\"mesh3d\"}],\"parcoords\":[{\"line\":{\"colorbar\":{\"outlinewidth\":0,\"ticks\":\"\"}},\"type\":\"parcoords\"}],\"pie\":[{\"automargin\":true,\"type\":\"pie\"}],\"scatter3d\":[{\"line\":{\"colorbar\":{\"outlinewidth\":0,\"ticks\":\"\"}},\"marker\":{\"colorbar\":{\"outlinewidth\":0,\"ticks\":\"\"}},\"type\":\"scatter3d\"}],\"scattercarpet\":[{\"marker\":{\"colorbar\":{\"outlinewidth\":0,\"ticks\":\"\"}},\"type\":\"scattercarpet\"}],\"scattergeo\":[{\"marker\":{\"colorbar\":{\"outlinewidth\":0,\"ticks\":\"\"}},\"type\":\"scattergeo\"}],\"scattergl\":[{\"marker\":{\"colorbar\":{\"outlinewidth\":0,\"ticks\":\"\"}},\"type\":\"scattergl\"}],\"scattermapbox\":[{\"marker\":{\"colorbar\":{\"outlinewidth\":0,\"ticks\":\"\"}},\"type\":\"scattermapbox\"}],\"scatterpolargl\":[{\"marker\":{\"colorbar\":{\"outlinewidth\":0,\"ticks\":\"\"}},\"type\":\"scatterpolargl\"}],\"scatterpolar\":[{\"marker\":{\"colorbar\":{\"outlinewidth\":0,\"ticks\":\"\"}},\"type\":\"scatterpolar\"}],\"scatter\":[{\"fillpattern\":{\"fillmode\":\"overlay\",\"size\":10,\"solidity\":0.2},\"type\":\"scatter\"}],\"scatterternary\":[{\"marker\":{\"colorbar\":{\"outlinewidth\":0,\"ticks\":\"\"}},\"type\":\"scatterternary\"}],\"surface\":[{\"colorbar\":{\"outlinewidth\":0,\"ticks\":\"\"},\"colorscale\":[[0.0,\"#0d0887\"],[0.1111111111111111,\"#46039f\"],[0.2222222222222222,\"#7201a8\"],[0.3333333333333333,\"#9c179e\"],[0.4444444444444444,\"#bd3786\"],[0.5555555555555556,\"#d8576b\"],[0.6666666666666666,\"#ed7953\"],[0.7777777777777778,\"#fb9f3a\"],[0.8888888888888888,\"#fdca26\"],[1.0,\"#f0f921\"]],\"type\":\"surface\"}],\"table\":[{\"cells\":{\"fill\":{\"color\":\"#EBF0F8\"},\"line\":{\"color\":\"white\"}},\"header\":{\"fill\":{\"color\":\"#C8D4E3\"},\"line\":{\"color\":\"white\"}},\"type\":\"table\"}]},\"layout\":{\"annotationdefaults\":{\"arrowcolor\":\"#2a3f5f\",\"arrowhead\":0,\"arrowwidth\":1},\"autotypenumbers\":\"strict\",\"coloraxis\":{\"colorbar\":{\"outlinewidth\":0,\"ticks\":\"\"}},\"colorscale\":{\"diverging\":[[0,\"#8e0152\"],[0.1,\"#c51b7d\"],[0.2,\"#de77ae\"],[0.3,\"#f1b6da\"],[0.4,\"#fde0ef\"],[0.5,\"#f7f7f7\"],[0.6,\"#e6f5d0\"],[0.7,\"#b8e186\"],[0.8,\"#7fbc41\"],[0.9,\"#4d9221\"],[1,\"#276419\"]],\"sequential\":[[0.0,\"#0d0887\"],[0.1111111111111111,\"#46039f\"],[0.2222222222222222,\"#7201a8\"],[0.3333333333333333,\"#9c179e\"],[0.4444444444444444,\"#bd3786\"],[0.5555555555555556,\"#d8576b\"],[0.6666666666666666,\"#ed7953\"],[0.7777777777777778,\"#fb9f3a\"],[0.8888888888888888,\"#fdca26\"],[1.0,\"#f0f921\"]],\"sequentialminus\":[[0.0,\"#0d0887\"],[0.1111111111111111,\"#46039f\"],[0.2222222222222222,\"#7201a8\"],[0.3333333333333333,\"#9c179e\"],[0.4444444444444444,\"#bd3786\"],[0.5555555555555556,\"#d8576b\"],[0.6666666666666666,\"#ed7953\"],[0.7777777777777778,\"#fb9f3a\"],[0.8888888888888888,\"#fdca26\"],[1.0,\"#f0f921\"]]},\"colorway\":[\"#636efa\",\"#EF553B\",\"#00cc96\",\"#ab63fa\",\"#FFA15A\",\"#19d3f3\",\"#FF6692\",\"#B6E880\",\"#FF97FF\",\"#FECB52\"],\"font\":{\"color\":\"#2a3f5f\"},\"geo\":{\"bgcolor\":\"white\",\"lakecolor\":\"white\",\"landcolor\":\"#E5ECF6\",\"showlakes\":true,\"showland\":true,\"subunitcolor\":\"white\"},\"hoverlabel\":{\"align\":\"left\"},\"hovermode\":\"closest\",\"mapbox\":{\"style\":\"light\"},\"paper_bgcolor\":\"white\",\"plot_bgcolor\":\"#E5ECF6\",\"polar\":{\"angularaxis\":{\"gridcolor\":\"white\",\"linecolor\":\"white\",\"ticks\":\"\"},\"bgcolor\":\"#E5ECF6\",\"radialaxis\":{\"gridcolor\":\"white\",\"linecolor\":\"white\",\"ticks\":\"\"}},\"scene\":{\"xaxis\":{\"backgroundcolor\":\"#E5ECF6\",\"gridcolor\":\"white\",\"gridwidth\":2,\"linecolor\":\"white\",\"showbackground\":true,\"ticks\":\"\",\"zerolinecolor\":\"white\"},\"yaxis\":{\"backgroundcolor\":\"#E5ECF6\",\"gridcolor\":\"white\",\"gridwidth\":2,\"linecolor\":\"white\",\"showbackground\":true,\"ticks\":\"\",\"zerolinecolor\":\"white\"},\"zaxis\":{\"backgroundcolor\":\"#E5ECF6\",\"gridcolor\":\"white\",\"gridwidth\":2,\"linecolor\":\"white\",\"showbackground\":true,\"ticks\":\"\",\"zerolinecolor\":\"white\"}},\"shapedefaults\":{\"line\":{\"color\":\"#2a3f5f\"}},\"ternary\":{\"aaxis\":{\"gridcolor\":\"white\",\"linecolor\":\"white\",\"ticks\":\"\"},\"baxis\":{\"gridcolor\":\"white\",\"linecolor\":\"white\",\"ticks\":\"\"},\"bgcolor\":\"#E5ECF6\",\"caxis\":{\"gridcolor\":\"white\",\"linecolor\":\"white\",\"ticks\":\"\"}},\"title\":{\"x\":0.05},\"xaxis\":{\"automargin\":true,\"gridcolor\":\"white\",\"linecolor\":\"white\",\"ticks\":\"\",\"title\":{\"standoff\":15},\"zerolinecolor\":\"white\",\"zerolinewidth\":2},\"yaxis\":{\"automargin\":true,\"gridcolor\":\"white\",\"linecolor\":\"white\",\"ticks\":\"\",\"title\":{\"standoff\":15},\"zerolinecolor\":\"white\",\"zerolinewidth\":2}}},\"title\":{\"font\":{\"color\":\"#D9D9D9\"},\"text\":\"SP500\"},\"xaxis\":{\"gridcolor\":\"#434343\",\"rangeslider\":{\"visible\":false},\"showgrid\":true,\"tickfont\":{\"color\":\"#C2C2C2\"},\"title\":{\"font\":{\"color\":\"#D9D9D9\"},\"text\":\"Time\"},\"zerolinecolor\":\"#666570\"},\"yaxis\":{\"gridcolor\":\"#434343\",\"showgrid\":true,\"showticklabels\":false,\"tickfont\":{\"color\":\"#C2C2C2\"},\"title\":{\"font\":{\"color\":\"#D9D9D9\"},\"text\":\"Stock Price\"},\"zerolinecolor\":\"#666570\"},\"yaxis2\":{\"gridcolor\":\"#434343\",\"showgrid\":true,\"tickfont\":{\"color\":\"#C2C2C2\"},\"title\":{\"font\":{\"color\":\"#D9D9D9\"},\"text\":\"Stock Price\"},\"zerolinecolor\":\"#666570\"}},                        {\"showLink\": true, \"linkText\": \"Export to plot.ly\", \"plotlyServerURL\": \"https://plot.ly\", \"responsive\": true}                    ).then(function(){\n",
       "                            \n",
       "var gd = document.getElementById('5e3972e7-dcdf-46c3-92e6-863bd470d2aa');\n",
       "var x = new MutationObserver(function (mutations, observer) {{\n",
       "        var display = window.getComputedStyle(gd).display;\n",
       "        if (!display || display === 'none') {{\n",
       "            console.log([gd, 'removed!']);\n",
       "            Plotly.purge(gd);\n",
       "            observer.disconnect();\n",
       "        }}\n",
       "}});\n",
       "\n",
       "// Listen for the removal of the full notebook cells\n",
       "var notebookContainer = gd.closest('#notebook-container');\n",
       "if (notebookContainer) {{\n",
       "    x.observe(notebookContainer, {childList: true});\n",
       "}}\n",
       "\n",
       "// Listen for the clearing of the current output cell\n",
       "var outputEl = gd.closest('.output');\n",
       "if (outputEl) {{\n",
       "    x.observe(outputEl, {childList: true});\n",
       "}}\n",
       "\n",
       "                        })                };                });            </script>        </div>"
      ]
     },
     "metadata": {},
     "output_type": "display_data"
    }
   ],
   "source": [
    "# Load one of the indices and clean the data\n",
    "\n",
    "\n",
    "index_path = './DATA/INDICES/SP_OHLCV.csv'\n",
    "def load_index(path):\n",
    "    \n",
    "    df = pd.read_csv(path, parse_dates=True, infer_datetime_format=True, index_col=\"Date\" )\n",
    "    df['Return'] = df.Close.pct_change().dropna()\n",
    "\n",
    " \n",
    "    # dropna's and display data     \n",
    "    df.dropna(inplace=True)\n",
    "    print(df.shape)\n",
    "    print('Data loaded')\n",
    "    display(df.head(3))\n",
    "    display(df.tail(3))\n",
    "    \n",
    "    return df\n",
    "\n",
    "df_SP = load_index(index_path)\n",
    "df_SP.loc[\"5-2022\":\"9-2022\"].iplot(kind=\"candle\",fill = True, colorscale=\"paired\", theme=\"solar\",\n",
    "              title=\"SP500\", xTitle= \"Time\", yTitle= \"Stock Price\");"
   ]
  },
  {
   "cell_type": "code",
   "execution_count": 4,
   "id": "df239da6",
   "metadata": {},
   "outputs": [
    {
     "name": "stdout",
     "output_type": "stream",
     "text": [
      "<class 'pandas.core.frame.DataFrame'>\n",
      "DatetimeIndex: 3025 entries, 2010-10-06 to 2022-09-30\n",
      "Data columns (total 6 columns):\n",
      " #   Column  Non-Null Count  Dtype  \n",
      "---  ------  --------------  -----  \n",
      " 0   Open    3025 non-null   float64\n",
      " 1   High    3025 non-null   float64\n",
      " 2   Low     3025 non-null   float64\n",
      " 3   Close   3025 non-null   float64\n",
      " 4   Volume  3025 non-null   int64  \n",
      " 5   Return  3025 non-null   float64\n",
      "dtypes: float64(5), int64(1)\n",
      "memory usage: 230.0 KB\n"
     ]
    }
   ],
   "source": [
    "# check info\n",
    "df_SP.info()"
   ]
  },
  {
   "cell_type": "code",
   "execution_count": 5,
   "id": "b03fbb33",
   "metadata": {},
   "outputs": [
    {
     "data": {
      "text/plain": [
       "Open      0\n",
       "High      0\n",
       "Low       0\n",
       "Close     0\n",
       "Volume    0\n",
       "Return    0\n",
       "dtype: int64"
      ]
     },
     "execution_count": 5,
     "metadata": {},
     "output_type": "execute_result"
    }
   ],
   "source": [
    "# check missing value \n",
    "df_SP.isna().sum()"
   ]
  },
  {
   "cell_type": "markdown",
   "id": "ba275e0f",
   "metadata": {},
   "source": [
    "# Step 2\n",
    "## Check for Stationarity \n",
    "1. A Stationary in time series is one whose mean and variance does not change over time\n",
    "2. perform augmentation testing Dickey-Fuller Test (ADF Test)\n",
    "- Ho (Null Hypothesis): The time series data is non-stationary\n",
    "- H1 (alternate Hypothesis): The time series data is stationary\n",
    "- p-value > 0.05: Fail to reject the null hypothesis (H0), the data has a unit root and is non-stationary.\n",
    "- p-value <= 0.05: Reject the null hypothesis (H0), the data does not have a unit root and is stationary.\n",
    "\n"
   ]
  },
  {
   "cell_type": "code",
   "execution_count": 6,
   "id": "6aad57e7",
   "metadata": {},
   "outputs": [
    {
     "data": {
      "text/html": [
       "<div>\n",
       "<style scoped>\n",
       "    .dataframe tbody tr th:only-of-type {\n",
       "        vertical-align: middle;\n",
       "    }\n",
       "\n",
       "    .dataframe tbody tr th {\n",
       "        vertical-align: top;\n",
       "    }\n",
       "\n",
       "    .dataframe thead th {\n",
       "        text-align: right;\n",
       "    }\n",
       "</style>\n",
       "<table border=\"1\" class=\"dataframe\">\n",
       "  <thead>\n",
       "    <tr style=\"text-align: right;\">\n",
       "      <th></th>\n",
       "      <th>log_Open</th>\n",
       "      <th>log_High</th>\n",
       "      <th>log_Low</th>\n",
       "      <th>log_Close</th>\n",
       "      <th>log_volume</th>\n",
       "      <th>log_Return</th>\n",
       "    </tr>\n",
       "    <tr>\n",
       "      <th>Date</th>\n",
       "      <th></th>\n",
       "      <th></th>\n",
       "      <th></th>\n",
       "      <th></th>\n",
       "      <th></th>\n",
       "      <th></th>\n",
       "    </tr>\n",
       "  </thead>\n",
       "  <tbody>\n",
       "    <tr>\n",
       "      <th>2010-10-11</th>\n",
       "      <td>0.005991</td>\n",
       "      <td>0.000813</td>\n",
       "      <td>0.005557</td>\n",
       "      <td>0.000146</td>\n",
       "      <td>-0.434973</td>\n",
       "      <td>-3.736746</td>\n",
       "    </tr>\n",
       "    <tr>\n",
       "      <th>2010-10-12</th>\n",
       "      <td>-0.000893</td>\n",
       "      <td>0.003332</td>\n",
       "      <td>-0.005445</td>\n",
       "      <td>0.003811</td>\n",
       "      <td>0.486510</td>\n",
       "      <td>3.264715</td>\n",
       "    </tr>\n",
       "    <tr>\n",
       "      <th>2010-10-13</th>\n",
       "      <td>0.006028</td>\n",
       "      <td>0.010013</td>\n",
       "      <td>0.013416</td>\n",
       "      <td>0.007096</td>\n",
       "      <td>0.198143</td>\n",
       "      <td>0.623148</td>\n",
       "    </tr>\n",
       "    <tr>\n",
       "      <th>2010-10-18</th>\n",
       "      <td>-0.000544</td>\n",
       "      <td>0.003659</td>\n",
       "      <td>0.006346</td>\n",
       "      <td>0.007218</td>\n",
       "      <td>-0.251912</td>\n",
       "      <td>1.273290</td>\n",
       "    </tr>\n",
       "    <tr>\n",
       "      <th>2010-10-21</th>\n",
       "      <td>0.011148</td>\n",
       "      <td>0.005471</td>\n",
       "      <td>0.003790</td>\n",
       "      <td>0.001772</td>\n",
       "      <td>-0.083420</td>\n",
       "      <td>-1.780462</td>\n",
       "    </tr>\n",
       "  </tbody>\n",
       "</table>\n",
       "</div>"
      ],
      "text/plain": [
       "            log_Open  log_High   log_Low  log_Close  log_volume  log_Return\n",
       "Date                                                                       \n",
       "2010-10-11  0.005991  0.000813  0.005557   0.000146   -0.434973   -3.736746\n",
       "2010-10-12 -0.000893  0.003332 -0.005445   0.003811    0.486510    3.264715\n",
       "2010-10-13  0.006028  0.010013  0.013416   0.007096    0.198143    0.623148\n",
       "2010-10-18 -0.000544  0.003659  0.006346   0.007218   -0.251912    1.273290\n",
       "2010-10-21  0.011148  0.005471  0.003790   0.001772   -0.083420   -1.780462"
      ]
     },
     "metadata": {},
     "output_type": "display_data"
    },
    {
     "data": {
      "application/vnd.plotly.v1+json": {
       "config": {
        "linkText": "Export to plot.ly",
        "plotlyServerURL": "https://plot.ly",
        "showLink": true
       },
       "data": [
        {
         "fill": "tozeroy",
         "fillcolor": "rgba(0, 128, 240, 0.3)",
         "line": {
          "color": "rgba(0, 128, 240, 1.0)",
          "dash": "solid",
          "shape": "linear",
          "width": 1.3
         },
         "mode": "lines",
         "name": "log_Close",
         "text": "",
         "type": "scatter",
         "x": [
          "2010-10-11",
          "2010-10-12",
          "2010-10-13",
          "2010-10-18",
          "2010-10-21",
          "2010-10-22",
          "2010-10-25",
          "2010-10-26",
          "2010-11-02",
          "2010-11-03",
          "2010-11-04",
          "2010-11-05",
          "2010-11-18",
          "2010-11-19",
          "2010-12-02",
          "2010-12-03",
          "2010-12-08",
          "2010-12-09",
          "2010-12-10",
          "2010-12-13",
          "2010-12-14",
          "2010-12-17",
          "2010-12-20",
          "2010-12-21",
          "2010-12-22",
          "2010-12-28",
          "2010-12-29",
          "2011-01-12",
          "2011-01-18",
          "2011-01-24",
          "2011-01-25",
          "2011-01-26",
          "2011-01-27",
          "2011-02-01",
          "2011-02-04",
          "2011-02-07",
          "2011-02-08",
          "2011-02-11",
          "2011-02-14",
          "2011-02-17",
          "2011-02-18",
          "2011-02-28",
          "2011-03-04",
          "2011-03-18",
          "2011-03-21",
          "2011-03-22",
          "2011-03-25",
          "2011-03-28",
          "2011-04-04",
          "2011-04-20",
          "2011-04-21",
          "2011-04-27",
          "2011-04-28",
          "2011-04-29",
          "2011-05-02",
          "2011-05-11",
          "2011-05-19",
          "2011-05-27",
          "2011-05-31",
          "2011-06-10",
          "2011-06-22",
          "2011-06-29",
          "2011-06-30",
          "2011-07-01",
          "2011-07-05",
          "2011-07-14",
          "2011-07-20",
          "2011-07-21",
          "2011-07-22",
          "2011-08-15",
          "2011-08-16",
          "2011-08-17",
          "2011-08-25",
          "2011-08-30",
          "2011-08-31",
          "2011-09-08",
          "2011-09-14",
          "2011-09-15",
          "2011-09-16",
          "2011-09-27",
          "2011-10-05",
          "2011-10-06",
          "2011-10-11",
          "2011-10-12",
          "2011-10-21",
          "2011-10-24",
          "2011-10-27",
          "2011-10-28",
          "2011-11-03",
          "2011-11-08",
          "2011-11-11",
          "2011-11-29",
          "2011-11-30",
          "2011-12-06",
          "2011-12-07",
          "2011-12-16",
          "2011-12-21",
          "2011-12-22",
          "2011-12-23",
          "2011-12-27",
          "2012-01-04",
          "2012-01-05",
          "2012-01-10",
          "2012-01-11",
          "2012-01-12",
          "2012-01-18",
          "2012-01-19",
          "2012-01-20",
          "2012-01-23",
          "2012-02-02",
          "2012-02-03",
          "2012-02-08",
          "2012-02-09",
          "2012-02-17",
          "2012-02-21",
          "2012-02-24",
          "2012-02-27",
          "2012-02-28",
          "2012-03-08",
          "2012-03-09",
          "2012-03-12",
          "2012-03-13",
          "2012-03-16",
          "2012-03-19",
          "2012-03-26",
          "2012-04-02",
          "2012-04-12",
          "2012-04-25",
          "2012-04-26",
          "2012-04-27",
          "2012-05-22",
          "2012-05-23",
          "2012-05-24",
          "2012-06-05",
          "2012-06-06",
          "2012-06-15",
          "2012-06-18",
          "2012-06-19",
          "2012-06-27",
          "2012-07-02",
          "2012-07-03",
          "2012-07-04",
          "2012-07-18",
          "2012-07-19",
          "2012-07-27",
          "2012-08-06",
          "2012-08-07",
          "2012-08-08",
          "2012-08-09",
          "2012-08-10",
          "2012-08-16",
          "2012-08-17",
          "2012-09-03",
          "2012-09-07",
          "2012-09-12",
          "2012-09-13",
          "2012-09-14",
          "2012-10-02",
          "2012-10-03",
          "2012-10-04",
          "2012-10-16",
          "2012-10-17",
          "2012-10-31",
          "2012-11-01",
          "2012-11-06",
          "2012-11-12",
          "2012-11-19",
          "2012-11-22",
          "2012-11-23",
          "2012-11-29",
          "2012-11-30",
          "2012-12-06",
          "2012-12-07",
          "2012-12-10",
          "2012-12-11",
          "2012-12-12",
          "2012-12-18",
          "2013-01-01",
          "2013-01-02",
          "2013-01-10",
          "2013-01-16",
          "2013-01-17",
          "2013-01-18",
          "2013-01-21",
          "2013-01-22",
          "2013-01-23",
          "2013-01-24",
          "2013-01-25",
          "2013-02-06",
          "2013-02-13",
          "2013-02-14",
          "2013-02-27",
          "2013-03-04",
          "2013-03-05",
          "2013-03-06",
          "2013-03-07",
          "2013-03-08",
          "2013-03-11",
          "2013-03-14",
          "2013-04-09",
          "2013-04-10",
          "2013-04-11",
          "2013-04-22",
          "2013-04-23",
          "2013-04-24",
          "2013-04-25",
          "2013-04-30",
          "2013-05-03",
          "2013-05-06",
          "2013-05-07",
          "2013-05-08",
          "2013-05-13",
          "2013-05-14",
          "2013-05-15",
          "2013-05-20",
          "2013-05-21",
          "2013-06-07",
          "2013-06-18",
          "2013-06-26",
          "2013-06-27",
          "2013-07-05",
          "2013-07-08",
          "2013-07-09",
          "2013-07-10",
          "2013-07-11",
          "2013-07-12",
          "2013-07-15",
          "2013-07-18",
          "2013-07-19",
          "2013-07-22",
          "2013-07-26",
          "2013-08-02",
          "2013-08-23",
          "2013-08-29",
          "2013-09-04",
          "2013-09-05",
          "2013-09-06",
          "2013-09-09",
          "2013-09-10",
          "2013-09-11",
          "2013-09-16",
          "2013-09-17",
          "2013-09-18",
          "2013-10-10",
          "2013-10-11",
          "2013-10-14",
          "2013-10-17",
          "2013-10-18",
          "2013-10-21",
          "2013-10-22",
          "2013-10-25",
          "2013-10-28",
          "2013-10-29",
          "2013-11-04",
          "2013-11-11",
          "2013-11-14",
          "2013-11-15",
          "2013-11-22",
          "2013-11-27",
          "2013-12-09",
          "2013-12-23",
          "2013-12-24",
          "2013-12-26",
          "2014-01-10",
          "2014-01-15",
          "2014-01-22",
          "2014-02-07",
          "2014-02-10",
          "2014-02-11",
          "2014-02-14",
          "2014-02-18",
          "2014-02-27",
          "2014-02-28",
          "2014-03-07",
          "2014-03-18",
          "2014-03-31",
          "2014-04-01",
          "2014-04-02",
          "2014-04-09",
          "2014-04-15",
          "2014-04-16",
          "2014-04-17",
          "2014-04-21",
          "2014-04-22",
          "2014-04-29",
          "2014-04-30",
          "2014-05-12",
          "2014-05-13",
          "2014-05-19",
          "2014-05-22",
          "2014-05-23",
          "2014-05-27",
          "2014-05-30",
          "2014-06-02",
          "2014-06-05",
          "2014-06-06",
          "2014-06-09",
          "2014-06-16",
          "2014-06-17",
          "2014-06-18",
          "2014-06-19",
          "2014-06-20",
          "2014-07-02",
          "2014-07-03",
          "2014-07-14",
          "2014-07-23",
          "2014-07-24",
          "2014-08-11",
          "2014-08-14",
          "2014-08-19",
          "2014-08-20",
          "2014-08-21",
          "2014-08-26",
          "2014-08-27",
          "2014-09-11",
          "2014-09-17",
          "2014-09-18",
          "2014-10-03",
          "2014-10-17",
          "2014-10-20",
          "2014-10-21",
          "2014-10-24",
          "2014-10-31",
          "2014-11-06",
          "2014-11-07",
          "2014-11-10",
          "2014-11-11",
          "2014-11-14",
          "2014-11-17",
          "2014-11-18",
          "2014-11-21",
          "2014-11-24",
          "2014-12-03",
          "2014-12-18",
          "2014-12-19",
          "2014-12-22",
          "2014-12-23",
          "2014-12-29",
          "2015-01-08",
          "2015-01-20",
          "2015-01-21",
          "2015-01-22",
          "2015-02-03",
          "2015-02-13",
          "2015-02-17",
          "2015-03-30",
          "2015-04-06",
          "2015-04-09",
          "2015-04-10",
          "2015-04-15",
          "2015-04-23",
          "2015-04-24",
          "2015-05-04",
          "2015-05-08",
          "2015-05-15",
          "2015-05-18",
          "2015-06-10",
          "2015-06-11",
          "2015-06-17",
          "2015-06-18",
          "2015-06-23",
          "2015-07-01",
          "2015-07-10",
          "2015-07-13",
          "2015-07-14",
          "2015-07-17",
          "2015-07-20",
          "2015-07-29",
          "2015-07-30",
          "2015-08-17",
          "2015-08-27",
          "2015-08-28",
          "2015-09-03",
          "2015-09-11",
          "2015-09-16",
          "2015-09-30",
          "2015-10-01",
          "2015-10-02",
          "2015-10-05",
          "2015-10-08",
          "2015-10-09",
          "2015-10-12",
          "2015-10-16",
          "2015-10-19",
          "2015-10-23",
          "2015-11-03",
          "2015-12-15",
          "2015-12-16",
          "2015-12-22",
          "2015-12-23",
          "2016-01-12",
          "2016-01-22",
          "2016-01-29",
          "2016-02-04",
          "2016-02-16",
          "2016-02-17",
          "2016-02-25",
          "2016-03-02",
          "2016-03-03",
          "2016-03-04",
          "2016-03-07",
          "2016-03-10",
          "2016-03-11",
          "2016-03-17",
          "2016-03-18",
          "2016-03-21",
          "2016-03-29",
          "2016-03-30",
          "2016-04-13",
          "2016-04-14",
          "2016-04-19",
          "2016-04-20",
          "2016-04-27",
          "2016-05-09",
          "2016-05-10",
          "2016-05-25",
          "2016-06-02",
          "2016-06-07",
          "2016-06-08",
          "2016-06-21",
          "2016-06-29",
          "2016-06-30",
          "2016-07-01",
          "2016-07-11",
          "2016-07-12",
          "2016-07-13",
          "2016-07-14",
          "2016-07-29",
          "2016-08-04",
          "2016-08-05",
          "2016-08-18",
          "2016-09-06",
          "2016-09-21",
          "2016-09-22",
          "2016-09-28",
          "2016-10-06",
          "2016-10-19",
          "2016-11-08",
          "2016-11-09",
          "2016-11-10",
          "2016-11-22",
          "2016-11-23",
          "2016-11-25",
          "2016-12-05",
          "2016-12-06",
          "2016-12-07",
          "2016-12-08",
          "2016-12-09",
          "2016-12-20",
          "2016-12-27",
          "2017-01-04",
          "2017-01-11",
          "2017-01-25",
          "2017-02-02",
          "2017-02-03",
          "2017-02-08",
          "2017-02-09",
          "2017-02-10",
          "2017-02-13",
          "2017-02-14",
          "2017-02-15",
          "2017-02-21",
          "2017-02-24",
          "2017-02-27",
          "2017-03-10",
          "2017-03-13",
          "2017-03-29",
          "2017-03-30",
          "2017-04-25",
          "2017-05-02",
          "2017-05-05",
          "2017-05-08",
          "2017-05-19",
          "2017-05-22",
          "2017-05-23",
          "2017-05-24",
          "2017-05-25",
          "2017-05-26",
          "2017-06-02",
          "2017-06-08",
          "2017-06-19",
          "2017-06-26",
          "2017-07-03",
          "2017-07-05",
          "2017-07-10",
          "2017-07-13",
          "2017-07-14",
          "2017-07-19",
          "2017-07-26",
          "2017-08-02",
          "2017-08-07",
          "2017-08-14",
          "2017-08-22",
          "2017-08-28",
          "2017-08-29",
          "2017-08-30",
          "2017-08-31",
          "2017-09-01",
          "2017-09-12",
          "2017-09-13",
          "2017-09-18",
          "2017-09-19",
          "2017-09-20",
          "2017-09-27",
          "2017-09-28",
          "2017-09-29",
          "2017-10-02",
          "2017-10-03",
          "2017-10-04",
          "2017-10-05",
          "2017-10-11",
          "2017-10-16",
          "2017-10-17",
          "2017-10-18",
          "2017-10-19",
          "2017-10-20",
          "2017-10-27",
          "2017-11-01",
          "2017-11-02",
          "2017-11-03",
          "2017-11-06",
          "2017-11-21",
          "2017-12-08",
          "2017-12-11",
          "2017-12-12",
          "2017-12-18",
          "2017-12-28",
          "2018-01-03",
          "2018-01-04",
          "2018-01-05",
          "2018-01-08",
          "2018-01-09",
          "2018-01-12",
          "2018-01-22",
          "2018-01-23",
          "2018-01-26",
          "2018-02-12",
          "2018-02-13",
          "2018-02-14",
          "2018-02-15",
          "2018-02-16",
          "2018-02-23",
          "2018-02-26",
          "2018-03-05",
          "2018-03-06",
          "2018-03-09",
          "2018-04-04",
          "2018-04-05",
          "2018-04-10",
          "2018-04-17",
          "2018-04-18",
          "2018-04-26",
          "2018-04-27",
          "2018-05-07",
          "2018-05-10",
          "2018-05-11",
          "2018-05-14",
          "2018-06-04",
          "2018-06-05",
          "2018-06-06",
          "2018-06-11",
          "2018-06-12",
          "2018-06-29",
          "2018-07-02",
          "2018-07-06",
          "2018-07-09",
          "2018-07-10",
          "2018-07-13",
          "2018-07-18",
          "2018-07-24",
          "2018-07-25",
          "2018-08-03",
          "2018-08-06",
          "2018-08-07",
          "2018-08-17",
          "2018-08-20",
          "2018-08-21",
          "2018-08-27",
          "2018-08-28",
          "2018-08-29",
          "2018-09-11",
          "2018-09-12",
          "2018-09-13",
          "2018-09-14",
          "2018-09-19",
          "2018-09-20",
          "2018-10-31",
          "2018-11-01",
          "2018-11-06",
          "2018-11-07",
          "2018-11-16",
          "2018-11-27",
          "2018-11-28",
          "2018-12-03",
          "2018-12-27",
          "2019-01-02",
          "2019-01-07",
          "2019-01-08",
          "2019-01-09",
          "2019-01-10",
          "2019-01-16",
          "2019-01-17",
          "2019-01-18",
          "2019-01-24",
          "2019-01-25",
          "2019-01-31",
          "2019-02-01",
          "2019-02-04",
          "2019-02-05",
          "2019-02-11",
          "2019-02-12",
          "2019-02-13",
          "2019-02-19",
          "2019-02-20",
          "2019-02-25",
          "2019-03-12",
          "2019-03-13",
          "2019-03-18",
          "2019-03-29",
          "2019-04-01",
          "2019-04-02",
          "2019-04-03",
          "2019-04-04",
          "2019-04-05",
          "2019-04-08",
          "2019-04-11",
          "2019-04-12",
          "2019-04-22",
          "2019-04-23",
          "2019-04-29",
          "2019-04-30",
          "2019-05-15",
          "2019-05-16",
          "2019-06-05",
          "2019-06-06",
          "2019-06-07",
          "2019-06-10",
          "2019-06-18",
          "2019-06-19",
          "2019-06-20",
          "2019-06-28",
          "2019-07-01",
          "2019-07-02",
          "2019-07-03",
          "2019-07-10",
          "2019-07-11",
          "2019-07-12",
          "2019-07-15",
          "2019-07-23",
          "2019-07-24",
          "2019-08-07",
          "2019-08-08",
          "2019-08-16",
          "2019-08-19",
          "2019-08-29",
          "2019-08-30",
          "2019-09-05",
          "2019-09-06",
          "2019-09-11",
          "2019-09-12",
          "2019-09-18",
          "2019-09-19",
          "2019-10-04",
          "2019-10-10",
          "2019-10-11",
          "2019-10-24",
          "2019-10-25",
          "2019-10-28",
          "2019-11-04",
          "2019-11-07",
          "2019-11-08",
          "2019-11-13",
          "2019-11-14",
          "2019-11-15",
          "2019-11-18",
          "2019-11-25",
          "2019-11-26",
          "2019-11-27",
          "2019-12-05",
          "2019-12-06",
          "2019-12-12",
          "2019-12-13",
          "2019-12-16",
          "2019-12-17",
          "2019-12-20",
          "2019-12-23",
          "2019-12-27",
          "2020-01-02",
          "2020-01-09",
          "2020-01-16",
          "2020-01-17",
          "2020-01-23",
          "2020-02-04",
          "2020-02-05",
          "2020-02-06",
          "2020-02-11",
          "2020-02-12",
          "2020-03-25",
          "2020-03-26",
          "2020-04-09",
          "2020-04-17",
          "2020-04-27",
          "2020-05-05",
          "2020-05-08",
          "2020-05-11",
          "2020-05-15",
          "2020-05-18",
          "2020-05-26",
          "2020-05-27",
          "2020-06-01",
          "2020-06-02",
          "2020-06-03",
          "2020-06-08",
          "2020-06-15",
          "2020-06-16",
          "2020-06-23",
          "2020-06-30",
          "2020-07-01",
          "2020-07-02",
          "2020-07-06",
          "2020-07-15",
          "2020-07-20",
          "2020-07-21",
          "2020-07-22",
          "2020-08-03",
          "2020-08-04",
          "2020-08-05",
          "2020-08-06",
          "2020-08-07",
          "2020-08-10",
          "2020-08-18",
          "2020-08-21",
          "2020-08-24",
          "2020-08-25",
          "2020-08-26",
          "2020-08-27",
          "2020-08-28",
          "2020-09-02",
          "2020-09-14",
          "2020-09-15",
          "2020-09-25",
          "2020-09-28",
          "2020-10-01",
          "2020-10-08",
          "2020-10-09",
          "2020-10-12",
          "2020-10-23",
          "2020-11-03",
          "2020-11-04",
          "2020-11-05",
          "2020-11-16",
          "2020-11-24",
          "2020-12-02",
          "2020-12-16",
          "2020-12-17",
          "2020-12-24",
          "2020-12-28",
          "2020-12-31",
          "2021-01-06",
          "2021-01-07",
          "2021-01-08",
          "2021-01-13",
          "2021-01-20",
          "2021-01-21",
          "2021-02-02",
          "2021-02-03",
          "2021-02-04",
          "2021-02-05",
          "2021-02-08",
          "2021-02-12",
          "2021-02-24",
          "2021-03-10",
          "2021-03-11",
          "2021-03-12",
          "2021-03-15",
          "2021-03-26",
          "2021-04-01",
          "2021-04-05",
          "2021-04-08",
          "2021-04-09",
          "2021-04-16",
          "2021-04-26",
          "2021-05-06",
          "2021-05-07",
          "2021-05-14",
          "2021-05-27",
          "2021-05-28",
          "2021-06-11",
          "2021-06-14",
          "2021-06-22",
          "2021-06-25",
          "2021-06-28",
          "2021-06-29",
          "2021-06-30",
          "2021-07-01",
          "2021-07-02",
          "2021-07-12",
          "2021-07-21",
          "2021-07-22",
          "2021-07-23",
          "2021-07-26",
          "2021-08-06",
          "2021-08-11",
          "2021-08-12",
          "2021-08-13",
          "2021-08-16",
          "2021-08-20",
          "2021-08-23",
          "2021-08-24",
          "2021-08-25",
          "2021-08-30",
          "2021-09-02",
          "2021-09-23",
          "2021-09-24",
          "2021-10-06",
          "2021-10-07",
          "2021-10-14",
          "2021-10-15",
          "2021-10-18",
          "2021-10-19",
          "2021-10-20",
          "2021-10-21",
          "2021-10-26",
          "2021-10-29",
          "2021-11-01",
          "2021-11-02",
          "2021-11-03",
          "2021-11-04",
          "2021-11-05",
          "2021-11-08",
          "2021-11-12",
          "2021-11-24",
          "2021-12-07",
          "2021-12-08",
          "2021-12-22",
          "2021-12-23",
          "2021-12-27",
          "2022-01-12",
          "2022-01-31",
          "2022-02-01",
          "2022-02-02",
          "2022-02-09",
          "2022-02-16",
          "2022-02-25",
          "2022-03-16",
          "2022-03-17",
          "2022-03-18",
          "2022-03-25",
          "2022-03-28",
          "2022-03-29",
          "2022-04-04",
          "2022-04-28",
          "2022-05-03",
          "2022-05-04",
          "2022-05-23",
          "2022-05-26",
          "2022-05-27",
          "2022-06-07",
          "2022-06-21",
          "2022-06-24",
          "2022-07-05",
          "2022-07-06",
          "2022-07-07",
          "2022-07-20",
          "2022-07-21",
          "2022-07-28",
          "2022-07-29",
          "2022-08-15",
          "2022-08-16",
          "2022-08-25",
          "2022-09-08",
          "2022-09-09",
          "2022-09-12"
         ],
         "y": [
          0.00014589331791547977,
          0.0038114208763415647,
          0.007095822981469269,
          0.007217617846341007,
          0.0017723659783044354,
          0.0023864542032576708,
          0.0021446371204074666,
          1.6868668978098356e-05,
          0.007729385187609239,
          0.0036712940509602277,
          0.01909922381617779,
          0.003915146955609572,
          0.015240603506340378,
          0.0025371192284318056,
          0.012737031643018426,
          0.0025999098954114785,
          0.003694901900663794,
          0.0038354074189603793,
          0.005983684061949823,
          4.837032320370582e-05,
          0.0009105377233105116,
          0.0008364230536139772,
          0.0025451741767312797,
          0.006011978070857182,
          0.003373865317636948,
          0.0007710498980992853,
          0.0010086210147886021,
          0.00896726885011212,
          0.001375441633084229,
          0.005819322689537998,
          0.00026335969664437187,
          0.004212061981042403,
          0.002241764767858534,
          0.0165558141807427,
          0.0028800961095791777,
          0.006220741603444324,
          0.004176097943201285,
          0.00549223943984245,
          0.002382143326087771,
          0.003070890617279609,
          0.0019229055205078893,
          0.003358296780059611,
          0.007342348644579388,
          0.009715367661563334,
          0.005467626148646154,
          0.0028535750726694786,
          0.006747875348399823,
          0.00246462927132729,
          0.0008767690500173231,
          0.015902615013238197,
          0.006557154561931178,
          0.007747769088040535,
          0.0027219757035261694,
          0.005524672443920409,
          0.0060274897498153734,
          0.002885150882434573,
          0.011656947571335508,
          0.00929697857517553,
          0.010261874075681021,
          0.0005610273180440828,
          0.005110135067942778,
          0.01312614507946197,
          0.007818157660431702,
          0.006554561705712558,
          0.01283216428653322,
          0.0011576133275772449,
          0.013804068389468682,
          0.001231194413954917,
          0.00839019472030067,
          0.00911166111513051,
          0.00233419362230336,
          0.005845109147089467,
          0.021885662575805043,
          0.01010687076504091,
          0.01346088519245825,
          0.00711135078734948,
          0.011615880574786352,
          0.018429207110559176,
          0.013511985976633056,
          0.03429064214237787,
          0.01771659088501565,
          0.0181294782318302,
          0.000543835222968525,
          0.009747079611157616,
          0.018634079544892046,
          0.012790853398772839,
          0.03371661777560231,
          0.0003813719317573572,
          0.018607607564518958,
          0.011667272007860774,
          0.019293202934679066,
          0.0022112969383298875,
          0.04240342063777991,
          0.0011051262280359353,
          0.002016289758612899,
          0.003210961077953378,
          0.0019476710569792388,
          0.008231553613985199,
          0.008994515513423451,
          7.902764391065631e-05,
          0.00018791399858031355,
          0.002939385158613028,
          0.008846519498231231,
          0.0003095304447908731,
          0.0023338676271160708,
          0.011046693236330007,
          0.004926531580627724,
          0.0006692320811927388,
          0.0004712356341336488,
          0.0011020449330576554,
          0.01449973726416065,
          0.0021579461175580406,
          0.0014730323066487472,
          0.0023462189950569368,
          0.0007196780852876117,
          0.0016708196763968175,
          0.001353660394094014,
          0.003350649356894664,
          0.00977002776120628,
          0.0036247016059478554,
          0.00016046915379686055,
          0.01797630669470962,
          0.001118723774120589,
          0.003966002810360969,
          0.013790282585130598,
          0.007377914678198927,
          0.013685325404961368,
          0.013552363677729495,
          0.0066579239517370326,
          0.002411410416049087,
          0.000486207665829852,
          0.0016922853300105345,
          0.0013790283825416694,
          0.005710556615778017,
          0.02278777233525009,
          0.010284752736562375,
          0.0014436567200251105,
          0.009767870585815075,
          0.008944792352300723,
          0.002456310099345771,
          0.006212764505379553,
          0,
          0.006658286214577203,
          0.002713429495304176,
          0.018900849989625712,
          0.0023265677120560824,
          0.005093766155781054,
          0.0006206372788462033,
          0.0004135442943473677,
          0.00218608894788197,
          0.007075434332494801,
          0.0018703665370596312,
          0,
          0.00404176101772169,
          0.0020905056879527706,
          0.016178219630214485,
          0.0039511152790705495,
          0.0008718999666621485,
          0.0036178640233517356,
          0.007148798295437686,
          0.010217529003082149,
          0.004108612934417444,
          0.00015580184869179448,
          0.0108672607470508,
          0.00782250575801502,
          0.0001304404541180304,
          0.019667369768091802,
          0,
          0.012942205804868046,
          0.004260626145993207,
          0.00016242192307913683,
          0.003301198087305224,
          0.002916658435379027,
          0.0003384309527412199,
          0.0065275896744818596,
          0.00044812906866908975,
          0.011421148426265404,
          0,
          0.02508604482486465,
          0.007568716794297714,
          0.00019694597971309236,
          0.005627103422306767,
          0.0033974659565911836,
          0,
          0.004418279226813482,
          0.0015063419833829528,
          6.689791044678373e-06,
          0.005430698720871874,
          0.0005490489353752182,
          0.0005921520293039606,
          0.0006904011504760277,
          0.012645666418416468,
          0.004600126400741367,
          0.009520494489535736,
          0.0010839757653693383,
          0.0018148119521494976,
          0.004471100410919249,
          0.0032438723173955353,
          0.00558737721730207,
          0.003538040782594898,
          0.012115446292433774,
          0.0035459469426655232,
          0.00465079821542691,
          0.010365294248898316,
          6.333984678086324e-06,
          0.004026617744745664,
          0.002481841846996069,
          0.010479515333145173,
          0.0019059883489793705,
          0.005216663184106629,
          0.004130550730288007,
          4.2846606095992e-05,
          0.010091099634557565,
          0.005101065117815828,
          0.00010202826191640924,
          0.0017209076486217612,
          0.012749947667659356,
          0.00776095178888081,
          0.009544802023650156,
          0.0061807276592702465,
          0.010150057885384811,
          0.005237838002117634,
          0.007203670629322367,
          0.0001815464128389621,
          0.013463198150456712,
          0.003081776754226162,
          0.001373900278267115,
          0.005020364936359378,
          0.0016087728890168407,
          0.0020309250638508303,
          0.0008279370058090763,
          0.0016390855232915058,
          0.003939218335412775,
          0.0019614259312179527,
          0.008084226423428653,
          0.001209131507343919,
          5.437655767526195e-05,
          0.009943332056093546,
          0.0073189229171095604,
          0.0030476259239931025,
          0.005677016891980635,
          0.0042088494865897275,
          0.012104115967810358,
          0.021595603003649266,
          0.006266658904207745,
          0.004066403911189731,
          0.006721323017651493,
          0.006527419550148572,
          9.171261857421342e-05,
          0.005721110785884775,
          0.004385172638319723,
          0.0013288359309981956,
          0.005568680457237463,
          0.0035641773126338094,
          0.0007226535247450983,
          0.004825599547334747,
          0.004213113677386637,
          0.00494917149427998,
          0.002482009484745973,
          0.00181543501289827,
          0.005309504286864275,
          0.002911528259120111,
          0.004734264720873682,
          0.00230403579714622,
          0.005152889148329898,
          0.0005747344722362158,
          0.013214212922079582,
          0.0015680346623456742,
          0.011001356953851626,
          0.0047976627138055505,
          0.0011578007430248505,
          0.004935878866371368,
          0.0027788716067975727,
          0.0005379393856070891,
          0.0071936586040903805,
          0.007892887011330174,
          0.007014659430600645,
          0.002849261279041393,
          0.010858989560465382,
          0.0067345821134070505,
          0.010433825888179094,
          0.0013629682617377625,
          0.003767994738389291,
          0.004083770842982837,
          0.004749512631765818,
          0.002987552324704268,
          0.009626232902744114,
          0.0004217073940360194,
          0.0038374297012770953,
          0.0023594648720788314,
          0.004239372342577319,
          0.005969947749390414,
          0.0018420236241798449,
          0.0007275486609232829,
          0.006504104782935727,
          0.00461709347419248,
          0.000938290790270635,
          0.0008363578653423076,
          0.002170232592340504,
          0.007689248112361824,
          0.0012766632824314783,
          0.0017285560156965474,
          0.0006585713293443263,
          0.005464577266607762,
          0.004831845777309773,
          0.0017529106323479482,
          0.00048805155195541516,
          0.0027555846424931474,
          0.004336355753250309,
          0.004988197546780704,
          0.002474731046194556,
          0.002945554646997195,
          0.001050541125247939,
          4.999825007168113e-05,
          0.0008815118498075591,
          0.0012948221428841222,
          0.004879237575788231,
          0.011103645698161024,
          0.012801813443832799,
          0.009101116168173995,
          0.01938536086520415,
          0.007028685012031133,
          0.011663102277225335,
          0.0037683963328118963,
          0.00034948426815173406,
          0.003115343855882635,
          0.0006964300884231278,
          0.00024024613086393032,
          0.0007350887583097432,
          0.005120799244120455,
          0.005223212603738148,
          0.002859972285084389,
          0.0037576597991098026,
          0.023731391638556865,
          0.004559675654012274,
          0.0038031565245635335,
          0.0017448949438962913,
          0.0008613800797716564,
          0.017730232270554147,
          0.0015487500528914566,
          0.004720491566868823,
          0.015154358001382207,
          0.014336212205417809,
          0.004066454532854813,
          0.0015962531949229586,
          0.012162396804615838,
          0.006586997425284125,
          0.004447561655731569,
          0.005189316335634686,
          0.005135086608693662,
          0.002354954664484765,
          0.0022502621405813272,
          0.00293645629424244,
          0.013368101838196367,
          0.0007681740692504491,
          0.0030433262041809073,
          0.011970467999834256,
          0.0017370426241116732,
          0.0019777309251249875,
          0.009853976761801775,
          0.0006357354142130234,
          0.006912186109313545,
          0.012262958517226252,
          0.011005278427365539,
          0.004443342901147673,
          0.0011056405254352697,
          0.0007708723459964872,
          0.007292110507604477,
          2.8454898986396415e-05,
          0.005197938255236956,
          0.02400724232625162,
          0.000608570807886899,
          0.0011641056804494454,
          0.004477001554570315,
          0.008667694070502385,
          0.018895865203797158,
          0.001971981855787064,
          0.014213772604289687,
          0.018124561438544795,
          0.008779731449656936,
          0.0007248679667588576,
          0.001274691109643733,
          0.004560061340766808,
          0.00027048493195014345,
          0.010970005786789194,
          0.0027243576169233563,
          0.010562534400150092,
          0.014410619402612568,
          0.008778122039329261,
          0.012341563236114794,
          0.007772509257391036,
          0.020080708854120388,
          0.02445864829102007,
          0.0015256091026358831,
          0.016381776635361334,
          0.01634611531802932,
          0.011284417050872797,
          0.004085962101079588,
          0.003492597492273042,
          0.0033004569962260533,
          0.0008846130395072649,
          0.00015582470255193215,
          0.016262547567990282,
          0.0065735853667518995,
          0.004395912383556855,
          0.0009850824218142762,
          0.008778031272148823,
          0.004340908403283272,
          0.00999009307508647,
          0.00017286084744849717,
          0.0030797566260183373,
          0.0007613247417594948,
          0.0016480173786206365,
          0.0007531895502363994,
          0.012406388310732375,
          0.00695053918975308,
          0.0028207287425612293,
          0.00128862944631436,
          0.003303991188785993,
          0.0027084373542942686,
          0.016889216752452363,
          0.013473821400287633,
          0.0019467806929593934,
          0.003402814586803693,
          0.006984851096364153,
          0.00013474052016348992,
          0.005245391042532965,
          0.0016299621902948758,
          0.00021256735230323898,
          0.008566643604324575,
          0.0021971793405901607,
          0.002977242343370712,
          0.010857950722305887,
          0.00647883749098721,
          0.005282490985375254,
          0.00048142577020549027,
          0.002189599580656676,
          0.0037648601743320853,
          0.011016142751233637,
          0.0019488592414456107,
          0.002163086603401254,
          0.0008076848471825215,
          0.003906688203705322,
          0.005804422368380635,
          0.0034050755798862298,
          0.013077306345681272,
          0.0021570846729908055,
          0.005921379481215183,
          0.003630921049278868,
          0.0022459178098381827,
          0.0057059983723570795,
          0.0028255693040186713,
          0.007994031790009792,
          0.0005701254430370284,
          0.007238573675816262,
          0.0006931502647971044,
          0.005735978912330353,
          0.0035597154352586813,
          0.005232175748100865,
          0.003999293774357149,
          0.004979922087049893,
          0.006029862181035739,
          0.0014922378935526837,
          0.0010175023940544037,
          0.003263348099308061,
          0.000366619122661227,
          0.0010848148191859863,
          0.002930736536392864,
          0.00607212810606228,
          0.0011884089692433264,
          0.0040803513003337955,
          3.7510393508632944e-05,
          0.0067446990247326255,
          0.005146846937212679,
          0.0018362259042570273,
          0.002486045908441703,
          0.004432039059246051,
          0.00031050179409053413,
          0.003700870703284842,
          0.0002671088361099194,
          0.008312558992557229,
          0.0003157439383913996,
          0.0023081276913972104,
          0.0014522119983846338,
          0.0009273360773853767,
          0.0018727975574499567,
          0.004662640144142749,
          0.005358270292070699,
          0.00028254516874248736,
          0.0004925392516081928,
          0.001645911613383788,
          0.009993643603759317,
          0.009891739536413091,
          0.0004869774552016537,
          0.0008424428066566847,
          0.004604515985120017,
          0.005704748858195607,
          0.001980518815597243,
          0.0033583535924837093,
          0.0007567795189853399,
          0.001454807314798856,
          0.0011096653781503818,
          0.0006341116368568933,
          0.00407684202160663,
          0.0012038828664966417,
          0.0036982437735080254,
          0.0038665151329828618,
          0.002156526696299288,
          0.001245978332918618,
          0.0056308733972807445,
          0.0018018446358105678,
          0.001749233933479033,
          0.0006722689328819698,
          0.0007420976706713489,
          0.0003279098121256041,
          0.005103849469401567,
          0.008040545353815709,
          0.0015908062532812295,
          0.0001899515629224524,
          0.0030922932168460093,
          0.0012705230741127949,
          0.006519786005639183,
          0.005491194628844731,
          0.0031968457929973937,
          0.0015476797289268873,
          0.005348533148324286,
          0.001832348152224661,
          0.006378433382130844,
          0.004020568037294225,
          0.007009177903581687,
          0.0016609423836406734,
          0.0013020551030287209,
          0.006726951075669341,
          0.008034392098314136,
          0.0021720359026726754,
          0.011771597314994331,
          0.013818684318076535,
          0.0026095439836835155,
          0.013313461230303858,
          0.011996836229864805,
          0.00037339249475554226,
          0.01590124602558518,
          0.01168842126055658,
          0.010971639144904621,
          0.002635318442213652,
          0.017229511513169093,
          0.011500105825438922,
          0.006839366240059874,
          0.01658852125511512,
          0.010605144127270982,
          0.0008310203745827138,
          0.010380129158368057,
          0.0011130162199064486,
          0.003451995069662317,
          0.009327000979503453,
          0.0017061751151761229,
          0.0008831316934818645,
          0.004469595089461542,
          0.0007023711683356026,
          0.008530883175666304,
          0.0010681475490628145,
          0.00174183223690072,
          0.0007580943491278802,
          0.0030633182696382377,
          0.008445532084703444,
          0.00878434361527436,
          0.0034671897996760848,
          0.0010786485794733736,
          0.002158157835582486,
          0.004769546552918058,
          0.009060376426541339,
          0.004633387321150373,
          0.0035320512931100723,
          0.0028201845679713955,
          0.003317626865218415,
          0.0024250166951826913,
          0.002066430689121823,
          0.007641124395723509,
          0.00026923196567363306,
          0.005685235804660849,
          0.00373286215637858,
          0.00035659819551447924,
          0.005268348654683841,
          0.0002754270858638108,
          0.0012525249991828247,
          0.0078099973940757295,
          0.010792838671998872,
          0.010502452503905246,
          0.006239826862748821,
          0.020987099015789212,
          0.00222081251512396,
          0.0032563952280595387,
          0.022714007938884784,
          0.010881931492828123,
          0.00852617779166831,
          0.001267720346464607,
          0.006985975834124858,
          0.009648598495866523,
          0.004089652304170244,
          0.004508267632578722,
          0.0022195019060893273,
          0.007562782854257932,
          0.013096912647037051,
          0.0013747320396557683,
          0.008452893602496125,
          0.008560630907941125,
          0.000898231874432831,
          0.00675334893535684,
          0.004697431279442554,
          0.0007087905082547863,
          0.012807878037835785,
          0.0030194138361174794,
          0.0014976529973074193,
          0.0017755546082875995,
          0.0012310380564022338,
          0.002948976274417703,
          0.006925581547047699,
          0.003699110562036978,
          0.006711719685688067,
          0.011502181500052444,
          1.7438524841040248e-05,
          0.002146103000463029,
          0.002082468563852302,
          0.004625683691842575,
          0.0010469016298637612,
          3.808514800862639e-05,
          0.0065876322869362625,
          0.0010115259764935658,
          0.008802364401891971,
          0.0010708986882486116,
          0.000950948132915741,
          0.00582197702081011,
          0.008855919648712351,
          0.008128768500641037,
          0.006116809555866354,
          0.010442945224567346,
          0.004649257428951614,
          0.009670462557011206,
          0.00298073014106226,
          0.009427615127716393,
          0.005740911810812932,
          0.007642995575579903,
          0.0029238703472564964,
          0.007643076127193282,
          0.0045004847673171255,
          0.0022826717159194487,
          0.00460949852364223,
          0.0001758440102275216,
          0.0068241647017259766,
          0.004677163660893768,
          0.0007665958837028697,
          0.018588425780335704,
          0.014323116131046199,
          0.01203318530199482,
          0.0126074354387411,
          0.0006426208211518514,
          0.01292592289421357,
          0.000910203918275343,
          0.007203659050794897,
          0.002874970784835895,
          0.00034262353493552666,
          1.995503465579418e-05,
          0.014116741669229604,
          0.006395208846051048,
          0.010879533213144832,
          0.0019185981834688448,
          0.004064426332368143,
          0.005565861774648795,
          0.003697210802720008,
          0.002726406923544644,
          0.0025573557297846605,
          0.0007112973716782989,
          0.000836743083095115,
          0.007666003452600378,
          0.0005030044207039452,
          0.00747929872680686,
          0.002193123145604048,
          0.004165779003972858,
          0.0014991519920375396,
          0.00909425204036829,
          0.00853860849985466,
          7.258531539200419e-05,
          0.007122391651236626,
          0.00033521461097762995,
          0.004932641459037157,
          0.0008657565903060771,
          3.395098404190833e-05,
          0.008343874454693534,
          0.006633244037574926,
          0.008331741632201073,
          0.003854705717721174,
          0.0011403144471451299,
          0.014869265218065308,
          0.01118782288293474,
          0.0033201287296620308,
          0.0016870749056518974,
          0.006441867553744984,
          0.011468998674479813,
          0.060543828751667306,
          0.01438343869822667,
          0.02644092907918516,
          0.014606871524448728,
          0.008999952189538085,
          0.01673075806255042,
          0.00017747076898189107,
          0.003918692254435641,
          0.031015221473356114,
          0.012214261971749352,
          0.014718492616298207,
          0.0037442421170172935,
          0.008177278702023116,
          0.013556655475682078,
          0.011969668235860098,
          0.00827785142343096,
          0.01878488465267303,
          0.004298191170313714,
          0.01529233363767979,
          0.005009542099664088,
          0.004531001832653203,
          0.015756943165827764,
          0.009041044884783744,
          0.008371764170464147,
          0.001677641372159755,
          0.005730639622957057,
          0.007155365883905418,
          0.0036054526780180396,
          0.006409157519801312,
          0.0064071581324238736,
          0.0006327942853729951,
          0.0027384827334753226,
          0.0023007288895726674,
          0.003435228739302687,
          0.009993580954931858,
          0.0035898742533948536,
          0.010144040989640501,
          0.001671626404583293,
          0.006710014078512572,
          0.01524899790823575,
          0.01266131471119003,
          0.0052058118315070345,
          0.015850478138508706,
          0.01598215087400412,
          0.00527893512152211,
          0.007975248642445365,
          0.008752272809347872,
          0.016285383484969884,
          0.003439866491129706,
          0.017642760820757886,
          0.021807516584335218,
          0.019273262670013835,
          0.011580731916657427,
          0.016032507557284248,
          0.001789548534858909,
          0.0017712784469292586,
          0.005741126947631514,
          0.0035303368029282467,
          0.00868469460336918,
          0.006418196978792423,
          0.005693660866217698,
          0.014738221178340893,
          0.005476865536104825,
          0.002273017902771457,
          0.013839368887685666,
          0.00031668077285651464,
          0.01380254196564934,
          0.0010082963259936406,
          0.01079482976893864,
          0.0038898969855534204,
          0.007372105129887174,
          0.004699921149025954,
          0.011287715277781274,
          0.006012173623114236,
          0.010341818218279286,
          0.001014883350162421,
          0.006470976590856381,
          0.016494413826352528,
          0.011755774236888783,
          0.014335038467166328,
          0.004211758040806757,
          0.007690316372556794,
          0.0036022533265391843,
          0.0017806378908797882,
          0.00813223411591224,
          0.007346296237811245,
          0.014807755166462044,
          0.0011647198427056082,
          0.000768591077205727,
          0.0019465941937433229,
          0.0018135655401927409,
          0.005111429423335423,
          0.003325072472303958,
          0.002312366351411299,
          0.00027731138634301544,
          0.0013272329146101214,
          0.005208054995812006,
          0.007472118231364178,
          0.003445214723939216,
          0.00820806865888457,
          0.002014630238242887,
          0.010094319060165446,
          0.0023794199422138007,
          0.0016738821949289218,
          0.0024649821979920716,
          0.002947738741944761,
          0.001606033834480769,
          0.0026174309818660646,
          0.008108577149078755,
          0.008487698356534068,
          0.0014945751943340468,
          0.0022176660815187432,
          0.0042973414690568035,
          0.00283852816777852,
          0.012061715863250555,
          0.0014599428049599794,
          0.004094493547635025,
          0.008264047735016433,
          0.016919170336134215,
          0.007432441620920827,
          0.003369122716966544,
          0.0073661600060432875,
          0.0036573205869530057,
          0.0029914274720983514,
          0.00181812861650954,
          0.0019474456805763651,
          0.0017984504334940254,
          0.0036736112761168727,
          0.006440511240473512,
          0.0041731721062596705,
          0.0037259083006286886,
          0.000887306784404629,
          0.0071966809110382,
          0.0022912737234968006,
          0.020495586171746183,
          0.0030805438956171827,
          0.01012871135227833,
          0.0062044168953239165,
          0.013744072068897495,
          0.002813734056029915,
          0.01870989151139746,
          0.006839508503304614,
          0.009378434574516703,
          0.014412812398356678,
          0.0008808327792149129,
          0.022126148364755238,
          0.0221369988429565,
          0.012272191404502308,
          0.011594770446318847,
          0.005053402374178617,
          0.007119559648820939,
          0.01218202728525597,
          0.00805832262263273,
          0.024445646004581434,
          0.004825441551572496,
          0.02942523504760608,
          0.01838502294652855,
          0.019688139439344,
          0.024441095491292586,
          0.009478331934065665,
          0.024182488501784505,
          0.03010553708080721,
          0.0015829235665787422,
          0.0035667473495824,
          0.014853713471199015,
          0.005878503718333761,
          0.009813054238449581,
          0.012060363275690378,
          0.01410774953829197,
          0.0039616294239337435,
          0.001873909275516894,
          0.013993218645289573,
          0.006589013388980547,
          0.015155971507018862,
          0.01052863988146946
         ]
        }
       ],
       "layout": {
        "legend": {
         "bgcolor": "#151516",
         "font": {
          "color": "#D9D9D9"
         }
        },
        "paper_bgcolor": "#151516",
        "plot_bgcolor": "#151516",
        "template": {
         "data": {
          "bar": [
           {
            "error_x": {
             "color": "#2a3f5f"
            },
            "error_y": {
             "color": "#2a3f5f"
            },
            "marker": {
             "line": {
              "color": "#E5ECF6",
              "width": 0.5
             },
             "pattern": {
              "fillmode": "overlay",
              "size": 10,
              "solidity": 0.2
             }
            },
            "type": "bar"
           }
          ],
          "barpolar": [
           {
            "marker": {
             "line": {
              "color": "#E5ECF6",
              "width": 0.5
             },
             "pattern": {
              "fillmode": "overlay",
              "size": 10,
              "solidity": 0.2
             }
            },
            "type": "barpolar"
           }
          ],
          "carpet": [
           {
            "aaxis": {
             "endlinecolor": "#2a3f5f",
             "gridcolor": "white",
             "linecolor": "white",
             "minorgridcolor": "white",
             "startlinecolor": "#2a3f5f"
            },
            "baxis": {
             "endlinecolor": "#2a3f5f",
             "gridcolor": "white",
             "linecolor": "white",
             "minorgridcolor": "white",
             "startlinecolor": "#2a3f5f"
            },
            "type": "carpet"
           }
          ],
          "choropleth": [
           {
            "colorbar": {
             "outlinewidth": 0,
             "ticks": ""
            },
            "type": "choropleth"
           }
          ],
          "contour": [
           {
            "colorbar": {
             "outlinewidth": 0,
             "ticks": ""
            },
            "colorscale": [
             [
              0,
              "#0d0887"
             ],
             [
              0.1111111111111111,
              "#46039f"
             ],
             [
              0.2222222222222222,
              "#7201a8"
             ],
             [
              0.3333333333333333,
              "#9c179e"
             ],
             [
              0.4444444444444444,
              "#bd3786"
             ],
             [
              0.5555555555555556,
              "#d8576b"
             ],
             [
              0.6666666666666666,
              "#ed7953"
             ],
             [
              0.7777777777777778,
              "#fb9f3a"
             ],
             [
              0.8888888888888888,
              "#fdca26"
             ],
             [
              1,
              "#f0f921"
             ]
            ],
            "type": "contour"
           }
          ],
          "contourcarpet": [
           {
            "colorbar": {
             "outlinewidth": 0,
             "ticks": ""
            },
            "type": "contourcarpet"
           }
          ],
          "heatmap": [
           {
            "colorbar": {
             "outlinewidth": 0,
             "ticks": ""
            },
            "colorscale": [
             [
              0,
              "#0d0887"
             ],
             [
              0.1111111111111111,
              "#46039f"
             ],
             [
              0.2222222222222222,
              "#7201a8"
             ],
             [
              0.3333333333333333,
              "#9c179e"
             ],
             [
              0.4444444444444444,
              "#bd3786"
             ],
             [
              0.5555555555555556,
              "#d8576b"
             ],
             [
              0.6666666666666666,
              "#ed7953"
             ],
             [
              0.7777777777777778,
              "#fb9f3a"
             ],
             [
              0.8888888888888888,
              "#fdca26"
             ],
             [
              1,
              "#f0f921"
             ]
            ],
            "type": "heatmap"
           }
          ],
          "heatmapgl": [
           {
            "colorbar": {
             "outlinewidth": 0,
             "ticks": ""
            },
            "colorscale": [
             [
              0,
              "#0d0887"
             ],
             [
              0.1111111111111111,
              "#46039f"
             ],
             [
              0.2222222222222222,
              "#7201a8"
             ],
             [
              0.3333333333333333,
              "#9c179e"
             ],
             [
              0.4444444444444444,
              "#bd3786"
             ],
             [
              0.5555555555555556,
              "#d8576b"
             ],
             [
              0.6666666666666666,
              "#ed7953"
             ],
             [
              0.7777777777777778,
              "#fb9f3a"
             ],
             [
              0.8888888888888888,
              "#fdca26"
             ],
             [
              1,
              "#f0f921"
             ]
            ],
            "type": "heatmapgl"
           }
          ],
          "histogram": [
           {
            "marker": {
             "pattern": {
              "fillmode": "overlay",
              "size": 10,
              "solidity": 0.2
             }
            },
            "type": "histogram"
           }
          ],
          "histogram2d": [
           {
            "colorbar": {
             "outlinewidth": 0,
             "ticks": ""
            },
            "colorscale": [
             [
              0,
              "#0d0887"
             ],
             [
              0.1111111111111111,
              "#46039f"
             ],
             [
              0.2222222222222222,
              "#7201a8"
             ],
             [
              0.3333333333333333,
              "#9c179e"
             ],
             [
              0.4444444444444444,
              "#bd3786"
             ],
             [
              0.5555555555555556,
              "#d8576b"
             ],
             [
              0.6666666666666666,
              "#ed7953"
             ],
             [
              0.7777777777777778,
              "#fb9f3a"
             ],
             [
              0.8888888888888888,
              "#fdca26"
             ],
             [
              1,
              "#f0f921"
             ]
            ],
            "type": "histogram2d"
           }
          ],
          "histogram2dcontour": [
           {
            "colorbar": {
             "outlinewidth": 0,
             "ticks": ""
            },
            "colorscale": [
             [
              0,
              "#0d0887"
             ],
             [
              0.1111111111111111,
              "#46039f"
             ],
             [
              0.2222222222222222,
              "#7201a8"
             ],
             [
              0.3333333333333333,
              "#9c179e"
             ],
             [
              0.4444444444444444,
              "#bd3786"
             ],
             [
              0.5555555555555556,
              "#d8576b"
             ],
             [
              0.6666666666666666,
              "#ed7953"
             ],
             [
              0.7777777777777778,
              "#fb9f3a"
             ],
             [
              0.8888888888888888,
              "#fdca26"
             ],
             [
              1,
              "#f0f921"
             ]
            ],
            "type": "histogram2dcontour"
           }
          ],
          "mesh3d": [
           {
            "colorbar": {
             "outlinewidth": 0,
             "ticks": ""
            },
            "type": "mesh3d"
           }
          ],
          "parcoords": [
           {
            "line": {
             "colorbar": {
              "outlinewidth": 0,
              "ticks": ""
             }
            },
            "type": "parcoords"
           }
          ],
          "pie": [
           {
            "automargin": true,
            "type": "pie"
           }
          ],
          "scatter": [
           {
            "fillpattern": {
             "fillmode": "overlay",
             "size": 10,
             "solidity": 0.2
            },
            "type": "scatter"
           }
          ],
          "scatter3d": [
           {
            "line": {
             "colorbar": {
              "outlinewidth": 0,
              "ticks": ""
             }
            },
            "marker": {
             "colorbar": {
              "outlinewidth": 0,
              "ticks": ""
             }
            },
            "type": "scatter3d"
           }
          ],
          "scattercarpet": [
           {
            "marker": {
             "colorbar": {
              "outlinewidth": 0,
              "ticks": ""
             }
            },
            "type": "scattercarpet"
           }
          ],
          "scattergeo": [
           {
            "marker": {
             "colorbar": {
              "outlinewidth": 0,
              "ticks": ""
             }
            },
            "type": "scattergeo"
           }
          ],
          "scattergl": [
           {
            "marker": {
             "colorbar": {
              "outlinewidth": 0,
              "ticks": ""
             }
            },
            "type": "scattergl"
           }
          ],
          "scattermapbox": [
           {
            "marker": {
             "colorbar": {
              "outlinewidth": 0,
              "ticks": ""
             }
            },
            "type": "scattermapbox"
           }
          ],
          "scatterpolar": [
           {
            "marker": {
             "colorbar": {
              "outlinewidth": 0,
              "ticks": ""
             }
            },
            "type": "scatterpolar"
           }
          ],
          "scatterpolargl": [
           {
            "marker": {
             "colorbar": {
              "outlinewidth": 0,
              "ticks": ""
             }
            },
            "type": "scatterpolargl"
           }
          ],
          "scatterternary": [
           {
            "marker": {
             "colorbar": {
              "outlinewidth": 0,
              "ticks": ""
             }
            },
            "type": "scatterternary"
           }
          ],
          "surface": [
           {
            "colorbar": {
             "outlinewidth": 0,
             "ticks": ""
            },
            "colorscale": [
             [
              0,
              "#0d0887"
             ],
             [
              0.1111111111111111,
              "#46039f"
             ],
             [
              0.2222222222222222,
              "#7201a8"
             ],
             [
              0.3333333333333333,
              "#9c179e"
             ],
             [
              0.4444444444444444,
              "#bd3786"
             ],
             [
              0.5555555555555556,
              "#d8576b"
             ],
             [
              0.6666666666666666,
              "#ed7953"
             ],
             [
              0.7777777777777778,
              "#fb9f3a"
             ],
             [
              0.8888888888888888,
              "#fdca26"
             ],
             [
              1,
              "#f0f921"
             ]
            ],
            "type": "surface"
           }
          ],
          "table": [
           {
            "cells": {
             "fill": {
              "color": "#EBF0F8"
             },
             "line": {
              "color": "white"
             }
            },
            "header": {
             "fill": {
              "color": "#C8D4E3"
             },
             "line": {
              "color": "white"
             }
            },
            "type": "table"
           }
          ]
         },
         "layout": {
          "annotationdefaults": {
           "arrowcolor": "#2a3f5f",
           "arrowhead": 0,
           "arrowwidth": 1
          },
          "autotypenumbers": "strict",
          "coloraxis": {
           "colorbar": {
            "outlinewidth": 0,
            "ticks": ""
           }
          },
          "colorscale": {
           "diverging": [
            [
             0,
             "#8e0152"
            ],
            [
             0.1,
             "#c51b7d"
            ],
            [
             0.2,
             "#de77ae"
            ],
            [
             0.3,
             "#f1b6da"
            ],
            [
             0.4,
             "#fde0ef"
            ],
            [
             0.5,
             "#f7f7f7"
            ],
            [
             0.6,
             "#e6f5d0"
            ],
            [
             0.7,
             "#b8e186"
            ],
            [
             0.8,
             "#7fbc41"
            ],
            [
             0.9,
             "#4d9221"
            ],
            [
             1,
             "#276419"
            ]
           ],
           "sequential": [
            [
             0,
             "#0d0887"
            ],
            [
             0.1111111111111111,
             "#46039f"
            ],
            [
             0.2222222222222222,
             "#7201a8"
            ],
            [
             0.3333333333333333,
             "#9c179e"
            ],
            [
             0.4444444444444444,
             "#bd3786"
            ],
            [
             0.5555555555555556,
             "#d8576b"
            ],
            [
             0.6666666666666666,
             "#ed7953"
            ],
            [
             0.7777777777777778,
             "#fb9f3a"
            ],
            [
             0.8888888888888888,
             "#fdca26"
            ],
            [
             1,
             "#f0f921"
            ]
           ],
           "sequentialminus": [
            [
             0,
             "#0d0887"
            ],
            [
             0.1111111111111111,
             "#46039f"
            ],
            [
             0.2222222222222222,
             "#7201a8"
            ],
            [
             0.3333333333333333,
             "#9c179e"
            ],
            [
             0.4444444444444444,
             "#bd3786"
            ],
            [
             0.5555555555555556,
             "#d8576b"
            ],
            [
             0.6666666666666666,
             "#ed7953"
            ],
            [
             0.7777777777777778,
             "#fb9f3a"
            ],
            [
             0.8888888888888888,
             "#fdca26"
            ],
            [
             1,
             "#f0f921"
            ]
           ]
          },
          "colorway": [
           "#636efa",
           "#EF553B",
           "#00cc96",
           "#ab63fa",
           "#FFA15A",
           "#19d3f3",
           "#FF6692",
           "#B6E880",
           "#FF97FF",
           "#FECB52"
          ],
          "font": {
           "color": "#2a3f5f"
          },
          "geo": {
           "bgcolor": "white",
           "lakecolor": "white",
           "landcolor": "#E5ECF6",
           "showlakes": true,
           "showland": true,
           "subunitcolor": "white"
          },
          "hoverlabel": {
           "align": "left"
          },
          "hovermode": "closest",
          "mapbox": {
           "style": "light"
          },
          "paper_bgcolor": "white",
          "plot_bgcolor": "#E5ECF6",
          "polar": {
           "angularaxis": {
            "gridcolor": "white",
            "linecolor": "white",
            "ticks": ""
           },
           "bgcolor": "#E5ECF6",
           "radialaxis": {
            "gridcolor": "white",
            "linecolor": "white",
            "ticks": ""
           }
          },
          "scene": {
           "xaxis": {
            "backgroundcolor": "#E5ECF6",
            "gridcolor": "white",
            "gridwidth": 2,
            "linecolor": "white",
            "showbackground": true,
            "ticks": "",
            "zerolinecolor": "white"
           },
           "yaxis": {
            "backgroundcolor": "#E5ECF6",
            "gridcolor": "white",
            "gridwidth": 2,
            "linecolor": "white",
            "showbackground": true,
            "ticks": "",
            "zerolinecolor": "white"
           },
           "zaxis": {
            "backgroundcolor": "#E5ECF6",
            "gridcolor": "white",
            "gridwidth": 2,
            "linecolor": "white",
            "showbackground": true,
            "ticks": "",
            "zerolinecolor": "white"
           }
          },
          "shapedefaults": {
           "line": {
            "color": "#2a3f5f"
           }
          },
          "ternary": {
           "aaxis": {
            "gridcolor": "white",
            "linecolor": "white",
            "ticks": ""
           },
           "baxis": {
            "gridcolor": "white",
            "linecolor": "white",
            "ticks": ""
           },
           "bgcolor": "#E5ECF6",
           "caxis": {
            "gridcolor": "white",
            "linecolor": "white",
            "ticks": ""
           }
          },
          "title": {
           "x": 0.05
          },
          "xaxis": {
           "automargin": true,
           "gridcolor": "white",
           "linecolor": "white",
           "ticks": "",
           "title": {
            "standoff": 15
           },
           "zerolinecolor": "white",
           "zerolinewidth": 2
          },
          "yaxis": {
           "automargin": true,
           "gridcolor": "white",
           "linecolor": "white",
           "ticks": "",
           "title": {
            "standoff": 15
           },
           "zerolinecolor": "white",
           "zerolinewidth": 2
          }
         }
        },
        "title": {
         "font": {
          "color": "#D9D9D9"
         },
         "text": "SP500"
        },
        "xaxis": {
         "gridcolor": "#434343",
         "showgrid": true,
         "tickfont": {
          "color": "#C2C2C2"
         },
         "title": {
          "font": {
           "color": "#D9D9D9"
          },
          "text": "Time"
         },
         "zerolinecolor": "#666570"
        },
        "yaxis": {
         "gridcolor": "#434343",
         "showgrid": true,
         "tickfont": {
          "color": "#C2C2C2"
         },
         "title": {
          "font": {
           "color": "#D9D9D9"
          },
          "text": "Stock Price"
         },
         "zerolinecolor": "#666570"
        }
       }
      },
      "text/html": [
       "<div>                            <div id=\"52dbbded-fd63-4f1e-8cad-b0221233feb2\" class=\"plotly-graph-div\" style=\"height:525px; width:100%;\"></div>            <script type=\"text/javascript\">                require([\"plotly\"], function(Plotly) {                    window.PLOTLYENV=window.PLOTLYENV || {};\n",
       "                    window.PLOTLYENV.BASE_URL='https://plot.ly';                                    if (document.getElementById(\"52dbbded-fd63-4f1e-8cad-b0221233feb2\")) {                    Plotly.newPlot(                        \"52dbbded-fd63-4f1e-8cad-b0221233feb2\",                        [{\"fill\":\"tozeroy\",\"fillcolor\":\"rgba(0, 128, 240, 0.3)\",\"line\":{\"color\":\"rgba(0, 128, 240, 1.0)\",\"dash\":\"solid\",\"shape\":\"linear\",\"width\":1.3},\"mode\":\"lines\",\"name\":\"log_Close\",\"text\":\"\",\"x\":[\"2010-10-11\",\"2010-10-12\",\"2010-10-13\",\"2010-10-18\",\"2010-10-21\",\"2010-10-22\",\"2010-10-25\",\"2010-10-26\",\"2010-11-02\",\"2010-11-03\",\"2010-11-04\",\"2010-11-05\",\"2010-11-18\",\"2010-11-19\",\"2010-12-02\",\"2010-12-03\",\"2010-12-08\",\"2010-12-09\",\"2010-12-10\",\"2010-12-13\",\"2010-12-14\",\"2010-12-17\",\"2010-12-20\",\"2010-12-21\",\"2010-12-22\",\"2010-12-28\",\"2010-12-29\",\"2011-01-12\",\"2011-01-18\",\"2011-01-24\",\"2011-01-25\",\"2011-01-26\",\"2011-01-27\",\"2011-02-01\",\"2011-02-04\",\"2011-02-07\",\"2011-02-08\",\"2011-02-11\",\"2011-02-14\",\"2011-02-17\",\"2011-02-18\",\"2011-02-28\",\"2011-03-04\",\"2011-03-18\",\"2011-03-21\",\"2011-03-22\",\"2011-03-25\",\"2011-03-28\",\"2011-04-04\",\"2011-04-20\",\"2011-04-21\",\"2011-04-27\",\"2011-04-28\",\"2011-04-29\",\"2011-05-02\",\"2011-05-11\",\"2011-05-19\",\"2011-05-27\",\"2011-05-31\",\"2011-06-10\",\"2011-06-22\",\"2011-06-29\",\"2011-06-30\",\"2011-07-01\",\"2011-07-05\",\"2011-07-14\",\"2011-07-20\",\"2011-07-21\",\"2011-07-22\",\"2011-08-15\",\"2011-08-16\",\"2011-08-17\",\"2011-08-25\",\"2011-08-30\",\"2011-08-31\",\"2011-09-08\",\"2011-09-14\",\"2011-09-15\",\"2011-09-16\",\"2011-09-27\",\"2011-10-05\",\"2011-10-06\",\"2011-10-11\",\"2011-10-12\",\"2011-10-21\",\"2011-10-24\",\"2011-10-27\",\"2011-10-28\",\"2011-11-03\",\"2011-11-08\",\"2011-11-11\",\"2011-11-29\",\"2011-11-30\",\"2011-12-06\",\"2011-12-07\",\"2011-12-16\",\"2011-12-21\",\"2011-12-22\",\"2011-12-23\",\"2011-12-27\",\"2012-01-04\",\"2012-01-05\",\"2012-01-10\",\"2012-01-11\",\"2012-01-12\",\"2012-01-18\",\"2012-01-19\",\"2012-01-20\",\"2012-01-23\",\"2012-02-02\",\"2012-02-03\",\"2012-02-08\",\"2012-02-09\",\"2012-02-17\",\"2012-02-21\",\"2012-02-24\",\"2012-02-27\",\"2012-02-28\",\"2012-03-08\",\"2012-03-09\",\"2012-03-12\",\"2012-03-13\",\"2012-03-16\",\"2012-03-19\",\"2012-03-26\",\"2012-04-02\",\"2012-04-12\",\"2012-04-25\",\"2012-04-26\",\"2012-04-27\",\"2012-05-22\",\"2012-05-23\",\"2012-05-24\",\"2012-06-05\",\"2012-06-06\",\"2012-06-15\",\"2012-06-18\",\"2012-06-19\",\"2012-06-27\",\"2012-07-02\",\"2012-07-03\",\"2012-07-04\",\"2012-07-18\",\"2012-07-19\",\"2012-07-27\",\"2012-08-06\",\"2012-08-07\",\"2012-08-08\",\"2012-08-09\",\"2012-08-10\",\"2012-08-16\",\"2012-08-17\",\"2012-09-03\",\"2012-09-07\",\"2012-09-12\",\"2012-09-13\",\"2012-09-14\",\"2012-10-02\",\"2012-10-03\",\"2012-10-04\",\"2012-10-16\",\"2012-10-17\",\"2012-10-31\",\"2012-11-01\",\"2012-11-06\",\"2012-11-12\",\"2012-11-19\",\"2012-11-22\",\"2012-11-23\",\"2012-11-29\",\"2012-11-30\",\"2012-12-06\",\"2012-12-07\",\"2012-12-10\",\"2012-12-11\",\"2012-12-12\",\"2012-12-18\",\"2013-01-01\",\"2013-01-02\",\"2013-01-10\",\"2013-01-16\",\"2013-01-17\",\"2013-01-18\",\"2013-01-21\",\"2013-01-22\",\"2013-01-23\",\"2013-01-24\",\"2013-01-25\",\"2013-02-06\",\"2013-02-13\",\"2013-02-14\",\"2013-02-27\",\"2013-03-04\",\"2013-03-05\",\"2013-03-06\",\"2013-03-07\",\"2013-03-08\",\"2013-03-11\",\"2013-03-14\",\"2013-04-09\",\"2013-04-10\",\"2013-04-11\",\"2013-04-22\",\"2013-04-23\",\"2013-04-24\",\"2013-04-25\",\"2013-04-30\",\"2013-05-03\",\"2013-05-06\",\"2013-05-07\",\"2013-05-08\",\"2013-05-13\",\"2013-05-14\",\"2013-05-15\",\"2013-05-20\",\"2013-05-21\",\"2013-06-07\",\"2013-06-18\",\"2013-06-26\",\"2013-06-27\",\"2013-07-05\",\"2013-07-08\",\"2013-07-09\",\"2013-07-10\",\"2013-07-11\",\"2013-07-12\",\"2013-07-15\",\"2013-07-18\",\"2013-07-19\",\"2013-07-22\",\"2013-07-26\",\"2013-08-02\",\"2013-08-23\",\"2013-08-29\",\"2013-09-04\",\"2013-09-05\",\"2013-09-06\",\"2013-09-09\",\"2013-09-10\",\"2013-09-11\",\"2013-09-16\",\"2013-09-17\",\"2013-09-18\",\"2013-10-10\",\"2013-10-11\",\"2013-10-14\",\"2013-10-17\",\"2013-10-18\",\"2013-10-21\",\"2013-10-22\",\"2013-10-25\",\"2013-10-28\",\"2013-10-29\",\"2013-11-04\",\"2013-11-11\",\"2013-11-14\",\"2013-11-15\",\"2013-11-22\",\"2013-11-27\",\"2013-12-09\",\"2013-12-23\",\"2013-12-24\",\"2013-12-26\",\"2014-01-10\",\"2014-01-15\",\"2014-01-22\",\"2014-02-07\",\"2014-02-10\",\"2014-02-11\",\"2014-02-14\",\"2014-02-18\",\"2014-02-27\",\"2014-02-28\",\"2014-03-07\",\"2014-03-18\",\"2014-03-31\",\"2014-04-01\",\"2014-04-02\",\"2014-04-09\",\"2014-04-15\",\"2014-04-16\",\"2014-04-17\",\"2014-04-21\",\"2014-04-22\",\"2014-04-29\",\"2014-04-30\",\"2014-05-12\",\"2014-05-13\",\"2014-05-19\",\"2014-05-22\",\"2014-05-23\",\"2014-05-27\",\"2014-05-30\",\"2014-06-02\",\"2014-06-05\",\"2014-06-06\",\"2014-06-09\",\"2014-06-16\",\"2014-06-17\",\"2014-06-18\",\"2014-06-19\",\"2014-06-20\",\"2014-07-02\",\"2014-07-03\",\"2014-07-14\",\"2014-07-23\",\"2014-07-24\",\"2014-08-11\",\"2014-08-14\",\"2014-08-19\",\"2014-08-20\",\"2014-08-21\",\"2014-08-26\",\"2014-08-27\",\"2014-09-11\",\"2014-09-17\",\"2014-09-18\",\"2014-10-03\",\"2014-10-17\",\"2014-10-20\",\"2014-10-21\",\"2014-10-24\",\"2014-10-31\",\"2014-11-06\",\"2014-11-07\",\"2014-11-10\",\"2014-11-11\",\"2014-11-14\",\"2014-11-17\",\"2014-11-18\",\"2014-11-21\",\"2014-11-24\",\"2014-12-03\",\"2014-12-18\",\"2014-12-19\",\"2014-12-22\",\"2014-12-23\",\"2014-12-29\",\"2015-01-08\",\"2015-01-20\",\"2015-01-21\",\"2015-01-22\",\"2015-02-03\",\"2015-02-13\",\"2015-02-17\",\"2015-03-30\",\"2015-04-06\",\"2015-04-09\",\"2015-04-10\",\"2015-04-15\",\"2015-04-23\",\"2015-04-24\",\"2015-05-04\",\"2015-05-08\",\"2015-05-15\",\"2015-05-18\",\"2015-06-10\",\"2015-06-11\",\"2015-06-17\",\"2015-06-18\",\"2015-06-23\",\"2015-07-01\",\"2015-07-10\",\"2015-07-13\",\"2015-07-14\",\"2015-07-17\",\"2015-07-20\",\"2015-07-29\",\"2015-07-30\",\"2015-08-17\",\"2015-08-27\",\"2015-08-28\",\"2015-09-03\",\"2015-09-11\",\"2015-09-16\",\"2015-09-30\",\"2015-10-01\",\"2015-10-02\",\"2015-10-05\",\"2015-10-08\",\"2015-10-09\",\"2015-10-12\",\"2015-10-16\",\"2015-10-19\",\"2015-10-23\",\"2015-11-03\",\"2015-12-15\",\"2015-12-16\",\"2015-12-22\",\"2015-12-23\",\"2016-01-12\",\"2016-01-22\",\"2016-01-29\",\"2016-02-04\",\"2016-02-16\",\"2016-02-17\",\"2016-02-25\",\"2016-03-02\",\"2016-03-03\",\"2016-03-04\",\"2016-03-07\",\"2016-03-10\",\"2016-03-11\",\"2016-03-17\",\"2016-03-18\",\"2016-03-21\",\"2016-03-29\",\"2016-03-30\",\"2016-04-13\",\"2016-04-14\",\"2016-04-19\",\"2016-04-20\",\"2016-04-27\",\"2016-05-09\",\"2016-05-10\",\"2016-05-25\",\"2016-06-02\",\"2016-06-07\",\"2016-06-08\",\"2016-06-21\",\"2016-06-29\",\"2016-06-30\",\"2016-07-01\",\"2016-07-11\",\"2016-07-12\",\"2016-07-13\",\"2016-07-14\",\"2016-07-29\",\"2016-08-04\",\"2016-08-05\",\"2016-08-18\",\"2016-09-06\",\"2016-09-21\",\"2016-09-22\",\"2016-09-28\",\"2016-10-06\",\"2016-10-19\",\"2016-11-08\",\"2016-11-09\",\"2016-11-10\",\"2016-11-22\",\"2016-11-23\",\"2016-11-25\",\"2016-12-05\",\"2016-12-06\",\"2016-12-07\",\"2016-12-08\",\"2016-12-09\",\"2016-12-20\",\"2016-12-27\",\"2017-01-04\",\"2017-01-11\",\"2017-01-25\",\"2017-02-02\",\"2017-02-03\",\"2017-02-08\",\"2017-02-09\",\"2017-02-10\",\"2017-02-13\",\"2017-02-14\",\"2017-02-15\",\"2017-02-21\",\"2017-02-24\",\"2017-02-27\",\"2017-03-10\",\"2017-03-13\",\"2017-03-29\",\"2017-03-30\",\"2017-04-25\",\"2017-05-02\",\"2017-05-05\",\"2017-05-08\",\"2017-05-19\",\"2017-05-22\",\"2017-05-23\",\"2017-05-24\",\"2017-05-25\",\"2017-05-26\",\"2017-06-02\",\"2017-06-08\",\"2017-06-19\",\"2017-06-26\",\"2017-07-03\",\"2017-07-05\",\"2017-07-10\",\"2017-07-13\",\"2017-07-14\",\"2017-07-19\",\"2017-07-26\",\"2017-08-02\",\"2017-08-07\",\"2017-08-14\",\"2017-08-22\",\"2017-08-28\",\"2017-08-29\",\"2017-08-30\",\"2017-08-31\",\"2017-09-01\",\"2017-09-12\",\"2017-09-13\",\"2017-09-18\",\"2017-09-19\",\"2017-09-20\",\"2017-09-27\",\"2017-09-28\",\"2017-09-29\",\"2017-10-02\",\"2017-10-03\",\"2017-10-04\",\"2017-10-05\",\"2017-10-11\",\"2017-10-16\",\"2017-10-17\",\"2017-10-18\",\"2017-10-19\",\"2017-10-20\",\"2017-10-27\",\"2017-11-01\",\"2017-11-02\",\"2017-11-03\",\"2017-11-06\",\"2017-11-21\",\"2017-12-08\",\"2017-12-11\",\"2017-12-12\",\"2017-12-18\",\"2017-12-28\",\"2018-01-03\",\"2018-01-04\",\"2018-01-05\",\"2018-01-08\",\"2018-01-09\",\"2018-01-12\",\"2018-01-22\",\"2018-01-23\",\"2018-01-26\",\"2018-02-12\",\"2018-02-13\",\"2018-02-14\",\"2018-02-15\",\"2018-02-16\",\"2018-02-23\",\"2018-02-26\",\"2018-03-05\",\"2018-03-06\",\"2018-03-09\",\"2018-04-04\",\"2018-04-05\",\"2018-04-10\",\"2018-04-17\",\"2018-04-18\",\"2018-04-26\",\"2018-04-27\",\"2018-05-07\",\"2018-05-10\",\"2018-05-11\",\"2018-05-14\",\"2018-06-04\",\"2018-06-05\",\"2018-06-06\",\"2018-06-11\",\"2018-06-12\",\"2018-06-29\",\"2018-07-02\",\"2018-07-06\",\"2018-07-09\",\"2018-07-10\",\"2018-07-13\",\"2018-07-18\",\"2018-07-24\",\"2018-07-25\",\"2018-08-03\",\"2018-08-06\",\"2018-08-07\",\"2018-08-17\",\"2018-08-20\",\"2018-08-21\",\"2018-08-27\",\"2018-08-28\",\"2018-08-29\",\"2018-09-11\",\"2018-09-12\",\"2018-09-13\",\"2018-09-14\",\"2018-09-19\",\"2018-09-20\",\"2018-10-31\",\"2018-11-01\",\"2018-11-06\",\"2018-11-07\",\"2018-11-16\",\"2018-11-27\",\"2018-11-28\",\"2018-12-03\",\"2018-12-27\",\"2019-01-02\",\"2019-01-07\",\"2019-01-08\",\"2019-01-09\",\"2019-01-10\",\"2019-01-16\",\"2019-01-17\",\"2019-01-18\",\"2019-01-24\",\"2019-01-25\",\"2019-01-31\",\"2019-02-01\",\"2019-02-04\",\"2019-02-05\",\"2019-02-11\",\"2019-02-12\",\"2019-02-13\",\"2019-02-19\",\"2019-02-20\",\"2019-02-25\",\"2019-03-12\",\"2019-03-13\",\"2019-03-18\",\"2019-03-29\",\"2019-04-01\",\"2019-04-02\",\"2019-04-03\",\"2019-04-04\",\"2019-04-05\",\"2019-04-08\",\"2019-04-11\",\"2019-04-12\",\"2019-04-22\",\"2019-04-23\",\"2019-04-29\",\"2019-04-30\",\"2019-05-15\",\"2019-05-16\",\"2019-06-05\",\"2019-06-06\",\"2019-06-07\",\"2019-06-10\",\"2019-06-18\",\"2019-06-19\",\"2019-06-20\",\"2019-06-28\",\"2019-07-01\",\"2019-07-02\",\"2019-07-03\",\"2019-07-10\",\"2019-07-11\",\"2019-07-12\",\"2019-07-15\",\"2019-07-23\",\"2019-07-24\",\"2019-08-07\",\"2019-08-08\",\"2019-08-16\",\"2019-08-19\",\"2019-08-29\",\"2019-08-30\",\"2019-09-05\",\"2019-09-06\",\"2019-09-11\",\"2019-09-12\",\"2019-09-18\",\"2019-09-19\",\"2019-10-04\",\"2019-10-10\",\"2019-10-11\",\"2019-10-24\",\"2019-10-25\",\"2019-10-28\",\"2019-11-04\",\"2019-11-07\",\"2019-11-08\",\"2019-11-13\",\"2019-11-14\",\"2019-11-15\",\"2019-11-18\",\"2019-11-25\",\"2019-11-26\",\"2019-11-27\",\"2019-12-05\",\"2019-12-06\",\"2019-12-12\",\"2019-12-13\",\"2019-12-16\",\"2019-12-17\",\"2019-12-20\",\"2019-12-23\",\"2019-12-27\",\"2020-01-02\",\"2020-01-09\",\"2020-01-16\",\"2020-01-17\",\"2020-01-23\",\"2020-02-04\",\"2020-02-05\",\"2020-02-06\",\"2020-02-11\",\"2020-02-12\",\"2020-03-25\",\"2020-03-26\",\"2020-04-09\",\"2020-04-17\",\"2020-04-27\",\"2020-05-05\",\"2020-05-08\",\"2020-05-11\",\"2020-05-15\",\"2020-05-18\",\"2020-05-26\",\"2020-05-27\",\"2020-06-01\",\"2020-06-02\",\"2020-06-03\",\"2020-06-08\",\"2020-06-15\",\"2020-06-16\",\"2020-06-23\",\"2020-06-30\",\"2020-07-01\",\"2020-07-02\",\"2020-07-06\",\"2020-07-15\",\"2020-07-20\",\"2020-07-21\",\"2020-07-22\",\"2020-08-03\",\"2020-08-04\",\"2020-08-05\",\"2020-08-06\",\"2020-08-07\",\"2020-08-10\",\"2020-08-18\",\"2020-08-21\",\"2020-08-24\",\"2020-08-25\",\"2020-08-26\",\"2020-08-27\",\"2020-08-28\",\"2020-09-02\",\"2020-09-14\",\"2020-09-15\",\"2020-09-25\",\"2020-09-28\",\"2020-10-01\",\"2020-10-08\",\"2020-10-09\",\"2020-10-12\",\"2020-10-23\",\"2020-11-03\",\"2020-11-04\",\"2020-11-05\",\"2020-11-16\",\"2020-11-24\",\"2020-12-02\",\"2020-12-16\",\"2020-12-17\",\"2020-12-24\",\"2020-12-28\",\"2020-12-31\",\"2021-01-06\",\"2021-01-07\",\"2021-01-08\",\"2021-01-13\",\"2021-01-20\",\"2021-01-21\",\"2021-02-02\",\"2021-02-03\",\"2021-02-04\",\"2021-02-05\",\"2021-02-08\",\"2021-02-12\",\"2021-02-24\",\"2021-03-10\",\"2021-03-11\",\"2021-03-12\",\"2021-03-15\",\"2021-03-26\",\"2021-04-01\",\"2021-04-05\",\"2021-04-08\",\"2021-04-09\",\"2021-04-16\",\"2021-04-26\",\"2021-05-06\",\"2021-05-07\",\"2021-05-14\",\"2021-05-27\",\"2021-05-28\",\"2021-06-11\",\"2021-06-14\",\"2021-06-22\",\"2021-06-25\",\"2021-06-28\",\"2021-06-29\",\"2021-06-30\",\"2021-07-01\",\"2021-07-02\",\"2021-07-12\",\"2021-07-21\",\"2021-07-22\",\"2021-07-23\",\"2021-07-26\",\"2021-08-06\",\"2021-08-11\",\"2021-08-12\",\"2021-08-13\",\"2021-08-16\",\"2021-08-20\",\"2021-08-23\",\"2021-08-24\",\"2021-08-25\",\"2021-08-30\",\"2021-09-02\",\"2021-09-23\",\"2021-09-24\",\"2021-10-06\",\"2021-10-07\",\"2021-10-14\",\"2021-10-15\",\"2021-10-18\",\"2021-10-19\",\"2021-10-20\",\"2021-10-21\",\"2021-10-26\",\"2021-10-29\",\"2021-11-01\",\"2021-11-02\",\"2021-11-03\",\"2021-11-04\",\"2021-11-05\",\"2021-11-08\",\"2021-11-12\",\"2021-11-24\",\"2021-12-07\",\"2021-12-08\",\"2021-12-22\",\"2021-12-23\",\"2021-12-27\",\"2022-01-12\",\"2022-01-31\",\"2022-02-01\",\"2022-02-02\",\"2022-02-09\",\"2022-02-16\",\"2022-02-25\",\"2022-03-16\",\"2022-03-17\",\"2022-03-18\",\"2022-03-25\",\"2022-03-28\",\"2022-03-29\",\"2022-04-04\",\"2022-04-28\",\"2022-05-03\",\"2022-05-04\",\"2022-05-23\",\"2022-05-26\",\"2022-05-27\",\"2022-06-07\",\"2022-06-21\",\"2022-06-24\",\"2022-07-05\",\"2022-07-06\",\"2022-07-07\",\"2022-07-20\",\"2022-07-21\",\"2022-07-28\",\"2022-07-29\",\"2022-08-15\",\"2022-08-16\",\"2022-08-25\",\"2022-09-08\",\"2022-09-09\",\"2022-09-12\"],\"y\":[0.00014589331791547977,0.0038114208763415647,0.007095822981469269,0.007217617846341007,0.0017723659783044354,0.0023864542032576708,0.0021446371204074666,1.6868668978098356e-05,0.007729385187609239,0.0036712940509602277,0.01909922381617779,0.003915146955609572,0.015240603506340378,0.0025371192284318056,0.012737031643018426,0.0025999098954114785,0.003694901900663794,0.0038354074189603793,0.005983684061949823,4.837032320370582e-05,0.0009105377233105116,0.0008364230536139772,0.0025451741767312797,0.006011978070857182,0.003373865317636948,0.0007710498980992853,0.0010086210147886021,0.00896726885011212,0.001375441633084229,0.005819322689537998,0.00026335969664437187,0.004212061981042403,0.002241764767858534,0.0165558141807427,0.0028800961095791777,0.006220741603444324,0.004176097943201285,0.00549223943984245,0.002382143326087771,0.003070890617279609,0.0019229055205078893,0.003358296780059611,0.007342348644579388,0.009715367661563334,0.005467626148646154,0.0028535750726694786,0.006747875348399823,0.00246462927132729,0.0008767690500173231,0.015902615013238197,0.006557154561931178,0.007747769088040535,0.0027219757035261694,0.005524672443920409,0.0060274897498153734,0.002885150882434573,0.011656947571335508,0.00929697857517553,0.010261874075681021,0.0005610273180440828,0.005110135067942778,0.01312614507946197,0.007818157660431702,0.006554561705712558,0.01283216428653322,0.0011576133275772449,0.013804068389468682,0.001231194413954917,0.00839019472030067,0.00911166111513051,0.00233419362230336,0.005845109147089467,0.021885662575805043,0.01010687076504091,0.01346088519245825,0.00711135078734948,0.011615880574786352,0.018429207110559176,0.013511985976633056,0.03429064214237787,0.01771659088501565,0.0181294782318302,0.000543835222968525,0.009747079611157616,0.018634079544892046,0.012790853398772839,0.03371661777560231,0.0003813719317573572,0.018607607564518958,0.011667272007860774,0.019293202934679066,0.0022112969383298875,0.04240342063777991,0.0011051262280359353,0.002016289758612899,0.003210961077953378,0.0019476710569792388,0.008231553613985199,0.008994515513423451,7.902764391065631e-05,0.00018791399858031355,0.002939385158613028,0.008846519498231231,0.0003095304447908731,0.0023338676271160708,0.011046693236330007,0.004926531580627724,0.0006692320811927388,0.0004712356341336488,0.0011020449330576554,0.01449973726416065,0.0021579461175580406,0.0014730323066487472,0.0023462189950569368,0.0007196780852876117,0.0016708196763968175,0.001353660394094014,0.003350649356894664,0.00977002776120628,0.0036247016059478554,0.00016046915379686055,0.01797630669470962,0.001118723774120589,0.003966002810360969,0.013790282585130598,0.007377914678198927,0.013685325404961368,0.013552363677729495,0.0066579239517370326,0.002411410416049087,0.000486207665829852,0.0016922853300105345,0.0013790283825416694,0.005710556615778017,0.02278777233525009,0.010284752736562375,0.0014436567200251105,0.009767870585815075,0.008944792352300723,0.002456310099345771,0.006212764505379553,0.0,0.006658286214577203,0.002713429495304176,0.018900849989625712,0.0023265677120560824,0.005093766155781054,0.0006206372788462033,0.0004135442943473677,0.00218608894788197,0.007075434332494801,0.0018703665370596312,0.0,0.00404176101772169,0.0020905056879527706,0.016178219630214485,0.0039511152790705495,0.0008718999666621485,0.0036178640233517356,0.007148798295437686,0.010217529003082149,0.004108612934417444,0.00015580184869179448,0.0108672607470508,0.00782250575801502,0.0001304404541180304,0.019667369768091802,0.0,0.012942205804868046,0.004260626145993207,0.00016242192307913683,0.003301198087305224,0.002916658435379027,0.0003384309527412199,0.0065275896744818596,0.00044812906866908975,0.011421148426265404,0.0,0.02508604482486465,0.007568716794297714,0.00019694597971309236,0.005627103422306767,0.0033974659565911836,0.0,0.004418279226813482,0.0015063419833829528,6.689791044678373e-06,0.005430698720871874,0.0005490489353752182,0.0005921520293039606,0.0006904011504760277,0.012645666418416468,0.004600126400741367,0.009520494489535736,0.0010839757653693383,0.0018148119521494976,0.004471100410919249,0.0032438723173955353,0.00558737721730207,0.003538040782594898,0.012115446292433774,0.0035459469426655232,0.00465079821542691,0.010365294248898316,6.333984678086324e-06,0.004026617744745664,0.002481841846996069,0.010479515333145173,0.0019059883489793705,0.005216663184106629,0.004130550730288007,4.2846606095992e-05,0.010091099634557565,0.005101065117815828,0.00010202826191640924,0.0017209076486217612,0.012749947667659356,0.00776095178888081,0.009544802023650156,0.0061807276592702465,0.010150057885384811,0.005237838002117634,0.007203670629322367,0.0001815464128389621,0.013463198150456712,0.003081776754226162,0.001373900278267115,0.005020364936359378,0.0016087728890168407,0.0020309250638508303,0.0008279370058090763,0.0016390855232915058,0.003939218335412775,0.0019614259312179527,0.008084226423428653,0.001209131507343919,5.437655767526195e-05,0.009943332056093546,0.0073189229171095604,0.0030476259239931025,0.005677016891980635,0.0042088494865897275,0.012104115967810358,0.021595603003649266,0.006266658904207745,0.004066403911189731,0.006721323017651493,0.006527419550148572,9.171261857421342e-05,0.005721110785884775,0.004385172638319723,0.0013288359309981956,0.005568680457237463,0.0035641773126338094,0.0007226535247450983,0.004825599547334747,0.004213113677386637,0.00494917149427998,0.002482009484745973,0.00181543501289827,0.005309504286864275,0.002911528259120111,0.004734264720873682,0.00230403579714622,0.005152889148329898,0.0005747344722362158,0.013214212922079582,0.0015680346623456742,0.011001356953851626,0.0047976627138055505,0.0011578007430248505,0.004935878866371368,0.0027788716067975727,0.0005379393856070891,0.0071936586040903805,0.007892887011330174,0.007014659430600645,0.002849261279041393,0.010858989560465382,0.0067345821134070505,0.010433825888179094,0.0013629682617377625,0.003767994738389291,0.004083770842982837,0.004749512631765818,0.002987552324704268,0.009626232902744114,0.0004217073940360194,0.0038374297012770953,0.0023594648720788314,0.004239372342577319,0.005969947749390414,0.0018420236241798449,0.0007275486609232829,0.006504104782935727,0.00461709347419248,0.000938290790270635,0.0008363578653423076,0.002170232592340504,0.007689248112361824,0.0012766632824314783,0.0017285560156965474,0.0006585713293443263,0.005464577266607762,0.004831845777309773,0.0017529106323479482,0.00048805155195541516,0.0027555846424931474,0.004336355753250309,0.004988197546780704,0.002474731046194556,0.002945554646997195,0.001050541125247939,4.999825007168113e-05,0.0008815118498075591,0.0012948221428841222,0.004879237575788231,0.011103645698161024,0.012801813443832799,0.009101116168173995,0.01938536086520415,0.007028685012031133,0.011663102277225335,0.0037683963328118963,0.00034948426815173406,0.003115343855882635,0.0006964300884231278,0.00024024613086393032,0.0007350887583097432,0.005120799244120455,0.005223212603738148,0.002859972285084389,0.0037576597991098026,0.023731391638556865,0.004559675654012274,0.0038031565245635335,0.0017448949438962913,0.0008613800797716564,0.017730232270554147,0.0015487500528914566,0.004720491566868823,0.015154358001382207,0.014336212205417809,0.004066454532854813,0.0015962531949229586,0.012162396804615838,0.006586997425284125,0.004447561655731569,0.005189316335634686,0.005135086608693662,0.002354954664484765,0.0022502621405813272,0.00293645629424244,0.013368101838196367,0.0007681740692504491,0.0030433262041809073,0.011970467999834256,0.0017370426241116732,0.0019777309251249875,0.009853976761801775,0.0006357354142130234,0.006912186109313545,0.012262958517226252,0.011005278427365539,0.004443342901147673,0.0011056405254352697,0.0007708723459964872,0.007292110507604477,2.8454898986396415e-05,0.005197938255236956,0.02400724232625162,0.000608570807886899,0.0011641056804494454,0.004477001554570315,0.008667694070502385,0.018895865203797158,0.001971981855787064,0.014213772604289687,0.018124561438544795,0.008779731449656936,0.0007248679667588576,0.001274691109643733,0.004560061340766808,0.00027048493195014345,0.010970005786789194,0.0027243576169233563,0.010562534400150092,0.014410619402612568,0.008778122039329261,0.012341563236114794,0.007772509257391036,0.020080708854120388,0.02445864829102007,0.0015256091026358831,0.016381776635361334,0.01634611531802932,0.011284417050872797,0.004085962101079588,0.003492597492273042,0.0033004569962260533,0.0008846130395072649,0.00015582470255193215,0.016262547567990282,0.0065735853667518995,0.004395912383556855,0.0009850824218142762,0.008778031272148823,0.004340908403283272,0.00999009307508647,0.00017286084744849717,0.0030797566260183373,0.0007613247417594948,0.0016480173786206365,0.0007531895502363994,0.012406388310732375,0.00695053918975308,0.0028207287425612293,0.00128862944631436,0.003303991188785993,0.0027084373542942686,0.016889216752452363,0.013473821400287633,0.0019467806929593934,0.003402814586803693,0.006984851096364153,0.00013474052016348992,0.005245391042532965,0.0016299621902948758,0.00021256735230323898,0.008566643604324575,0.0021971793405901607,0.002977242343370712,0.010857950722305887,0.00647883749098721,0.005282490985375254,0.00048142577020549027,0.002189599580656676,0.0037648601743320853,0.011016142751233637,0.0019488592414456107,0.002163086603401254,0.0008076848471825215,0.003906688203705322,0.005804422368380635,0.0034050755798862298,0.013077306345681272,0.0021570846729908055,0.005921379481215183,0.003630921049278868,0.0022459178098381827,0.0057059983723570795,0.0028255693040186713,0.007994031790009792,0.0005701254430370284,0.007238573675816262,0.0006931502647971044,0.005735978912330353,0.0035597154352586813,0.005232175748100865,0.003999293774357149,0.004979922087049893,0.006029862181035739,0.0014922378935526837,0.0010175023940544037,0.003263348099308061,0.000366619122661227,0.0010848148191859863,0.002930736536392864,0.00607212810606228,0.0011884089692433264,0.0040803513003337955,3.7510393508632944e-05,0.0067446990247326255,0.005146846937212679,0.0018362259042570273,0.002486045908441703,0.004432039059246051,0.00031050179409053413,0.003700870703284842,0.0002671088361099194,0.008312558992557229,0.0003157439383913996,0.0023081276913972104,0.0014522119983846338,0.0009273360773853767,0.0018727975574499567,0.004662640144142749,0.005358270292070699,0.00028254516874248736,0.0004925392516081928,0.001645911613383788,0.009993643603759317,0.009891739536413091,0.0004869774552016537,0.0008424428066566847,0.004604515985120017,0.005704748858195607,0.001980518815597243,0.0033583535924837093,0.0007567795189853399,0.001454807314798856,0.0011096653781503818,0.0006341116368568933,0.00407684202160663,0.0012038828664966417,0.0036982437735080254,0.0038665151329828618,0.002156526696299288,0.001245978332918618,0.0056308733972807445,0.0018018446358105678,0.001749233933479033,0.0006722689328819698,0.0007420976706713489,0.0003279098121256041,0.005103849469401567,0.008040545353815709,0.0015908062532812295,0.0001899515629224524,0.0030922932168460093,0.0012705230741127949,0.006519786005639183,0.005491194628844731,0.0031968457929973937,0.0015476797289268873,0.005348533148324286,0.001832348152224661,0.006378433382130844,0.004020568037294225,0.007009177903581687,0.0016609423836406734,0.0013020551030287209,0.006726951075669341,0.008034392098314136,0.0021720359026726754,0.011771597314994331,0.013818684318076535,0.0026095439836835155,0.013313461230303858,0.011996836229864805,0.00037339249475554226,0.01590124602558518,0.01168842126055658,0.010971639144904621,0.002635318442213652,0.017229511513169093,0.011500105825438922,0.006839366240059874,0.01658852125511512,0.010605144127270982,0.0008310203745827138,0.010380129158368057,0.0011130162199064486,0.003451995069662317,0.009327000979503453,0.0017061751151761229,0.0008831316934818645,0.004469595089461542,0.0007023711683356026,0.008530883175666304,0.0010681475490628145,0.00174183223690072,0.0007580943491278802,0.0030633182696382377,0.008445532084703444,0.00878434361527436,0.0034671897996760848,0.0010786485794733736,0.002158157835582486,0.004769546552918058,0.009060376426541339,0.004633387321150373,0.0035320512931100723,0.0028201845679713955,0.003317626865218415,0.0024250166951826913,0.002066430689121823,0.007641124395723509,0.00026923196567363306,0.005685235804660849,0.00373286215637858,0.00035659819551447924,0.005268348654683841,0.0002754270858638108,0.0012525249991828247,0.0078099973940757295,0.010792838671998872,0.010502452503905246,0.006239826862748821,0.020987099015789212,0.00222081251512396,0.0032563952280595387,0.022714007938884784,0.010881931492828123,0.00852617779166831,0.001267720346464607,0.006985975834124858,0.009648598495866523,0.004089652304170244,0.004508267632578722,0.0022195019060893273,0.007562782854257932,0.013096912647037051,0.0013747320396557683,0.008452893602496125,0.008560630907941125,0.000898231874432831,0.00675334893535684,0.004697431279442554,0.0007087905082547863,0.012807878037835785,0.0030194138361174794,0.0014976529973074193,0.0017755546082875995,0.0012310380564022338,0.002948976274417703,0.006925581547047699,0.003699110562036978,0.006711719685688067,0.011502181500052444,1.7438524841040248e-05,0.002146103000463029,0.002082468563852302,0.004625683691842575,0.0010469016298637612,3.808514800862639e-05,0.0065876322869362625,0.0010115259764935658,0.008802364401891971,0.0010708986882486116,0.000950948132915741,0.00582197702081011,0.008855919648712351,0.008128768500641037,0.006116809555866354,0.010442945224567346,0.004649257428951614,0.009670462557011206,0.00298073014106226,0.009427615127716393,0.005740911810812932,0.007642995575579903,0.0029238703472564964,0.007643076127193282,0.0045004847673171255,0.0022826717159194487,0.00460949852364223,0.0001758440102275216,0.0068241647017259766,0.004677163660893768,0.0007665958837028697,0.018588425780335704,0.014323116131046199,0.01203318530199482,0.0126074354387411,0.0006426208211518514,0.01292592289421357,0.000910203918275343,0.007203659050794897,0.002874970784835895,0.00034262353493552666,1.995503465579418e-05,0.014116741669229604,0.006395208846051048,0.010879533213144832,0.0019185981834688448,0.004064426332368143,0.005565861774648795,0.003697210802720008,0.002726406923544644,0.0025573557297846605,0.0007112973716782989,0.000836743083095115,0.007666003452600378,0.0005030044207039452,0.00747929872680686,0.002193123145604048,0.004165779003972858,0.0014991519920375396,0.00909425204036829,0.00853860849985466,7.258531539200419e-05,0.007122391651236626,0.00033521461097762995,0.004932641459037157,0.0008657565903060771,3.395098404190833e-05,0.008343874454693534,0.006633244037574926,0.008331741632201073,0.003854705717721174,0.0011403144471451299,0.014869265218065308,0.01118782288293474,0.0033201287296620308,0.0016870749056518974,0.006441867553744984,0.011468998674479813,0.060543828751667306,0.01438343869822667,0.02644092907918516,0.014606871524448728,0.008999952189538085,0.01673075806255042,0.00017747076898189107,0.003918692254435641,0.031015221473356114,0.012214261971749352,0.014718492616298207,0.0037442421170172935,0.008177278702023116,0.013556655475682078,0.011969668235860098,0.00827785142343096,0.01878488465267303,0.004298191170313714,0.01529233363767979,0.005009542099664088,0.004531001832653203,0.015756943165827764,0.009041044884783744,0.008371764170464147,0.001677641372159755,0.005730639622957057,0.007155365883905418,0.0036054526780180396,0.006409157519801312,0.0064071581324238736,0.0006327942853729951,0.0027384827334753226,0.0023007288895726674,0.003435228739302687,0.009993580954931858,0.0035898742533948536,0.010144040989640501,0.001671626404583293,0.006710014078512572,0.01524899790823575,0.01266131471119003,0.0052058118315070345,0.015850478138508706,0.01598215087400412,0.00527893512152211,0.007975248642445365,0.008752272809347872,0.016285383484969884,0.003439866491129706,0.017642760820757886,0.021807516584335218,0.019273262670013835,0.011580731916657427,0.016032507557284248,0.001789548534858909,0.0017712784469292586,0.005741126947631514,0.0035303368029282467,0.00868469460336918,0.006418196978792423,0.005693660866217698,0.014738221178340893,0.005476865536104825,0.002273017902771457,0.013839368887685666,0.00031668077285651464,0.01380254196564934,0.0010082963259936406,0.01079482976893864,0.0038898969855534204,0.007372105129887174,0.004699921149025954,0.011287715277781274,0.006012173623114236,0.010341818218279286,0.001014883350162421,0.006470976590856381,0.016494413826352528,0.011755774236888783,0.014335038467166328,0.004211758040806757,0.007690316372556794,0.0036022533265391843,0.0017806378908797882,0.00813223411591224,0.007346296237811245,0.014807755166462044,0.0011647198427056082,0.000768591077205727,0.0019465941937433229,0.0018135655401927409,0.005111429423335423,0.003325072472303958,0.002312366351411299,0.00027731138634301544,0.0013272329146101214,0.005208054995812006,0.007472118231364178,0.003445214723939216,0.00820806865888457,0.002014630238242887,0.010094319060165446,0.0023794199422138007,0.0016738821949289218,0.0024649821979920716,0.002947738741944761,0.001606033834480769,0.0026174309818660646,0.008108577149078755,0.008487698356534068,0.0014945751943340468,0.0022176660815187432,0.0042973414690568035,0.00283852816777852,0.012061715863250555,0.0014599428049599794,0.004094493547635025,0.008264047735016433,0.016919170336134215,0.007432441620920827,0.003369122716966544,0.0073661600060432875,0.0036573205869530057,0.0029914274720983514,0.00181812861650954,0.0019474456805763651,0.0017984504334940254,0.0036736112761168727,0.006440511240473512,0.0041731721062596705,0.0037259083006286886,0.000887306784404629,0.0071966809110382,0.0022912737234968006,0.020495586171746183,0.0030805438956171827,0.01012871135227833,0.0062044168953239165,0.013744072068897495,0.002813734056029915,0.01870989151139746,0.006839508503304614,0.009378434574516703,0.014412812398356678,0.0008808327792149129,0.022126148364755238,0.0221369988429565,0.012272191404502308,0.011594770446318847,0.005053402374178617,0.007119559648820939,0.01218202728525597,0.00805832262263273,0.024445646004581434,0.004825441551572496,0.02942523504760608,0.01838502294652855,0.019688139439344,0.024441095491292586,0.009478331934065665,0.024182488501784505,0.03010553708080721,0.0015829235665787422,0.0035667473495824,0.014853713471199015,0.005878503718333761,0.009813054238449581,0.012060363275690378,0.01410774953829197,0.0039616294239337435,0.001873909275516894,0.013993218645289573,0.006589013388980547,0.015155971507018862,0.01052863988146946],\"type\":\"scatter\"}],                        {\"legend\":{\"bgcolor\":\"#151516\",\"font\":{\"color\":\"#D9D9D9\"}},\"paper_bgcolor\":\"#151516\",\"plot_bgcolor\":\"#151516\",\"template\":{\"data\":{\"barpolar\":[{\"marker\":{\"line\":{\"color\":\"#E5ECF6\",\"width\":0.5},\"pattern\":{\"fillmode\":\"overlay\",\"size\":10,\"solidity\":0.2}},\"type\":\"barpolar\"}],\"bar\":[{\"error_x\":{\"color\":\"#2a3f5f\"},\"error_y\":{\"color\":\"#2a3f5f\"},\"marker\":{\"line\":{\"color\":\"#E5ECF6\",\"width\":0.5},\"pattern\":{\"fillmode\":\"overlay\",\"size\":10,\"solidity\":0.2}},\"type\":\"bar\"}],\"carpet\":[{\"aaxis\":{\"endlinecolor\":\"#2a3f5f\",\"gridcolor\":\"white\",\"linecolor\":\"white\",\"minorgridcolor\":\"white\",\"startlinecolor\":\"#2a3f5f\"},\"baxis\":{\"endlinecolor\":\"#2a3f5f\",\"gridcolor\":\"white\",\"linecolor\":\"white\",\"minorgridcolor\":\"white\",\"startlinecolor\":\"#2a3f5f\"},\"type\":\"carpet\"}],\"choropleth\":[{\"colorbar\":{\"outlinewidth\":0,\"ticks\":\"\"},\"type\":\"choropleth\"}],\"contourcarpet\":[{\"colorbar\":{\"outlinewidth\":0,\"ticks\":\"\"},\"type\":\"contourcarpet\"}],\"contour\":[{\"colorbar\":{\"outlinewidth\":0,\"ticks\":\"\"},\"colorscale\":[[0.0,\"#0d0887\"],[0.1111111111111111,\"#46039f\"],[0.2222222222222222,\"#7201a8\"],[0.3333333333333333,\"#9c179e\"],[0.4444444444444444,\"#bd3786\"],[0.5555555555555556,\"#d8576b\"],[0.6666666666666666,\"#ed7953\"],[0.7777777777777778,\"#fb9f3a\"],[0.8888888888888888,\"#fdca26\"],[1.0,\"#f0f921\"]],\"type\":\"contour\"}],\"heatmapgl\":[{\"colorbar\":{\"outlinewidth\":0,\"ticks\":\"\"},\"colorscale\":[[0.0,\"#0d0887\"],[0.1111111111111111,\"#46039f\"],[0.2222222222222222,\"#7201a8\"],[0.3333333333333333,\"#9c179e\"],[0.4444444444444444,\"#bd3786\"],[0.5555555555555556,\"#d8576b\"],[0.6666666666666666,\"#ed7953\"],[0.7777777777777778,\"#fb9f3a\"],[0.8888888888888888,\"#fdca26\"],[1.0,\"#f0f921\"]],\"type\":\"heatmapgl\"}],\"heatmap\":[{\"colorbar\":{\"outlinewidth\":0,\"ticks\":\"\"},\"colorscale\":[[0.0,\"#0d0887\"],[0.1111111111111111,\"#46039f\"],[0.2222222222222222,\"#7201a8\"],[0.3333333333333333,\"#9c179e\"],[0.4444444444444444,\"#bd3786\"],[0.5555555555555556,\"#d8576b\"],[0.6666666666666666,\"#ed7953\"],[0.7777777777777778,\"#fb9f3a\"],[0.8888888888888888,\"#fdca26\"],[1.0,\"#f0f921\"]],\"type\":\"heatmap\"}],\"histogram2dcontour\":[{\"colorbar\":{\"outlinewidth\":0,\"ticks\":\"\"},\"colorscale\":[[0.0,\"#0d0887\"],[0.1111111111111111,\"#46039f\"],[0.2222222222222222,\"#7201a8\"],[0.3333333333333333,\"#9c179e\"],[0.4444444444444444,\"#bd3786\"],[0.5555555555555556,\"#d8576b\"],[0.6666666666666666,\"#ed7953\"],[0.7777777777777778,\"#fb9f3a\"],[0.8888888888888888,\"#fdca26\"],[1.0,\"#f0f921\"]],\"type\":\"histogram2dcontour\"}],\"histogram2d\":[{\"colorbar\":{\"outlinewidth\":0,\"ticks\":\"\"},\"colorscale\":[[0.0,\"#0d0887\"],[0.1111111111111111,\"#46039f\"],[0.2222222222222222,\"#7201a8\"],[0.3333333333333333,\"#9c179e\"],[0.4444444444444444,\"#bd3786\"],[0.5555555555555556,\"#d8576b\"],[0.6666666666666666,\"#ed7953\"],[0.7777777777777778,\"#fb9f3a\"],[0.8888888888888888,\"#fdca26\"],[1.0,\"#f0f921\"]],\"type\":\"histogram2d\"}],\"histogram\":[{\"marker\":{\"pattern\":{\"fillmode\":\"overlay\",\"size\":10,\"solidity\":0.2}},\"type\":\"histogram\"}],\"mesh3d\":[{\"colorbar\":{\"outlinewidth\":0,\"ticks\":\"\"},\"type\":\"mesh3d\"}],\"parcoords\":[{\"line\":{\"colorbar\":{\"outlinewidth\":0,\"ticks\":\"\"}},\"type\":\"parcoords\"}],\"pie\":[{\"automargin\":true,\"type\":\"pie\"}],\"scatter3d\":[{\"line\":{\"colorbar\":{\"outlinewidth\":0,\"ticks\":\"\"}},\"marker\":{\"colorbar\":{\"outlinewidth\":0,\"ticks\":\"\"}},\"type\":\"scatter3d\"}],\"scattercarpet\":[{\"marker\":{\"colorbar\":{\"outlinewidth\":0,\"ticks\":\"\"}},\"type\":\"scattercarpet\"}],\"scattergeo\":[{\"marker\":{\"colorbar\":{\"outlinewidth\":0,\"ticks\":\"\"}},\"type\":\"scattergeo\"}],\"scattergl\":[{\"marker\":{\"colorbar\":{\"outlinewidth\":0,\"ticks\":\"\"}},\"type\":\"scattergl\"}],\"scattermapbox\":[{\"marker\":{\"colorbar\":{\"outlinewidth\":0,\"ticks\":\"\"}},\"type\":\"scattermapbox\"}],\"scatterpolargl\":[{\"marker\":{\"colorbar\":{\"outlinewidth\":0,\"ticks\":\"\"}},\"type\":\"scatterpolargl\"}],\"scatterpolar\":[{\"marker\":{\"colorbar\":{\"outlinewidth\":0,\"ticks\":\"\"}},\"type\":\"scatterpolar\"}],\"scatter\":[{\"fillpattern\":{\"fillmode\":\"overlay\",\"size\":10,\"solidity\":0.2},\"type\":\"scatter\"}],\"scatterternary\":[{\"marker\":{\"colorbar\":{\"outlinewidth\":0,\"ticks\":\"\"}},\"type\":\"scatterternary\"}],\"surface\":[{\"colorbar\":{\"outlinewidth\":0,\"ticks\":\"\"},\"colorscale\":[[0.0,\"#0d0887\"],[0.1111111111111111,\"#46039f\"],[0.2222222222222222,\"#7201a8\"],[0.3333333333333333,\"#9c179e\"],[0.4444444444444444,\"#bd3786\"],[0.5555555555555556,\"#d8576b\"],[0.6666666666666666,\"#ed7953\"],[0.7777777777777778,\"#fb9f3a\"],[0.8888888888888888,\"#fdca26\"],[1.0,\"#f0f921\"]],\"type\":\"surface\"}],\"table\":[{\"cells\":{\"fill\":{\"color\":\"#EBF0F8\"},\"line\":{\"color\":\"white\"}},\"header\":{\"fill\":{\"color\":\"#C8D4E3\"},\"line\":{\"color\":\"white\"}},\"type\":\"table\"}]},\"layout\":{\"annotationdefaults\":{\"arrowcolor\":\"#2a3f5f\",\"arrowhead\":0,\"arrowwidth\":1},\"autotypenumbers\":\"strict\",\"coloraxis\":{\"colorbar\":{\"outlinewidth\":0,\"ticks\":\"\"}},\"colorscale\":{\"diverging\":[[0,\"#8e0152\"],[0.1,\"#c51b7d\"],[0.2,\"#de77ae\"],[0.3,\"#f1b6da\"],[0.4,\"#fde0ef\"],[0.5,\"#f7f7f7\"],[0.6,\"#e6f5d0\"],[0.7,\"#b8e186\"],[0.8,\"#7fbc41\"],[0.9,\"#4d9221\"],[1,\"#276419\"]],\"sequential\":[[0.0,\"#0d0887\"],[0.1111111111111111,\"#46039f\"],[0.2222222222222222,\"#7201a8\"],[0.3333333333333333,\"#9c179e\"],[0.4444444444444444,\"#bd3786\"],[0.5555555555555556,\"#d8576b\"],[0.6666666666666666,\"#ed7953\"],[0.7777777777777778,\"#fb9f3a\"],[0.8888888888888888,\"#fdca26\"],[1.0,\"#f0f921\"]],\"sequentialminus\":[[0.0,\"#0d0887\"],[0.1111111111111111,\"#46039f\"],[0.2222222222222222,\"#7201a8\"],[0.3333333333333333,\"#9c179e\"],[0.4444444444444444,\"#bd3786\"],[0.5555555555555556,\"#d8576b\"],[0.6666666666666666,\"#ed7953\"],[0.7777777777777778,\"#fb9f3a\"],[0.8888888888888888,\"#fdca26\"],[1.0,\"#f0f921\"]]},\"colorway\":[\"#636efa\",\"#EF553B\",\"#00cc96\",\"#ab63fa\",\"#FFA15A\",\"#19d3f3\",\"#FF6692\",\"#B6E880\",\"#FF97FF\",\"#FECB52\"],\"font\":{\"color\":\"#2a3f5f\"},\"geo\":{\"bgcolor\":\"white\",\"lakecolor\":\"white\",\"landcolor\":\"#E5ECF6\",\"showlakes\":true,\"showland\":true,\"subunitcolor\":\"white\"},\"hoverlabel\":{\"align\":\"left\"},\"hovermode\":\"closest\",\"mapbox\":{\"style\":\"light\"},\"paper_bgcolor\":\"white\",\"plot_bgcolor\":\"#E5ECF6\",\"polar\":{\"angularaxis\":{\"gridcolor\":\"white\",\"linecolor\":\"white\",\"ticks\":\"\"},\"bgcolor\":\"#E5ECF6\",\"radialaxis\":{\"gridcolor\":\"white\",\"linecolor\":\"white\",\"ticks\":\"\"}},\"scene\":{\"xaxis\":{\"backgroundcolor\":\"#E5ECF6\",\"gridcolor\":\"white\",\"gridwidth\":2,\"linecolor\":\"white\",\"showbackground\":true,\"ticks\":\"\",\"zerolinecolor\":\"white\"},\"yaxis\":{\"backgroundcolor\":\"#E5ECF6\",\"gridcolor\":\"white\",\"gridwidth\":2,\"linecolor\":\"white\",\"showbackground\":true,\"ticks\":\"\",\"zerolinecolor\":\"white\"},\"zaxis\":{\"backgroundcolor\":\"#E5ECF6\",\"gridcolor\":\"white\",\"gridwidth\":2,\"linecolor\":\"white\",\"showbackground\":true,\"ticks\":\"\",\"zerolinecolor\":\"white\"}},\"shapedefaults\":{\"line\":{\"color\":\"#2a3f5f\"}},\"ternary\":{\"aaxis\":{\"gridcolor\":\"white\",\"linecolor\":\"white\",\"ticks\":\"\"},\"baxis\":{\"gridcolor\":\"white\",\"linecolor\":\"white\",\"ticks\":\"\"},\"bgcolor\":\"#E5ECF6\",\"caxis\":{\"gridcolor\":\"white\",\"linecolor\":\"white\",\"ticks\":\"\"}},\"title\":{\"x\":0.05},\"xaxis\":{\"automargin\":true,\"gridcolor\":\"white\",\"linecolor\":\"white\",\"ticks\":\"\",\"title\":{\"standoff\":15},\"zerolinecolor\":\"white\",\"zerolinewidth\":2},\"yaxis\":{\"automargin\":true,\"gridcolor\":\"white\",\"linecolor\":\"white\",\"ticks\":\"\",\"title\":{\"standoff\":15},\"zerolinecolor\":\"white\",\"zerolinewidth\":2}}},\"title\":{\"font\":{\"color\":\"#D9D9D9\"},\"text\":\"SP500\"},\"xaxis\":{\"gridcolor\":\"#434343\",\"showgrid\":true,\"tickfont\":{\"color\":\"#C2C2C2\"},\"title\":{\"font\":{\"color\":\"#D9D9D9\"},\"text\":\"Time\"},\"zerolinecolor\":\"#666570\"},\"yaxis\":{\"gridcolor\":\"#434343\",\"showgrid\":true,\"tickfont\":{\"color\":\"#C2C2C2\"},\"title\":{\"font\":{\"color\":\"#D9D9D9\"},\"text\":\"Stock Price\"},\"zerolinecolor\":\"#666570\"}},                        {\"showLink\": true, \"linkText\": \"Export to plot.ly\", \"plotlyServerURL\": \"https://plot.ly\", \"responsive\": true}                    ).then(function(){\n",
       "                            \n",
       "var gd = document.getElementById('52dbbded-fd63-4f1e-8cad-b0221233feb2');\n",
       "var x = new MutationObserver(function (mutations, observer) {{\n",
       "        var display = window.getComputedStyle(gd).display;\n",
       "        if (!display || display === 'none') {{\n",
       "            console.log([gd, 'removed!']);\n",
       "            Plotly.purge(gd);\n",
       "            observer.disconnect();\n",
       "        }}\n",
       "}});\n",
       "\n",
       "// Listen for the removal of the full notebook cells\n",
       "var notebookContainer = gd.closest('#notebook-container');\n",
       "if (notebookContainer) {{\n",
       "    x.observe(notebookContainer, {childList: true});\n",
       "}}\n",
       "\n",
       "// Listen for the clearing of the current output cell\n",
       "var outputEl = gd.closest('.output');\n",
       "if (outputEl) {{\n",
       "    x.observe(outputEl, {childList: true});\n",
       "}}\n",
       "\n",
       "                        })                };                });            </script>        </div>"
      ]
     },
     "metadata": {},
     "output_type": "display_data"
    }
   ],
   "source": [
    "# Check stationarity\n",
    "# fix stationarity by apply log and diff\n",
    "df_transformed = pd.DataFrame({'Open': np.log(df_SP.Open).diff(),\n",
    "                              'High': np.log(df_SP.High).diff(),\n",
    "                               'Low': np.log(df_SP.Low).diff(),\n",
    "                               'Close': np.log(df_SP.Close).diff(),\n",
    "                               'Volume':np.log(df_SP.Volume).diff(),\n",
    "                               'Return':np.log(df_SP.Return).diff()\n",
    "                               \n",
    "                              }).rename(columns={\n",
    "                                'Open':\"log_Open\",\n",
    "                                'High': 'log_High',\n",
    "                                'Low': \"log_Low\",\n",
    "                                'Close':'log_Close',\n",
    "                                'Volume': 'log_volume',\n",
    "                                'Return': 'log_Return'}).dropna()                                                                                       \n",
    "                                 \n",
    "display(df_transformed.head())\n",
    "df_transformed.log_Close.iplot(fill = True, colorscale=\"polar\", theme=\"solar\",\n",
    "              title=\"SP500\", xTitle= \"Time\", yTitle= \"Stock Price\");"
   ]
  },
  {
   "cell_type": "code",
   "execution_count": 7,
   "id": "32eb787e",
   "metadata": {},
   "outputs": [
    {
     "data": {
      "text/plain": [
       "log_Open      0\n",
       "log_High      0\n",
       "log_Low       0\n",
       "log_Close     0\n",
       "log_volume    0\n",
       "log_Return    0\n",
       "dtype: int64"
      ]
     },
     "execution_count": 7,
     "metadata": {},
     "output_type": "execute_result"
    }
   ],
   "source": [
    "df_transformed.isna().sum()"
   ]
  },
  {
   "cell_type": "code",
   "execution_count": 8,
   "id": "10d8b5e8",
   "metadata": {},
   "outputs": [
    {
     "name": "stdout",
     "output_type": "stream",
     "text": [
      "Augmneted Dickey_fuller Statistic: -3.625497\n",
      "p-value: 0.005292\n",
      "critical values at different levels:\n",
      "\t1%: -3.431\n",
      "\t5%: -2.862\n",
      "\t10%: -2.567\n"
     ]
    }
   ],
   "source": [
    "# reset date column\n",
    "df_SP.reset_index(\"Date\")\n",
    "\n",
    "# save a dataframe to new csv called Dickey_Fuller \n",
    "df_SP.to_csv(\"Dickey-Fuller-Test.csv\")\n",
    "\n",
    "# set header and index_col = 0\n",
    "df_SP_Test = pd.read_csv(\"Dickey-Fuller-Test.csv\", header=0, index_col=0)\n",
    "\n",
    "# get values of our dataframe then reshape it to 1 dimentional array to be fitted into adfuller model \n",
    "values = df_SP_Test.values.reshape(-1)\n",
    "\n",
    "# results \n",
    "res = adfuller(values)\n",
    "\n",
    "# print results \n",
    "print('Augmneted Dickey_fuller Statistic: %f' % res[0])\n",
    "print('p-value: %f' % res[1])\n",
    "print('critical values at different levels:')\n",
    "for k, v in res[4].items():\n",
    "    print('\\t%s: %.3f' % (k, v))"
   ]
  },
  {
   "cell_type": "code",
   "execution_count": 9,
   "id": "2c9cccd6",
   "metadata": {},
   "outputs": [],
   "source": [
    "# if p value > alpha level, probably null is true (non-stationary)\n",
    "# ADF statistiscs is higher than critical values, then non-stationary"
   ]
  },
  {
   "cell_type": "code",
   "execution_count": 10,
   "id": "9cfcf83d",
   "metadata": {},
   "outputs": [
    {
     "data": {
      "text/plain": [
       "'\\nour results show that Dickey_fuller Statistic is greater than critical values of 1%,5%,10% \\np-value is less than 0.05\\nso, we proved the stationarity \\n\\n'"
      ]
     },
     "execution_count": 10,
     "metadata": {},
     "output_type": "execute_result"
    }
   ],
   "source": [
    "'''\n",
    "our results show that Dickey_fuller Statistic is greater than critical values of 1%,5%,10% \n",
    "p-value is less than 0.05\n",
    "so, we proved the stationarity \n",
    "\n",
    "'''"
   ]
  },
  {
   "cell_type": "markdown",
   "id": "93d1fa5f",
   "metadata": {},
   "source": [
    "# Calculating volatility for SP500"
   ]
  },
  {
   "cell_type": "code",
   "execution_count": 11,
   "id": "a690dc5a",
   "metadata": {},
   "outputs": [],
   "source": [
    "# Resample daily datat\n",
    "df_transformed['log_Return'] = df_transformed['log_Close'] - df_transformed['log_Close'].shift(1)\n",
    "df_transformed['squared_log_Return'] = np.power(df_transformed['log_Return'], 2)\n",
    "df_transformed.dropna(inplace=True)"
   ]
  },
  {
   "cell_type": "code",
   "execution_count": 12,
   "id": "59ccf13f",
   "metadata": {},
   "outputs": [
    {
     "name": "stdout",
     "output_type": "stream",
     "text": [
      "Daily volatility: 0.01099%\n",
      "\n",
      "Monthly volatility: 0.05038%\n",
      "\n",
      "Annual volatility: 0.17453%\n"
     ]
    }
   ],
   "source": [
    "# Calculate daily std of returns\n",
    "std_daily = df_SP['Return'].std()\n",
    "\n",
    "print(f'Daily volatility: {round(std_daily,5)}%')\n",
    "\n",
    "# Convert daily volatility to monthly volatility\n",
    "std_monthly = np.sqrt(21) * std_daily\n",
    "\n",
    "print(f'\\nMonthly volatility: {round(std_monthly,5)}%')\n",
    "\n",
    "# Convert daily volatility to annaul volatility\n",
    "std_annual = np.sqrt(252) * std_daily\n",
    "\n",
    "print(f'\\nAnnual volatility: {round(std_annual,5)}%')\n"
   ]
  },
  {
   "cell_type": "markdown",
   "id": "b3eb899d",
   "metadata": {},
   "source": [
    "# Apply ACF & PACF plot to find the right q, p?"
   ]
  },
  {
   "cell_type": "code",
   "execution_count": 13,
   "id": "081eb512",
   "metadata": {},
   "outputs": [
    {
     "data": {
      "text/plain": [
       "-0.5542594686192955"
      ]
     },
     "execution_count": 13,
     "metadata": {},
     "output_type": "execute_result"
    }
   ],
   "source": [
    "# check autocorrelation log_close \n",
    "df_transformed.log_Return.autocorr()"
   ]
  },
  {
   "cell_type": "code",
   "execution_count": 14,
   "id": "0276721b",
   "metadata": {},
   "outputs": [
    {
     "data": {
      "image/png": "[encoded data removed]",
      "text/plain": [
       "<Figure size 864x432 with 2 Axes>"
      ]
     },
     "metadata": {
      "needs_background": "light"
     },
     "output_type": "display_data"
    }
   ],
   "source": [
    "#fig, ax = plt.subplot()\n",
    "\n",
    "fig, axes = plt.subplots(1, 2, figsize=(12, 6))\n",
    "plot_acf(df_transformed['squared_log_Return'][1:],zero=False,alpha=0.1, title='Squared Daily Log Return ACF',ax=axes[0])\n",
    "plot_acf(df_transformed['log_Return'][1:],zero=False,alpha=0.1, title='Daily Squared Log Return ACF',ax=axes[0])\n",
    "plot_pacf(df_transformed['squared_log_Return'][1:],zero=False,alpha=0.1, title='Squared Daily Log Return PACF',ax=axes[1])\n",
    "plot_pacf(df_transformed['log_Return'][1:],zero=False,alpha=0.1, title='Daily Squared Log Return PACF',ax=axes[1])\n",
    "plt.show()"
   ]
  },
  {
   "cell_type": "markdown",
   "id": "3e4c4aa7",
   "metadata": {},
   "source": [
    "## Fit a Garch model ()  since we assumed our data is stationary\n",
    "-  p = ?, q = ?"
   ]
  },
  {
   "cell_type": "markdown",
   "id": "b82f73fe",
   "metadata": {},
   "source": [
    "## Resample data by weekly return to get futher forcasting "
   ]
  },
  {
   "cell_type": "code",
   "execution_count": 15,
   "id": "c82d0e31",
   "metadata": {},
   "outputs": [
    {
     "data": {
      "text/html": [
       "<div>\n",
       "<style scoped>\n",
       "    .dataframe tbody tr th:only-of-type {\n",
       "        vertical-align: middle;\n",
       "    }\n",
       "\n",
       "    .dataframe tbody tr th {\n",
       "        vertical-align: top;\n",
       "    }\n",
       "\n",
       "    .dataframe thead th {\n",
       "        text-align: right;\n",
       "    }\n",
       "</style>\n",
       "<table border=\"1\" class=\"dataframe\">\n",
       "  <thead>\n",
       "    <tr style=\"text-align: right;\">\n",
       "      <th></th>\n",
       "      <th>log_Open</th>\n",
       "      <th>log_High</th>\n",
       "      <th>log_Low</th>\n",
       "      <th>log_Close</th>\n",
       "      <th>log_volume</th>\n",
       "      <th>log_Return</th>\n",
       "      <th>squared_log_Return</th>\n",
       "    </tr>\n",
       "    <tr>\n",
       "      <th>Date</th>\n",
       "      <th></th>\n",
       "      <th></th>\n",
       "      <th></th>\n",
       "      <th></th>\n",
       "      <th></th>\n",
       "      <th></th>\n",
       "      <th></th>\n",
       "    </tr>\n",
       "  </thead>\n",
       "  <tbody>\n",
       "    <tr>\n",
       "      <th>2010-10-24</th>\n",
       "      <td>0.003267</td>\n",
       "      <td>0.003568</td>\n",
       "      <td>0.004952</td>\n",
       "      <td>0.004457</td>\n",
       "      <td>-0.005208</td>\n",
       "      <td>0.000448</td>\n",
       "      <td>0.000011</td>\n",
       "    </tr>\n",
       "    <tr>\n",
       "      <th>2010-10-31</th>\n",
       "      <td>0.003568</td>\n",
       "      <td>0.003195</td>\n",
       "      <td>0.005078</td>\n",
       "      <td>0.003415</td>\n",
       "      <td>-0.065955</td>\n",
       "      <td>-0.000875</td>\n",
       "      <td>0.000008</td>\n",
       "    </tr>\n",
       "  </tbody>\n",
       "</table>\n",
       "</div>"
      ],
      "text/plain": [
       "            log_Open  log_High   log_Low  log_Close  log_volume  log_Return  \\\n",
       "Date                                                                          \n",
       "2010-10-24  0.003267  0.003568  0.004952   0.004457   -0.005208    0.000448   \n",
       "2010-10-31  0.003568  0.003195  0.005078   0.003415   -0.065955   -0.000875   \n",
       "\n",
       "            squared_log_Return  \n",
       "Date                            \n",
       "2010-10-24            0.000011  \n",
       "2010-10-31            0.000008  "
      ]
     },
     "metadata": {},
     "output_type": "display_data"
    },
    {
     "data": {
      "text/html": [
       "<div>\n",
       "<style scoped>\n",
       "    .dataframe tbody tr th:only-of-type {\n",
       "        vertical-align: middle;\n",
       "    }\n",
       "\n",
       "    .dataframe tbody tr th {\n",
       "        vertical-align: top;\n",
       "    }\n",
       "\n",
       "    .dataframe thead th {\n",
       "        text-align: right;\n",
       "    }\n",
       "</style>\n",
       "<table border=\"1\" class=\"dataframe\">\n",
       "  <thead>\n",
       "    <tr style=\"text-align: right;\">\n",
       "      <th></th>\n",
       "      <th>log_Open</th>\n",
       "      <th>log_High</th>\n",
       "      <th>log_Low</th>\n",
       "      <th>log_Close</th>\n",
       "      <th>log_volume</th>\n",
       "      <th>log_Return</th>\n",
       "      <th>squared_log_Return</th>\n",
       "    </tr>\n",
       "    <tr>\n",
       "      <th>Date</th>\n",
       "      <th></th>\n",
       "      <th></th>\n",
       "      <th></th>\n",
       "      <th></th>\n",
       "      <th></th>\n",
       "      <th></th>\n",
       "      <th></th>\n",
       "    </tr>\n",
       "  </thead>\n",
       "  <tbody>\n",
       "    <tr>\n",
       "      <th>2022-09-11</th>\n",
       "      <td>0.010019</td>\n",
       "      <td>0.008448</td>\n",
       "      <td>0.010140</td>\n",
       "      <td>0.008210</td>\n",
       "      <td>0.031322</td>\n",
       "      <td>-0.000442</td>\n",
       "      <td>0.00007</td>\n",
       "    </tr>\n",
       "    <tr>\n",
       "      <th>2022-09-18</th>\n",
       "      <td>0.010997</td>\n",
       "      <td>0.009677</td>\n",
       "      <td>0.011209</td>\n",
       "      <td>0.009628</td>\n",
       "      <td>0.021186</td>\n",
       "      <td>0.001313</td>\n",
       "      <td>0.00006</td>\n",
       "    </tr>\n",
       "  </tbody>\n",
       "</table>\n",
       "</div>"
      ],
      "text/plain": [
       "            log_Open  log_High   log_Low  log_Close  log_volume  log_Return  \\\n",
       "Date                                                                          \n",
       "2022-09-11  0.010019  0.008448  0.010140   0.008210    0.031322   -0.000442   \n",
       "2022-09-18  0.010997  0.009677  0.011209   0.009628    0.021186    0.001313   \n",
       "\n",
       "            squared_log_Return  \n",
       "Date                            \n",
       "2022-09-11             0.00007  \n",
       "2022-09-18             0.00006  "
      ]
     },
     "metadata": {},
     "output_type": "display_data"
    },
    {
     "data": {
      "image/png": "[encoded data removed]",
      "text/plain": [
       "<Figure size 864x576 with 1 Axes>"
      ]
     },
     "metadata": {
      "needs_background": "light"
     },
     "output_type": "display_data"
    }
   ],
   "source": [
    "# Creating Garch dataframe of 5 day window by apply mean()\n",
    "df_Garch = df_transformed.rolling(window=5).mean()\n",
    "\n",
    "# dropna's\n",
    "df_Garch.dropna(inplace=True)\n",
    "\n",
    "# resample by weekly \n",
    "df_Garch = df_Garch.resample('W').mean()\n",
    "\n",
    "# check if there is na's\n",
    "df_Garch.fillna(method='ffill',inplace=True) \n",
    "\n",
    "# data frame\n",
    "#print(df_Garch.shape)\n",
    "display(df_Garch.head(2))\n",
    "display(df_Garch.tail(2))\n",
    "df_Garch.loc[:,['log_Close','log_Return','squared_log_Return']].plot(figsize=(12,8))\n",
    "plt.show()"
   ]
  },
  {
   "cell_type": "markdown",
   "id": "49a49283",
   "metadata": {},
   "source": [
    "# Implement a basic GARCH model\n",
    "1. to implement a GARCH(p,q) model:\n",
    "- First defines basic GRACH(p,q) model\n",
    "- train test split then fit model\n",
    "- review the model fitting summary and plot the results"
   ]
  },
  {
   "cell_type": "code",
   "execution_count": 16,
   "id": "b8b6c98e",
   "metadata": {},
   "outputs": [
    {
     "name": "stdout",
     "output_type": "stream",
     "text": [
      "<class 'pandas.core.frame.DataFrame'>\n",
      "DatetimeIndex: 435 entries, 2010-10-24 to 2019-02-17\n",
      "Freq: W-SUN\n",
      "Data columns (total 7 columns):\n",
      " #   Column              Non-Null Count  Dtype  \n",
      "---  ------              --------------  -----  \n",
      " 0   log_Open            435 non-null    float64\n",
      " 1   log_High            435 non-null    float64\n",
      " 2   log_Low             435 non-null    float64\n",
      " 3   log_Close           435 non-null    float64\n",
      " 4   log_volume          435 non-null    float64\n",
      " 5   log_Return          435 non-null    float64\n",
      " 6   squared_log_Return  435 non-null    float64\n",
      "dtypes: float64(7)\n",
      "memory usage: 27.2 KB\n",
      "None\n",
      "<class 'pandas.core.frame.DataFrame'>\n",
      "DatetimeIndex: 187 entries, 2019-02-24 to 2022-09-18\n",
      "Freq: W-SUN\n",
      "Data columns (total 7 columns):\n",
      " #   Column              Non-Null Count  Dtype  \n",
      "---  ------              --------------  -----  \n",
      " 0   log_Open            187 non-null    float64\n",
      " 1   log_High            187 non-null    float64\n",
      " 2   log_Low             187 non-null    float64\n",
      " 3   log_Close           187 non-null    float64\n",
      " 4   log_volume          187 non-null    float64\n",
      " 5   log_Return          187 non-null    float64\n",
      " 6   squared_log_Return  187 non-null    float64\n",
      "dtypes: float64(7)\n",
      "memory usage: 11.7 KB\n",
      "None\n"
     ]
    }
   ],
   "source": [
    "# apply train test split \n",
    "split = int(len(df_Garch) * 0.70)\n",
    "df_train, df_test = df_Garch.iloc[:split], df_Garch.iloc[split:]\n",
    "print(df_train.info())  \n",
    "print(df_test.info()) "
   ]
  },
  {
   "cell_type": "code",
   "execution_count": 17,
   "id": "acd43f4b",
   "metadata": {},
   "outputs": [
    {
     "name": "stdout",
     "output_type": "stream",
     "text": [
      "Testing Order: p = 0, q = 1\n",
      "Testing Order: p = 0, q = 2\n",
      "Testing Order: p = 1, q = 0\n",
      "Testing Order: p = 1, q = 1\n",
      "Testing Order: p = 1, q = 2\n",
      "Testing Order: p = 2, q = 0\n",
      "Testing Order: p = 2, q = 1\n",
      "Testing Order: p = 2, q = 2\n"
     ]
    }
   ],
   "source": [
    "# Using for loop to make a guess finding right p,q\n",
    "for p in range(3):\n",
    "    for q in range(3):\n",
    "        if p == 0 and q == 0:\n",
    "            continue\n",
    "            \n",
    "        print(f'Testing Order: p = {p}, q = {q}')"
   ]
  },
  {
   "cell_type": "code",
   "execution_count": 18,
   "id": "244387a4",
   "metadata": {},
   "outputs": [
    {
     "name": "stdout",
     "output_type": "stream",
     "text": [
      "Inequality constraints incompatible    (Exit mode 4)\n",
      "            Current function value: -3355.9660871794813\n",
      "            Iterations: 1\n",
      "            Function evaluations: 7\n",
      "            Gradient evaluations: 1\n",
      "                     Constant Mean - GARCH Model Results                      \n",
      "==============================================================================\n",
      "Dep. Variable:             log_Return   R-squared:                       0.000\n",
      "Mean Model:             Constant Mean   Adj. R-squared:                  0.000\n",
      "Vol Model:                      GARCH   Log-Likelihood:                3355.97\n",
      "Distribution:                  Normal   AIC:                          -6699.93\n",
      "Method:            Maximum Likelihood   BIC:                          -6673.33\n",
      "                                        No. Observations:                  622\n",
      "Date:                Wed, Oct 05 2022   Df Residuals:                      621\n",
      "Time:                        14:08:14   Df Model:                            1\n",
      "                                 Mean Model                                 \n",
      "============================================================================\n",
      "                 coef    std err          t      P>|t|      95.0% Conf. Int.\n",
      "----------------------------------------------------------------------------\n",
      "mu         3.7325e-05  4.085e-08    913.660      0.000 [3.724e-05,3.741e-05]\n",
      "                              Volatility Model                              \n",
      "============================================================================\n",
      "                 coef    std err          t      P>|t|      95.0% Conf. Int.\n",
      "----------------------------------------------------------------------------\n",
      "omega      4.4063e-07  2.472e-11  1.783e+04      0.000 [4.406e-07,4.407e-07]\n",
      "alpha[1]       0.1000  3.667e-02      2.727  6.397e-03   [2.812e-02,  0.172]\n",
      "alpha[2]       0.1000  9.459e-02      1.057      0.290  [-8.539e-02,  0.285]\n",
      "beta[1]        0.2500      1.510      0.166      0.869     [ -2.710,  3.210]\n",
      "beta[2]        0.2500      1.456      0.172      0.864     [ -2.604,  3.104]\n",
      "============================================================================\n",
      "\n",
      "Covariance estimator: robust\n",
      "WARNING: The optimizer did not indicate successful convergence. The message was Inequality constraints incompatible.\n",
      "See convergence_flag.\n",
      "\n"
     ]
    },
    {
     "name": "stderr",
     "output_type": "stream",
     "text": [
      "C:\\Users\\eszczepalink\\anaconda3\\lib\\site-packages\\arch\\univariate\\base.py:753: ConvergenceWarning:\n",
      "\n",
      "The optimizer returned code 4. The message is:\n",
      "Inequality constraints incompatible\n",
      "See scipy.optimize.fmin_slsqp for code meaning.\n",
      "\n",
      "\n"
     ]
    },
    {
     "data": {
      "image/png": "[encoded data removed]",
      "text/plain": [
       "<Figure size 432x288 with 2 Axes>"
      ]
     },
     "metadata": {
      "needs_background": "light"
     },
     "output_type": "display_data"
    }
   ],
   "source": [
    "#GARCH model with constant mean\n",
    "model = arch_model(df_Garch.log_Return, p = p, q = q,\n",
    "                      mean = 'constant', vol = 'GARCH', dist = 'normal')\n",
    "# Fit the model   freq to avoid display unnecessary value\n",
    "result = model.fit(update_freq = 5)\n",
    " \n",
    "\n",
    "# Display model fitting summary\n",
    "print(result.summary())\n",
    "\n",
    "\n",
    "# Plot fitted results\n",
    "result.plot(annualize='D')\n",
    "plt.show()\n"
   ]
  },
  {
   "cell_type": "markdown",
   "id": "4836d0ce",
   "metadata": {},
   "source": [
    "# Make forecast with GARCH models"
   ]
  },
  {
   "cell_type": "code",
   "execution_count": 19,
   "id": "596d8fd4",
   "metadata": {},
   "outputs": [
    {
     "data": {
      "text/plain": [
       "Timestamp('2022-09-18 00:00:00', freq='W-SUN')"
      ]
     },
     "execution_count": 19,
     "metadata": {},
     "output_type": "execute_result"
    }
   ],
   "source": [
    "df_Garch.index.max()"
   ]
  },
  {
   "cell_type": "code",
   "execution_count": 20,
   "id": "ba96aa12",
   "metadata": {},
   "outputs": [
    {
     "name": "stdout",
     "output_type": "stream",
     "text": [
      "                 h.1       h.2       h.3       h.4       h.5\n",
      "Date                                                        \n",
      "2022-09-18  0.000001  0.000001  0.000001  0.000001  0.000001\n"
     ]
    },
    {
     "data": {
      "text/plain": [
       "<AxesSubplot:>"
      ]
     },
     "execution_count": 20,
     "metadata": {},
     "output_type": "execute_result"
    },
    {
     "data": {
      "image/png": "[encoded data removed]",
      "text/plain": [
       "<Figure size 432x288 with 1 Axes>"
      ]
     },
     "metadata": {
      "needs_background": "light"
     },
     "output_type": "display_data"
    }
   ],
   "source": [
    "# horizon = how many observations we want our model to predict for each day \n",
    "# for each date, we'll get the predicted value, for the next date\n",
    "pred_grach = result.forecast(start = \"2022-09-18\",horizon= 5)\n",
    "# prediction value for next weeks\n",
    "print(pred_grach.variance[-1:])\n",
    "# plot prediction\n",
    "pred_grach.variance[-1:].T.plot()"
   ]
  },
  {
   "cell_type": "markdown",
   "id": "b12766f1",
   "metadata": {},
   "source": [
    "# Distribution assumptions\n",
    "1. Volatility is not directly observed\n",
    "2. GARCH model use residuals as volatilty shocks\n",
    "3. Volatility is related to the residuals\n",
    "### Residual = predicted return - mean return\n",
    "  - Residual = predicted return - mean return\n",
    " \n",
    "  - Standardized residual = residual / return volatility\n"
   ]
  },
  {
   "cell_type": "markdown",
   "id": "cc9880f7",
   "metadata": {},
   "source": [
    "# Plot distribution of standardized residuals"
   ]
  },
  {
   "cell_type": "code",
   "execution_count": 21,
   "id": "33a5f71a",
   "metadata": {},
   "outputs": [
    {
     "data": {
      "image/png": "[encoded data removed]",
      "text/plain": [
       "<Figure size 504x288 with 1 Axes>"
      ]
     },
     "metadata": {
      "needs_background": "light"
     },
     "output_type": "display_data"
    }
   ],
   "source": [
    "# residuals and volatility\n",
    "model_resid = result.resid\n",
    "model_std = result.conditional_volatility\n",
    "\n",
    "# Calculate the standardized residuals\n",
    "result_std = model_resid /model_std\n",
    "\n",
    "# Plot the histogram of the standardized residuals\n",
    "plt.figure(figsize=(7,4))\n",
    "sns.distplot(result_std, norm_hist=True, fit=stats.norm, bins=50, color='r')\n",
    "plt.legend(('normal', 'standardized residuals'))\n",
    "plt.show()\n"
   ]
  },
  {
   "cell_type": "markdown",
   "id": "2cac8a09",
   "metadata": {},
   "source": [
    "# Fit a GARCH with skewed t-distribution\n",
    "- We improve the GARCH model by using a skewed t-distribution"
   ]
  },
  {
   "cell_type": "code",
   "execution_count": 22,
   "id": "f2c91d03",
   "metadata": {},
   "outputs": [
    {
     "name": "stderr",
     "output_type": "stream",
     "text": [
      "C:\\Users\\eszczepalink\\anaconda3\\lib\\site-packages\\arch\\univariate\\base.py:753: ConvergenceWarning:\n",
      "\n",
      "The optimizer returned code 4. The message is:\n",
      "Inequality constraints incompatible\n",
      "See scipy.optimize.fmin_slsqp for code meaning.\n",
      "\n",
      "\n"
     ]
    }
   ],
   "source": [
    "# Garch model skewt\n",
    "model_garch_skewt = arch_model(df_Garch.log_Return, p = p, q = q,\n",
    "                       mean = 'constant', vol = 'GARCH', dist = 'skewt')\n",
    "\n",
    "# fit the model\n",
    "model_garch_skewt_result = model_garch_skewt.fit(disp='off')\n",
    "\n",
    "# get estimated volatility \n",
    "vol_Grch_model = model_garch_skewt_result.conditional_volatility"
   ]
  },
  {
   "cell_type": "code",
   "execution_count": 23,
   "id": "da195ee5",
   "metadata": {},
   "outputs": [
    {
     "data": {
      "image/png": "[encoded data removed]",
      "text/plain": [
       "<Figure size 432x288 with 1 Axes>"
      ]
     },
     "metadata": {
      "needs_background": "light"
     },
     "output_type": "display_data"
    }
   ],
   "source": [
    "# Plot model fitting results\n",
    "plt.plot(vol_Grch_model, color = 'red', label = 'Skewed-t Volatility')\n",
    "plt.plot(df_Garch.log_Return, color = 'grey', \n",
    "         label = 'Weekly Returns', alpha = 0.5)\n",
    "plt.legend(loc = 'upper left')\n",
    "plt.show()"
   ]
  },
  {
   "cell_type": "markdown",
   "id": "4382d879",
   "metadata": {},
   "source": [
    "# Goodness of fit"
   ]
  },
  {
   "cell_type": "markdown",
   "id": "b390dfeb",
   "metadata": {},
   "source": [
    "1. Maximun likelihood\n",
    "2. Lower Criteria (AIC, BIC)"
   ]
  },
  {
   "cell_type": "code",
   "execution_count": 24,
   "id": "0f353a98",
   "metadata": {},
   "outputs": [
    {
     "name": "stdout",
     "output_type": "stream",
     "text": [
      "GARCH BIC : -6673.334533802527\n",
      "GARCH AIC : -6699.932174358963\n",
      "Log-likelihood of GARCH : 3355.9660871794813\n",
      "Log-likelihood of skewt GARCH : 3367.709939519277\n"
     ]
    }
   ],
   "source": [
    "# Print the Criteria (BIC) (AIC) of GARCH\n",
    "print(f'GARCH BIC : { result.bic}')\n",
    "print(f'GARCH AIC : { result.aic}')\n",
    "\n",
    "# Print the log-likelihodd of GARCH\n",
    "print('Log-likelihood of GARCH :', result.loglikelihood)\n",
    "# Print the log-likelihodd of skewt GARCH\n",
    "print('Log-likelihood of skewt GARCH :', model_garch_skewt_result.loglikelihood)"
   ]
  },
  {
   "cell_type": "markdown",
   "id": "7420f7b8",
   "metadata": {},
   "source": [
    "# Backtesting with MAE, MSE"
   ]
  },
  {
   "cell_type": "markdown",
   "id": "8753f4b6",
   "metadata": {},
   "source": [
    "-  Out of sample forecast"
   ]
  },
  {
   "cell_type": "code",
   "execution_count": 33,
   "id": "5d69faf6",
   "metadata": {},
   "outputs": [],
   "source": [
    "def evaluate(y_true, y_pred): \n",
    "    # calculate MAE\n",
    "    mae = mean_absolute_error(y_true, y_pred)\n",
    "    print(f'Mean Absolute Error (MAE): {round(mae,3)}')\n",
    "    # calculate MSE\n",
    "    mse = mean_squared_error(y_true, y_pred)\n",
    "    print(f'Mean Squared Error (MSE): {round(mse,3)}')\n",
    "    return mae, mse"
   ]
  },
  {
   "cell_type": "code",
   "execution_count": 26,
   "id": "2fdd4708",
   "metadata": {},
   "outputs": [],
   "source": [
    "# weekly resample, apply std then calculate y_true, y_pred\n",
    "Garch_std = df_transformed.log_Return.rolling(window=5).std().dropna()\n",
    "Garch_std = Garch_std.resample('W').std().fillna(0)\n",
    "# out put \n",
    "y_true = Garch_std\n",
    "y_pred = model_std"
   ]
  },
  {
   "cell_type": "code",
   "execution_count": 27,
   "id": "9850e520",
   "metadata": {},
   "outputs": [
    {
     "data": {
      "text/plain": [
       "0.0010623459146684733"
      ]
     },
     "execution_count": 27,
     "metadata": {},
     "output_type": "execute_result"
    }
   ],
   "source": [
    "# print out mae\n",
    "mean_absolute_error(y_true,y_pred)"
   ]
  },
  {
   "cell_type": "code",
   "execution_count": 28,
   "id": "3c5d6ffc",
   "metadata": {},
   "outputs": [
    {
     "data": {
      "text/plain": [
       "1.7190893438081998e-06"
      ]
     },
     "execution_count": 28,
     "metadata": {},
     "output_type": "execute_result"
    }
   ],
   "source": [
    "# print out mse\n",
    "mean_squared_error(y_true,y_pred)"
   ]
  },
  {
   "cell_type": "code",
   "execution_count": null,
   "id": "e8bb7473",
   "metadata": {},
   "outputs": [],
   "source": []
  }
 ],
 "metadata": {
  "kernelspec": {
   "display_name": "Python 3 (ipykernel)",
   "language": "python",
   "name": "python3"
  },
  "language_info": {
   "codemirror_mode": {
    "name": "ipython",
    "version": 3
   },
   "file_extension": ".py",
   "mimetype": "text/x-python",
   "name": "python",
   "nbconvert_exporter": "python",
   "pygments_lexer": "ipython3",
   "version": "3.9.12"
  }
 },
 "nbformat": 4,
 "nbformat_minor": 5
}
