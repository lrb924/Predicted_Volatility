{
 "cells": [
  {
   "cell_type": "code",
   "execution_count": 14,
   "metadata": {},
   "outputs": [],
   "source": [
    "# Importing Modules \n",
    "import pandas as pd \n",
    "import numpy as np\n",
    "\n",
    "# import holoviews as hv\n",
    "# import hvplot.pandas\n",
    "import matplotlib.pyplot as plt\n",
    "%matplotlib inline\n",
    "\n",
    "from sklearn.preprocessing import StandardScaler\n",
    "\n",
    "# import statsmodels.api as sm\n",
    "# from statsmodels.graphics.tsaplots import plot_acf, plot_pacf\n",
    "# from statsmodels.tsa.statespace.varmax import VARMAX\n",
    "# from statsmodels.tsa.api import VAR\n",
    "# from statsmodels.tsa.stattools import grangercausalitytests, adfuller\n",
    "\n",
    "from keras.models import Sequential\n",
    "from keras.layers import LSTM\n",
    "from keras.layers import Dense, Dropout\n",
    "\n",
    "\n",
    "from itertools import product"
   ]
  },
  {
   "cell_type": "markdown",
   "metadata": {},
   "source": [
    "## Data Prep and Exploratory Analysis"
   ]
  },
  {
   "cell_type": "code",
   "execution_count": 65,
   "metadata": {},
   "outputs": [
    {
     "data": {
      "text/html": [
       "<div>\n",
       "<style scoped>\n",
       "    .dataframe tbody tr th:only-of-type {\n",
       "        vertical-align: middle;\n",
       "    }\n",
       "\n",
       "    .dataframe tbody tr th {\n",
       "        vertical-align: top;\n",
       "    }\n",
       "\n",
       "    .dataframe thead th {\n",
       "        text-align: right;\n",
       "    }\n",
       "</style>\n",
       "<table border=\"1\" class=\"dataframe\">\n",
       "  <thead>\n",
       "    <tr style=\"text-align: right;\">\n",
       "      <th></th>\n",
       "      <th>DJI_Close</th>\n",
       "      <th>NQ_Close</th>\n",
       "      <th>R2K_Close</th>\n",
       "      <th>SP_Close</th>\n",
       "      <th>return_DJI</th>\n",
       "      <th>return_NQ</th>\n",
       "      <th>return_R2K</th>\n",
       "      <th>return_SP</th>\n",
       "      <th>stdev_DJI</th>\n",
       "      <th>stdev_NQ</th>\n",
       "      <th>stdev_R2K</th>\n",
       "      <th>stdev_SP</th>\n",
       "    </tr>\n",
       "    <tr>\n",
       "      <th>Date</th>\n",
       "      <th></th>\n",
       "      <th></th>\n",
       "      <th></th>\n",
       "      <th></th>\n",
       "      <th></th>\n",
       "      <th></th>\n",
       "      <th></th>\n",
       "      <th></th>\n",
       "      <th></th>\n",
       "      <th></th>\n",
       "      <th></th>\n",
       "      <th></th>\n",
       "    </tr>\n",
       "  </thead>\n",
       "  <tbody>\n",
       "    <tr>\n",
       "      <th>2010-10-04 16:00:00</th>\n",
       "      <td>10751.27</td>\n",
       "      <td>2344.52</td>\n",
       "      <td>669.45</td>\n",
       "      <td>1137.03</td>\n",
       "      <td>-0.007242</td>\n",
       "      <td>-0.011064</td>\n",
       "      <td>-0.014486</td>\n",
       "      <td>-0.008035</td>\n",
       "      <td>0.005068</td>\n",
       "      <td>0.005713</td>\n",
       "      <td>0.009494</td>\n",
       "      <td>0.005474</td>\n",
       "    </tr>\n",
       "    <tr>\n",
       "      <th>2010-10-05 16:00:00</th>\n",
       "      <td>10944.72</td>\n",
       "      <td>2399.83</td>\n",
       "      <td>689.35</td>\n",
       "      <td>1160.75</td>\n",
       "      <td>0.017993</td>\n",
       "      <td>0.023591</td>\n",
       "      <td>0.029726</td>\n",
       "      <td>0.020861</td>\n",
       "      <td>0.010016</td>\n",
       "      <td>0.013010</td>\n",
       "      <td>0.016147</td>\n",
       "      <td>0.011277</td>\n",
       "    </tr>\n",
       "    <tr>\n",
       "      <th>2010-10-06 16:00:00</th>\n",
       "      <td>10967.65</td>\n",
       "      <td>2373.81</td>\n",
       "      <td>685.33</td>\n",
       "      <td>1157.18</td>\n",
       "      <td>0.002095</td>\n",
       "      <td>-0.010842</td>\n",
       "      <td>-0.005832</td>\n",
       "      <td>-0.003076</td>\n",
       "      <td>0.009798</td>\n",
       "      <td>0.014216</td>\n",
       "      <td>0.016778</td>\n",
       "      <td>0.011332</td>\n",
       "    </tr>\n",
       "  </tbody>\n",
       "</table>\n",
       "</div>"
      ],
      "text/plain": [
       "                     DJI_Close  NQ_Close  R2K_Close  SP_Close  return_DJI  \\\n",
       "Date                                                                        \n",
       "2010-10-04 16:00:00   10751.27   2344.52     669.45   1137.03   -0.007242   \n",
       "2010-10-05 16:00:00   10944.72   2399.83     689.35   1160.75    0.017993   \n",
       "2010-10-06 16:00:00   10967.65   2373.81     685.33   1157.18    0.002095   \n",
       "\n",
       "                     return_NQ  return_R2K  return_SP  stdev_DJI  stdev_NQ  \\\n",
       "Date                                                                         \n",
       "2010-10-04 16:00:00  -0.011064   -0.014486  -0.008035   0.005068  0.005713   \n",
       "2010-10-05 16:00:00   0.023591    0.029726   0.020861   0.010016  0.013010   \n",
       "2010-10-06 16:00:00  -0.010842   -0.005832  -0.003076   0.009798  0.014216   \n",
       "\n",
       "                     stdev_R2K  stdev_SP  \n",
       "Date                                      \n",
       "2010-10-04 16:00:00   0.009494  0.005474  \n",
       "2010-10-05 16:00:00   0.016147  0.011277  \n",
       "2010-10-06 16:00:00   0.016778  0.011332  "
      ]
     },
     "execution_count": 65,
     "metadata": {},
     "output_type": "execute_result"
    }
   ],
   "source": [
    "# Importing data \n",
    "DJI_DF = pd.read_csv('./DATA/INDICES/DJI.csv', parse_dates=True, infer_datetime_format=True, index_col=\"Date\" )\n",
    "NQ_DF = pd.read_csv('./DATA/INDICES/NQ.csv', parse_dates=True, infer_datetime_format=True, index_col=\"Date\")\n",
    "R2K_DF = pd.read_csv('./DATA/INDICES/R2K.csv', parse_dates=True, infer_datetime_format=True, index_col=\"Date\")\n",
    "SP_DF = pd.read_csv('./DATA/INDICES/SP.csv', parse_dates=True, infer_datetime_format=True, index_col=\"Date\")\n",
    "\n",
    "# Renaming DataFrames for concatenation \n",
    "DJI_DF = DJI_DF.rename(columns={'Close': 'DJI_Close'})\n",
    "NQ_DF = NQ_DF.rename(columns={'Close': 'NQ_Close'})\n",
    "R2K_DF = R2K_DF.rename(columns={'Close': 'R2K_Close'})\n",
    "SP_DF = SP_DF.rename(columns={'Close': 'SP_Close'})\n",
    "\n",
    "# Concatenating DF's into volatility DF \n",
    "volatility_df = pd.concat([DJI_DF, NQ_DF, R2K_DF, SP_DF], axis=1)\n",
    "\n",
    "# Creating Dialy Returns \n",
    "volatility_df['return_DJI'] = volatility_df['DJI_Close'].pct_change() \n",
    "volatility_df['return_NQ'] = volatility_df['NQ_Close'].pct_change() \n",
    "volatility_df['return_R2K'] = volatility_df['R2K_Close'].pct_change()   \n",
    "volatility_df['return_SP'] = volatility_df['SP_Close'].pct_change() \n",
    "\n",
    "# Dropping NA's from Returns \n",
    "volatility_df.dropna(inplace=True)\n",
    "\n",
    "# Calculating volatility \n",
    "volatility_df['stdev_DJI'] = volatility_df['return_DJI'].rolling(window=5).std()\n",
    "volatility_df['stdev_NQ'] = volatility_df['return_NQ'].rolling(window=5).std()\n",
    "volatility_df['stdev_R2K'] = volatility_df['return_R2K'].rolling(window=5).std()\n",
    "volatility_df['stdev_SP'] = volatility_df['return_SP'].rolling(window=5).std()\n",
    "\n",
    "# Dropping NA's from rolling window volatility \n",
    "volatility_df.dropna(inplace=True)\n",
    "\n",
    "# Final DF \n",
    "volatility_df.head(3)\n"
   ]
  },
  {
   "cell_type": "code",
   "execution_count": 3,
   "metadata": {},
   "outputs": [
    {
     "data": {
      "image/png": "[encoded data removed]",
      "text/plain": [
       "<Figure size 864x576 with 1 Axes>"
      ]
     },
     "metadata": {
      "needs_background": "dark"
     },
     "output_type": "display_data"
    }
   ],
   "source": [
    "def plot_volatility(df):\n",
    "    \n",
    "    for column in df:\n",
    "        if 'stdev' in column:\n",
    "            df[column].plot(title=f'{df[column].name} Volatility', figsize=(12,8))\n",
    "            \n",
    "plot_volatility(volatility_df)\n",
    "\n",
    "# volatility_df['stdev_DJI'].hvplot.line(title='DJI Volatility')"
   ]
  },
  {
   "cell_type": "code",
   "execution_count": null,
   "metadata": {},
   "outputs": [],
   "source": [
    "def plot_grid(df, nrows, ncols):\n",
    "    \n",
    "    fix, axes = plt.subplots(nrows=nrows, ncols=ncols, dpi=120, figsize=(10,6))\n",
    "    for i, ax in enumerate(axes.flatten()):\n",
    "        data = df[df.columns[i]]\n",
    "        ax.plot(data, color='blue', linewidth=1)\n",
    "        \n",
    "        ax.set_title(df.columns[i])\n",
    "        ax.xaxis.set_ticks_position('none')\n",
    "        ax.yaxis.set_ticks_position('none')\n",
    "        ax.spines['top'].set_alpha(0)\n",
    "        ax.tick_params(labelsize=6)\n",
    "        \n",
    "    plt.tight_layout();"
   ]
  },
  {
   "cell_type": "code",
   "execution_count": 4,
   "metadata": {},
   "outputs": [
    {
     "data": {
      "image/png": "[encoded data removed]",
      "text/plain": [
       "<Figure size 432x288 with 1 Axes>"
      ]
     },
     "metadata": {
      "needs_background": "dark"
     },
     "output_type": "display_data"
    },
    {
     "data": {
      "image/png": "[encoded data removed]",
      "text/plain": [
       "<Figure size 432x288 with 1 Axes>"
      ]
     },
     "metadata": {
      "needs_background": "dark"
     },
     "output_type": "display_data"
    },
    {
     "data": {
      "image/png": "[encoded data removed]",
      "text/plain": [
       "<Figure size 432x288 with 1 Axes>"
      ]
     },
     "metadata": {
      "needs_background": "dark"
     },
     "output_type": "display_data"
    },
    {
     "data": {
      "image/png": "[encoded data removed]",
      "text/plain": [
       "<Figure size 432x288 with 1 Axes>"
      ]
     },
     "metadata": {
      "needs_background": "dark"
     },
     "output_type": "display_data"
    }
   ],
   "source": [
    "def plot_acf_squared(df):\n",
    "\n",
    "    for column in df:\n",
    "        if 'return' in column:\n",
    "            plot_acf(np.power(df[column], 2), title=f'{df[column].name}^2 AutoCorrelation', auto_ylims=True);\n",
    "            \n",
    "plot_acf_squared(volatility_df)"
   ]
  },
  {
   "cell_type": "markdown",
   "metadata": {},
   "source": [
    "## Volatility Prediction with VARMAX"
   ]
  },
  {
   "cell_type": "code",
   "execution_count": 82,
   "metadata": {},
   "outputs": [
    {
     "data": {
      "text/html": [
       "<div>\n",
       "<style scoped>\n",
       "    .dataframe tbody tr th:only-of-type {\n",
       "        vertical-align: middle;\n",
       "    }\n",
       "\n",
       "    .dataframe tbody tr th {\n",
       "        vertical-align: top;\n",
       "    }\n",
       "\n",
       "    .dataframe thead th {\n",
       "        text-align: right;\n",
       "    }\n",
       "</style>\n",
       "<table border=\"1\" class=\"dataframe\">\n",
       "  <thead>\n",
       "    <tr style=\"text-align: right;\">\n",
       "      <th></th>\n",
       "      <th>Open</th>\n",
       "      <th>High</th>\n",
       "      <th>Low</th>\n",
       "      <th>Close</th>\n",
       "    </tr>\n",
       "    <tr>\n",
       "      <th>Date</th>\n",
       "      <th></th>\n",
       "      <th></th>\n",
       "      <th></th>\n",
       "      <th></th>\n",
       "    </tr>\n",
       "  </thead>\n",
       "  <tbody>\n",
       "    <tr>\n",
       "      <th>2017-01-03</th>\n",
       "      <td>19872.86</td>\n",
       "      <td>19938.53</td>\n",
       "      <td>19775.93</td>\n",
       "      <td>19881.76</td>\n",
       "    </tr>\n",
       "    <tr>\n",
       "      <th>2017-01-04</th>\n",
       "      <td>19890.94</td>\n",
       "      <td>19956.14</td>\n",
       "      <td>19878.83</td>\n",
       "      <td>19942.16</td>\n",
       "    </tr>\n",
       "    <tr>\n",
       "      <th>2017-01-05</th>\n",
       "      <td>19924.56</td>\n",
       "      <td>19948.60</td>\n",
       "      <td>19811.12</td>\n",
       "      <td>19899.29</td>\n",
       "    </tr>\n",
       "    <tr>\n",
       "      <th>2017-01-06</th>\n",
       "      <td>19906.96</td>\n",
       "      <td>19999.63</td>\n",
       "      <td>19834.08</td>\n",
       "      <td>19963.80</td>\n",
       "    </tr>\n",
       "    <tr>\n",
       "      <th>2017-01-09</th>\n",
       "      <td>19931.41</td>\n",
       "      <td>19943.78</td>\n",
       "      <td>19887.38</td>\n",
       "      <td>19887.38</td>\n",
       "    </tr>\n",
       "  </tbody>\n",
       "</table>\n",
       "</div>"
      ],
      "text/plain": [
       "                Open      High       Low     Close\n",
       "Date                                              \n",
       "2017-01-03  19872.86  19938.53  19775.93  19881.76\n",
       "2017-01-04  19890.94  19956.14  19878.83  19942.16\n",
       "2017-01-05  19924.56  19948.60  19811.12  19899.29\n",
       "2017-01-06  19906.96  19999.63  19834.08  19963.80\n",
       "2017-01-09  19931.41  19943.78  19887.38  19887.38"
      ]
     },
     "execution_count": 82,
     "metadata": {},
     "output_type": "execute_result"
    }
   ],
   "source": [
    "DJI_OHLC_DF = pd.read_csv('./DATA/INDICES/DJI_OHLC.csv', parse_dates=True, infer_datetime_format=True, index_col=\"Date\" )\n",
    "# DJI_OHLC_DF = DJI_OHLC_DF.asfreq('D')\n",
    "DJI_OHLC_DF = DJI_OHLC_DF.loc['2017-01-01':'2022-01-01']\n",
    "DJI_OHLC_DF.head()"
   ]
  },
  {
   "cell_type": "code",
   "execution_count": 83,
   "metadata": {},
   "outputs": [
    {
     "name": "stdout",
     "output_type": "stream",
     "text": [
      "ADF Statistic: -11.005923122355057\n",
      "p-value: 6.504655980059534e-20\n"
     ]
    }
   ],
   "source": [
    "# Check stationarity\n",
    "adfuller_res = adfuller(DJI_OHLC_DF['Close'].diff()[1:])\n",
    "\n",
    "print(f'ADF Statistic: {adfuller_res[0]}')\n",
    "print(f'p-value: {adfuller_res[1]}')"
   ]
  },
  {
   "cell_type": "code",
   "execution_count": 84,
   "metadata": {},
   "outputs": [
    {
     "data": {
      "text/html": [
       "<div>\n",
       "<style scoped>\n",
       "    .dataframe tbody tr th:only-of-type {\n",
       "        vertical-align: middle;\n",
       "    }\n",
       "\n",
       "    .dataframe tbody tr th {\n",
       "        vertical-align: top;\n",
       "    }\n",
       "\n",
       "    .dataframe thead th {\n",
       "        text-align: right;\n",
       "    }\n",
       "</style>\n",
       "<table border=\"1\" class=\"dataframe\">\n",
       "  <thead>\n",
       "    <tr style=\"text-align: right;\">\n",
       "      <th></th>\n",
       "      <th>Open</th>\n",
       "      <th>High</th>\n",
       "      <th>Low</th>\n",
       "      <th>Close</th>\n",
       "    </tr>\n",
       "  </thead>\n",
       "  <tbody>\n",
       "    <tr>\n",
       "      <th>0</th>\n",
       "      <td>0.544127</td>\n",
       "      <td>0.543589</td>\n",
       "      <td>0.543352</td>\n",
       "      <td>0.544875</td>\n",
       "    </tr>\n",
       "    <tr>\n",
       "      <th>1</th>\n",
       "      <td>0.544622</td>\n",
       "      <td>0.544069</td>\n",
       "      <td>0.546179</td>\n",
       "      <td>0.546531</td>\n",
       "    </tr>\n",
       "    <tr>\n",
       "      <th>2</th>\n",
       "      <td>0.545542</td>\n",
       "      <td>0.543863</td>\n",
       "      <td>0.544319</td>\n",
       "      <td>0.545356</td>\n",
       "    </tr>\n",
       "    <tr>\n",
       "      <th>3</th>\n",
       "      <td>0.545060</td>\n",
       "      <td>0.545255</td>\n",
       "      <td>0.544949</td>\n",
       "      <td>0.547124</td>\n",
       "    </tr>\n",
       "    <tr>\n",
       "      <th>4</th>\n",
       "      <td>0.545730</td>\n",
       "      <td>0.543732</td>\n",
       "      <td>0.546414</td>\n",
       "      <td>0.545030</td>\n",
       "    </tr>\n",
       "  </tbody>\n",
       "</table>\n",
       "</div>"
      ],
      "text/plain": [
       "       Open      High       Low     Close\n",
       "0  0.544127  0.543589  0.543352  0.544875\n",
       "1  0.544622  0.544069  0.546179  0.546531\n",
       "2  0.545542  0.543863  0.544319  0.545356\n",
       "3  0.545060  0.545255  0.544949  0.547124\n",
       "4  0.545730  0.543732  0.546414  0.545030"
      ]
     },
     "execution_count": 84,
     "metadata": {},
     "output_type": "execute_result"
    }
   ],
   "source": [
    "scaler = MaxAbsScaler()\n",
    "scaler.fit(DJI_OHLC_DF)\n",
    "DJI_OHLC_scaled = scaler.transform(DJI_OHLC_DF)\n",
    "DJI_OHLC_DF_scaled = pd.DataFrame(DJI_OHLC_scaled, columns=DJI_OHLC_DF.columns).dropna()\n",
    "DJI_OHLC_DF_scaled.head()"
   ]
  },
  {
   "cell_type": "code",
   "execution_count": 93,
   "metadata": {},
   "outputs": [
    {
     "name": "stdout",
     "output_type": "stream",
     "text": [
      " VAR Order Selection (* highlights the minimums)  \n",
      "==================================================\n",
      "       AIC         BIC         FPE         HQIC   \n",
      "--------------------------------------------------\n",
      "0        41.66       41.68   1.239e+18       41.67\n",
      "1        39.99       40.08   2.340e+17       40.03\n",
      "2        39.47       39.62   1.391e+17       39.53\n",
      "3        39.27       39.48   1.131e+17       39.35\n",
      "4        39.21       39.49   1.067e+17       39.31\n",
      "5        39.08       39.43   9.358e+16       39.21\n",
      "6        38.95      39.36*   8.218e+16       39.10\n",
      "7        38.91       39.39   7.905e+16       39.09\n",
      "8        38.85       39.40   7.460e+16       39.06\n",
      "9        38.81       39.42   7.155e+16       39.04\n",
      "10       38.77       39.45   6.885e+16      39.03*\n",
      "11       38.75       39.50   6.754e+16       39.03\n",
      "12       38.73       39.55   6.627e+16       39.04\n",
      "13       38.71       39.59   6.468e+16       39.04\n",
      "14       38.71       39.66   6.477e+16       39.07\n",
      "15       38.67       39.69   6.237e+16       39.05\n",
      "16       38.66       39.74   6.177e+16       39.07\n",
      "17       38.67       39.82   6.242e+16       39.10\n",
      "18       38.66       39.88   6.175e+16       39.12\n",
      "19       38.63       39.91   5.959e+16       39.11\n",
      "20      38.62*       39.97  5.930e+16*       39.13\n",
      "--------------------------------------------------\n"
     ]
    },
    {
     "name": "stderr",
     "output_type": "stream",
     "text": [
      "c:\\Users\\aglad\\anaconda3\\envs\\dev\\lib\\site-packages\\statsmodels\\tsa\\base\\tsa_model.py:471: ValueWarning: A date index has been provided, but it has no associated frequency information and so will be ignored when e.g. forecasting.\n",
      "  self._init_dates(dates, freq)\n"
     ]
    }
   ],
   "source": [
    "model_var_DJI = VAR(DJI_OHLC_DF.diff()[1:])\n",
    "sorted_order = model_var_DJI.select_order(maxlags=20)\n",
    "print(sorted_order.summary())"
   ]
  },
  {
   "cell_type": "code",
   "execution_count": 94,
   "metadata": {},
   "outputs": [
    {
     "name": "stderr",
     "output_type": "stream",
     "text": [
      "c:\\Users\\aglad\\anaconda3\\envs\\dev\\lib\\site-packages\\statsmodels\\tsa\\base\\tsa_model.py:471: ValueWarning: A date index has been provided, but it has no associated frequency information and so will be ignored when e.g. forecasting.\n",
      "  self._init_dates(dates, freq)\n"
     ]
    }
   ],
   "source": [
    "model_varmax_DJI = VARMAX(DJI_OHLC_DF.diff(),\n",
    "                                #  freq='D',\n",
    "                                 order=(6,0),\n",
    "                                 error_cov_type='diagonal',\n",
    "                                 enforce_stationarity=True\n",
    "                                #  seasonal_order=(0,0,0,0),\n",
    "                                #  mle_regression=True\n",
    "                                #  filter_concentrated=True\n",
    "                                 )"
   ]
  },
  {
   "cell_type": "code",
   "execution_count": 95,
   "metadata": {},
   "outputs": [
    {
     "name": "stderr",
     "output_type": "stream",
     "text": [
      "c:\\Users\\aglad\\anaconda3\\envs\\dev\\lib\\site-packages\\statsmodels\\base\\model.py:604: ConvergenceWarning: Maximum Likelihood optimization failed to converge. Check mle_retvals\n",
      "  warnings.warn(\"Maximum Likelihood optimization failed to \"\n"
     ]
    },
    {
     "name": "stdout",
     "output_type": "stream",
     "text": [
      "                                  Statespace Model Results                                  \n",
      "============================================================================================\n",
      "Dep. Variable:     ['Open', 'High', 'Low', 'Close']   No. Observations:                 1251\n",
      "Model:                                       VAR(6)   Log Likelihood              -33967.863\n",
      "                                        + intercept   AIC                          68143.727\n",
      "Date:                              Wed, 28 Sep 2022   BIC                          68677.423\n",
      "Time:                                      14:50:28   HQIC                         68344.353\n",
      "Sample:                                           0                                         \n",
      "                                             - 1251                                         \n",
      "Covariance Type:                                opg                                         \n",
      "========================================================================================================\n",
      "Ljung-Box (L1) (Q):         nan, nan, nan, nan   Jarque-Bera (JB):   26977.94, 3605.49, 3428.44, 5400.80\n",
      "Prob(Q):                    nan, nan, nan, nan   Prob(JB):                        0.00, 0.00, 0.00, 0.00\n",
      "Heteroskedasticity (H): 2.88, 3.78, 2.62, 2.93   Skew:                        -1.03, -0.09, -1.32, -1.21\n",
      "Prob(H) (two-sided):    0.00, 0.00, 0.00, 0.00   Kurtosis:                    25.67, 11.32, 10.67, 12.89\n",
      "                          Results for equation Open                           \n",
      "==============================================================================\n",
      "                 coef    std err          z      P>|z|      [0.025      0.975]\n",
      "------------------------------------------------------------------------------\n",
      "intercept      5.8321     10.507      0.555      0.579     -14.762      26.426\n",
      "L1.Open       -0.9063      0.109     -8.291      0.000      -1.121      -0.692\n",
      "L1.High        0.0495      0.096      0.517      0.605      -0.138       0.237\n",
      "L1.Low         0.1011      0.077      1.310      0.190      -0.050       0.252\n",
      "L1.Close       0.8189      0.070     11.661      0.000       0.681       0.956\n",
      "L2.Open       -0.4218      0.126     -3.334      0.001      -0.670      -0.174\n",
      "L2.High       -0.1770      0.103     -1.716      0.086      -0.379       0.025\n",
      "L2.Low         0.0943      0.107      0.886      0.376      -0.114       0.303\n",
      "L2.Close       0.7904      0.112      7.039      0.000       0.570       1.010\n",
      "L3.Open       -0.2980      0.152     -1.967      0.049      -0.595      -0.001\n",
      "L3.High       -0.2101      0.129     -1.629      0.103      -0.463       0.043\n",
      "L3.Low         0.0942      0.113      0.835      0.404      -0.127       0.315\n",
      "L3.Close       0.4734      0.139      3.409      0.001       0.201       0.746\n",
      "L4.Open       -0.2305      0.152     -1.520      0.128      -0.528       0.067\n",
      "L4.High       -0.1073      0.136     -0.786      0.432      -0.375       0.160\n",
      "L4.Low         0.1447      0.112      1.297      0.195      -0.074       0.363\n",
      "L4.Close       0.2225      0.142      1.566      0.117      -0.056       0.501\n",
      "L5.Open        0.0414      0.124      0.333      0.739      -0.202       0.285\n",
      "L5.High       -0.1473      0.122     -1.208      0.227      -0.386       0.092\n",
      "L5.Low         0.1430      0.104      1.378      0.168      -0.060       0.346\n",
      "L5.Close       0.1367      0.118      1.162      0.245      -0.094       0.367\n",
      "L6.Open        0.0498      0.084      0.592      0.554      -0.115       0.215\n",
      "L6.High       -0.0753      0.109     -0.693      0.488      -0.288       0.138\n",
      "L6.Low         0.1091      0.076      1.430      0.153      -0.040       0.259\n",
      "L6.Close      -0.1326      0.083     -1.588      0.112      -0.296       0.031\n",
      "                          Results for equation High                           \n",
      "==============================================================================\n",
      "                 coef    std err          z      P>|z|      [0.025      0.975]\n",
      "------------------------------------------------------------------------------\n",
      "intercept     11.9999     18.561      0.647      0.518     -24.378      48.378\n",
      "L1.Open       -0.0605      0.184     -0.329      0.742      -0.421       0.300\n",
      "L1.High       -0.6600      0.183     -3.599      0.000      -1.019      -0.301\n",
      "L1.Low         0.0187      0.144      0.130      0.897      -0.264       0.301\n",
      "L1.Close       0.6655      0.129      5.148      0.000       0.412       0.919\n",
      "L2.Open        0.2498      0.243      1.028      0.304      -0.226       0.726\n",
      "L2.High       -0.6376      0.211     -3.029      0.002      -1.050      -0.225\n",
      "L2.Low         0.0046      0.182      0.026      0.980      -0.351       0.361\n",
      "L2.Close       0.6125      0.191      3.213      0.001       0.239       0.986\n",
      "L3.Open        0.2279      0.251      0.907      0.364      -0.265       0.720\n",
      "L3.High       -0.5473      0.230     -2.380      0.017      -0.998      -0.097\n",
      "L3.Low         0.0794      0.184      0.432      0.666      -0.281       0.440\n",
      "L3.Close       0.2302      0.222      1.035      0.301      -0.206       0.666\n",
      "L4.Open        0.2328      0.231      1.009      0.313      -0.219       0.685\n",
      "L4.High       -0.2997      0.216     -1.391      0.164      -0.722       0.123\n",
      "L4.Low         0.1114      0.177      0.631      0.528      -0.235       0.458\n",
      "L4.Close      -0.0289      0.240     -0.121      0.904      -0.499       0.441\n",
      "L5.Open        0.4143      0.222      1.869      0.062      -0.020       0.849\n",
      "L5.High       -0.3862      0.211     -1.830      0.067      -0.800       0.027\n",
      "L5.Low         0.1387      0.174      0.796      0.426      -0.203       0.480\n",
      "L5.Close      -0.0629      0.217     -0.290      0.772      -0.488       0.362\n",
      "L6.Open        0.1504      0.135      1.113      0.266      -0.114       0.415\n",
      "L6.High       -0.1893      0.178     -1.065      0.287      -0.538       0.159\n",
      "L6.Low         0.1296      0.123      1.054      0.292      -0.111       0.371\n",
      "L6.Close      -0.2885      0.160     -1.803      0.071      -0.602       0.025\n",
      "                           Results for equation Low                           \n",
      "==============================================================================\n",
      "                 coef    std err          z      P>|z|      [0.025      0.975]\n",
      "------------------------------------------------------------------------------\n",
      "intercept     10.4153     22.086      0.472      0.637     -32.873      53.704\n",
      "L1.Open       -0.0737      0.214     -0.344      0.731      -0.494       0.346\n",
      "L1.High       -0.0741      0.204     -0.363      0.717      -0.474       0.326\n",
      "L1.Low        -0.5655      0.163     -3.467      0.001      -0.885      -0.246\n",
      "L1.Close       0.7572      0.148      5.113      0.000       0.467       1.047\n",
      "L2.Open        0.2386      0.304      0.785      0.432      -0.357       0.834\n",
      "L2.High       -0.2195      0.266     -0.826      0.409      -0.740       0.301\n",
      "L2.Low        -0.3785      0.207     -1.828      0.068      -0.784       0.027\n",
      "L2.Close       0.6847      0.246      2.787      0.005       0.203       1.166\n",
      "L3.Open        0.2118      0.355      0.597      0.551      -0.484       0.907\n",
      "L3.High       -0.3210      0.318     -1.011      0.312      -0.943       0.301\n",
      "L3.Low        -0.1914      0.241     -0.796      0.426      -0.663       0.280\n",
      "L3.Close       0.2824      0.289      0.977      0.329      -0.284       0.849\n",
      "L4.Open        0.2557      0.371      0.690      0.490      -0.471       0.982\n",
      "L4.High       -0.1984      0.323     -0.615      0.539      -0.831       0.434\n",
      "L4.Low        -0.1044      0.246     -0.425      0.671      -0.586       0.377\n",
      "L4.Close       0.0835      0.305      0.274      0.784      -0.513       0.681\n",
      "L5.Open        0.3909      0.328      1.190      0.234      -0.253       1.035\n",
      "L5.High       -0.2645      0.297     -0.891      0.373      -0.846       0.317\n",
      "L5.Low        -0.0227      0.245     -0.093      0.926      -0.503       0.457\n",
      "L5.Close      -0.0271      0.280     -0.097      0.923      -0.575       0.521\n",
      "L6.Open        0.1236      0.187      0.662      0.508      -0.242       0.490\n",
      "L6.High       -0.0790      0.242     -0.326      0.744      -0.554       0.396\n",
      "L6.Low         0.0081      0.193      0.042      0.967      -0.371       0.387\n",
      "L6.Close      -0.2935      0.243     -1.208      0.227      -0.770       0.183\n",
      "                          Results for equation Close                          \n",
      "==============================================================================\n",
      "                 coef    std err          z      P>|z|      [0.025      0.975]\n",
      "------------------------------------------------------------------------------\n",
      "intercept     14.7557     28.788      0.513      0.608     -41.667      71.178\n",
      "L1.Open       -0.2124      0.275     -0.773      0.440      -0.751       0.326\n",
      "L1.High        0.1662      0.285      0.583      0.560      -0.392       0.725\n",
      "L1.Low         0.2085      0.213      0.981      0.327      -0.208       0.625\n",
      "L1.Close      -0.3189      0.191     -1.673      0.094      -0.692       0.055\n",
      "L2.Open        0.0924      0.391      0.236      0.813      -0.674       0.859\n",
      "L2.High        0.0368      0.359      0.103      0.918      -0.666       0.740\n",
      "L2.Low         0.3054      0.289      1.058      0.290      -0.260       0.871\n",
      "L2.Close      -0.1595      0.310     -0.515      0.606      -0.766       0.447\n",
      "L3.Open        0.1144      0.426      0.269      0.788      -0.720       0.948\n",
      "L3.High       -0.0772      0.399     -0.194      0.846      -0.859       0.704\n",
      "L3.Low         0.3769      0.316      1.194      0.232      -0.242       0.996\n",
      "L3.Close      -0.4215      0.370     -1.139      0.255      -1.147       0.304\n",
      "L4.Open        0.2392      0.454      0.526      0.599      -0.651       1.129\n",
      "L4.High        0.0944      0.407      0.232      0.817      -0.704       0.893\n",
      "L4.Low         0.2993      0.314      0.952      0.341      -0.317       0.915\n",
      "L4.Close      -0.5929      0.395     -1.501      0.133      -1.367       0.182\n",
      "L5.Open        0.3686      0.379      0.972      0.331      -0.375       1.112\n",
      "L5.High       -0.1240      0.354     -0.350      0.726      -0.818       0.570\n",
      "L5.Low         0.2878      0.319      0.903      0.366      -0.337       0.912\n",
      "L5.Close      -0.5461      0.372     -1.470      0.142      -1.274       0.182\n",
      "L6.Open        0.1213      0.234      0.518      0.604      -0.337       0.580\n",
      "L6.High        0.0188      0.297      0.063      0.950      -0.563       0.601\n",
      "L6.Low         0.1535      0.228      0.673      0.501      -0.294       0.601\n",
      "L6.Close      -0.5581      0.296     -1.886      0.059      -1.138       0.022\n",
      "                            Error covariance matrix                             \n",
      "================================================================================\n",
      "                   coef    std err          z      P>|z|      [0.025      0.975]\n",
      "--------------------------------------------------------------------------------\n",
      "sigma2.Open   2.124e+04    992.300     21.407      0.000    1.93e+04    2.32e+04\n",
      "sigma2.High   4.279e+04   3029.287     14.125      0.000    3.69e+04    4.87e+04\n",
      "sigma2.Low    6.109e+04   4057.761     15.056      0.000    5.31e+04     6.9e+04\n",
      "sigma2.Close  8.831e+04   6925.913     12.750      0.000    7.47e+04    1.02e+05\n",
      "================================================================================\n",
      "\n",
      "Warnings:\n",
      "[1] Covariance matrix calculated using the outer product of gradients (complex-step).\n"
     ]
    }
   ],
   "source": [
    "res_varmax_DJI = model_varmax_DJI.fit(maxiter=1000, disp=True)\n",
    "print(res_varmax_DJI.summary())"
   ]
  },
  {
   "cell_type": "markdown",
   "metadata": {},
   "source": [
    "## Volatility Prediction with LSTM"
   ]
  },
  {
   "cell_type": "code",
   "execution_count": 2,
   "metadata": {},
   "outputs": [
    {
     "data": {
      "text/html": [
       "<div>\n",
       "<style scoped>\n",
       "    .dataframe tbody tr th:only-of-type {\n",
       "        vertical-align: middle;\n",
       "    }\n",
       "\n",
       "    .dataframe tbody tr th {\n",
       "        vertical-align: top;\n",
       "    }\n",
       "\n",
       "    .dataframe thead th {\n",
       "        text-align: right;\n",
       "    }\n",
       "</style>\n",
       "<table border=\"1\" class=\"dataframe\">\n",
       "  <thead>\n",
       "    <tr style=\"text-align: right;\">\n",
       "      <th></th>\n",
       "      <th>Open</th>\n",
       "      <th>High</th>\n",
       "      <th>Low</th>\n",
       "      <th>Close</th>\n",
       "    </tr>\n",
       "    <tr>\n",
       "      <th>Date</th>\n",
       "      <th></th>\n",
       "      <th></th>\n",
       "      <th></th>\n",
       "      <th></th>\n",
       "    </tr>\n",
       "  </thead>\n",
       "  <tbody>\n",
       "    <tr>\n",
       "      <th>2010-09-30</th>\n",
       "      <td>10836.04</td>\n",
       "      <td>10948.88</td>\n",
       "      <td>10745.44</td>\n",
       "      <td>10788.05</td>\n",
       "    </tr>\n",
       "    <tr>\n",
       "      <th>2010-10-01</th>\n",
       "      <td>10789.70</td>\n",
       "      <td>10866.50</td>\n",
       "      <td>10780.60</td>\n",
       "      <td>10829.70</td>\n",
       "    </tr>\n",
       "    <tr>\n",
       "      <th>2010-10-04</th>\n",
       "      <td>10828.85</td>\n",
       "      <td>10853.71</td>\n",
       "      <td>10711.12</td>\n",
       "      <td>10751.27</td>\n",
       "    </tr>\n",
       "    <tr>\n",
       "      <th>2010-10-05</th>\n",
       "      <td>10752.78</td>\n",
       "      <td>10965.61</td>\n",
       "      <td>10752.63</td>\n",
       "      <td>10944.72</td>\n",
       "    </tr>\n",
       "    <tr>\n",
       "      <th>2010-10-06</th>\n",
       "      <td>10936.79</td>\n",
       "      <td>10974.16</td>\n",
       "      <td>10918.57</td>\n",
       "      <td>10967.65</td>\n",
       "    </tr>\n",
       "  </tbody>\n",
       "</table>\n",
       "</div>"
      ],
      "text/plain": [
       "                Open      High       Low     Close\n",
       "Date                                              \n",
       "2010-09-30  10836.04  10948.88  10745.44  10788.05\n",
       "2010-10-01  10789.70  10866.50  10780.60  10829.70\n",
       "2010-10-04  10828.85  10853.71  10711.12  10751.27\n",
       "2010-10-05  10752.78  10965.61  10752.63  10944.72\n",
       "2010-10-06  10936.79  10974.16  10918.57  10967.65"
      ]
     },
     "execution_count": 2,
     "metadata": {},
     "output_type": "execute_result"
    }
   ],
   "source": [
    "DJI_OHLC_DF = pd.read_csv('./DATA/INDICES/DJI_OHLC.csv', parse_dates=True, infer_datetime_format=True, index_col=\"Date\" )\n",
    "# DJI_OHLC_DF = DJI_OHLC_DF.asfreq('D')\n",
    "# DJI_OHLC_DF = DJI_OHLC_DF.loc['2017-01-01':'2022-01-01']\n",
    "DJI_OHLC_DF.head()"
   ]
  },
  {
   "cell_type": "code",
   "execution_count": 5,
   "metadata": {},
   "outputs": [],
   "source": [
    "scaler = StandardScaler()\n",
    "scaler = scaler.fit(DJI_OHLC_DF)\n",
    "DJI_OHLC_DF_scaled = scaler.transform(DJI_OHLC_DF)"
   ]
  },
  {
   "cell_type": "code",
   "execution_count": 9,
   "metadata": {},
   "outputs": [
    {
     "name": "stdout",
     "output_type": "stream",
     "text": [
      "X_train shape: (2997, 14, 4)\n",
      "y_train shape: (2997, 1)\n"
     ]
    }
   ],
   "source": [
    "X_train = []\n",
    "y_train = []\n",
    "\n",
    "n_future = 1 # Number of days we want to predict into the future\n",
    "n_past = 14   # Number of past days we want to use to predict the future\n",
    "\n",
    "for i in range(n_past, len(DJI_OHLC_DF_scaled) - n_future + 1):\n",
    "    X_train.append(DJI_OHLC_DF_scaled[i - n_past:i, 0:DJI_OHLC_DF_scaled.shape[1]])\n",
    "    y_train.append(DJI_OHLC_DF_scaled[i + n_future -1:i + n_future, 0])\n",
    "    \n",
    "X_train, y_train = np.array(X_train), np.array(y_train)\n",
    "\n",
    "print(f'X_train shape: {X_train.shape}')\n",
    "print(f'y_train shape: {y_train.shape}')"
   ]
  },
  {
   "cell_type": "code",
   "execution_count": 15,
   "metadata": {},
   "outputs": [
    {
     "name": "stdout",
     "output_type": "stream",
     "text": [
      "Model: \"sequential_4\"\n",
      "_________________________________________________________________\n",
      " Layer (type)                Output Shape              Param #   \n",
      "=================================================================\n",
      " lstm_6 (LSTM)               (None, 14, 64)            17664     \n",
      "                                                                 \n",
      " lstm_7 (LSTM)               (None, 14, 32)            12416     \n",
      "                                                                 \n",
      " dropout (Dropout)           (None, 14, 32)            0         \n",
      "                                                                 \n",
      " dense_2 (Dense)             (None, 14, 1)             33        \n",
      "                                                                 \n",
      "=================================================================\n",
      "Total params: 30,113\n",
      "Trainable params: 30,113\n",
      "Non-trainable params: 0\n",
      "_________________________________________________________________\n"
     ]
    }
   ],
   "source": [
    "model = Sequential()\n",
    "model.add(LSTM(64, activation='relu', input_shape=(X_train.shape[1], X_train.shape[2]), return_sequences=True))\n",
    "model.add(LSTM(32, activation='relu', return_sequences=True))\n",
    "model.add(Dropout(0.2))\n",
    "model.add(Dense(y_train.shape[1]))\n",
    "\n",
    "model.compile(optimizer='adam', loss='mse')\n",
    "model.summary()"
   ]
  },
  {
   "cell_type": "code",
   "execution_count": 17,
   "metadata": {},
   "outputs": [
    {
     "name": "stdout",
     "output_type": "stream",
     "text": [
      "Epoch 1/10\n",
      "169/169 [==============================] - 3s 7ms/step - loss: 0.1588 - val_loss: 0.1631\n",
      "Epoch 2/10\n",
      "169/169 [==============================] - 1s 5ms/step - loss: 0.0365 - val_loss: 0.0547\n",
      "Epoch 3/10\n",
      "169/169 [==============================] - 1s 5ms/step - loss: 0.0228 - val_loss: 0.0361\n",
      "Epoch 4/10\n",
      "169/169 [==============================] - 1s 5ms/step - loss: 0.0217 - val_loss: 0.0317\n",
      "Epoch 5/10\n",
      "169/169 [==============================] - 1s 5ms/step - loss: 0.0214 - val_loss: 0.0268\n",
      "Epoch 6/10\n",
      "169/169 [==============================] - 1s 5ms/step - loss: 0.0209 - val_loss: 0.0366\n",
      "Epoch 7/10\n",
      "169/169 [==============================] - 1s 5ms/step - loss: 0.0204 - val_loss: 0.0234\n",
      "Epoch 8/10\n",
      "169/169 [==============================] - 1s 5ms/step - loss: 0.0200 - val_loss: 0.0214\n",
      "Epoch 9/10\n",
      "169/169 [==============================] - 1s 5ms/step - loss: 0.0205 - val_loss: 0.0219\n",
      "Epoch 10/10\n",
      "169/169 [==============================] - 1s 5ms/step - loss: 0.0198 - val_loss: 0.0221\n"
     ]
    }
   ],
   "source": [
    "history = model.fit(X_train, y_train, epochs=10, batch_size=16, validation_split=0.1, verbose=1)"
   ]
  },
  {
   "cell_type": "code",
   "execution_count": 19,
   "metadata": {},
   "outputs": [
    {
     "data": {
      "text/plain": [
       "<matplotlib.legend.Legend at 0x215a13e4490>"
      ]
     },
     "execution_count": 19,
     "metadata": {},
     "output_type": "execute_result"
    },
    {
     "data": {
      "image/png": "[encoded data removed]",
      "text/plain": [
       "<Figure size 640x480 with 1 Axes>"
      ]
     },
     "metadata": {},
     "output_type": "display_data"
    }
   ],
   "source": [
    "plt.plot(history.history['loss'], label='Training Loss')\n",
    "plt.plot(history.history['val_loss'], label='Validation Loss')\n",
    "plt.legend()"
   ]
  },
  {
   "cell_type": "code",
   "execution_count": 21,
   "metadata": {},
   "outputs": [],
   "source": [
    "n_future = 90\n",
    "forecast_period_dates = pd.date_range(list(DJI_OHLC_DF.index)[-1], periods=n_future, freq='1d').tolist()"
   ]
  },
  {
   "cell_type": "code",
   "execution_count": 22,
   "metadata": {},
   "outputs": [
    {
     "name": "stdout",
     "output_type": "stream",
     "text": [
      "3/3 [==============================] - 0s 3ms/step\n"
     ]
    }
   ],
   "source": [
    "forecast = model.predict(X_train[-n_future:])"
   ]
  },
  {
   "cell_type": "code",
   "execution_count": 30,
   "metadata": {},
   "outputs": [
    {
     "ename": "ValueError",
     "evalue": "Found array with dim 3. None expected <= 2.",
     "output_type": "error",
     "traceback": [
      "\u001b[1;31m---------------------------------------------------------------------------\u001b[0m",
      "\u001b[1;31mValueError\u001b[0m                                Traceback (most recent call last)",
      "\u001b[1;32mc:\\Users\\aglad\\Documents\\GitHub\\Predicted_Volatility\\alec.ipynb Cell 22\u001b[0m in \u001b[0;36m<cell line: 2>\u001b[1;34m()\u001b[0m\n\u001b[0;32m      <a href='vscode-notebook-cell:/c%3A/Users/aglad/Documents/GitHub/Predicted_Volatility/alec.ipynb#X55sZmlsZQ%3D%3D?line=0'>1</a>\u001b[0m forecast_copies \u001b[39m=\u001b[39m np\u001b[39m.\u001b[39mrepeat(forecast, DJI_OHLC_DF\u001b[39m.\u001b[39mshape[\u001b[39m1\u001b[39m], axis\u001b[39m=\u001b[39m\u001b[39m-\u001b[39m\u001b[39m1\u001b[39m)\n\u001b[1;32m----> <a href='vscode-notebook-cell:/c%3A/Users/aglad/Documents/GitHub/Predicted_Volatility/alec.ipynb#X55sZmlsZQ%3D%3D?line=1'>2</a>\u001b[0m y_pred_future \u001b[39m=\u001b[39m scaler\u001b[39m.\u001b[39;49minverse_transform(forecast_copies)[:,\u001b[39m0\u001b[39m]\n",
      "File \u001b[1;32mc:\\Users\\aglad\\anaconda3\\envs\\tf\\lib\\site-packages\\sklearn\\preprocessing\\_data.py:1017\u001b[0m, in \u001b[0;36mStandardScaler.inverse_transform\u001b[1;34m(self, X, copy)\u001b[0m\n\u001b[0;32m   1014\u001b[0m check_is_fitted(\u001b[39mself\u001b[39m)\n\u001b[0;32m   1016\u001b[0m copy \u001b[39m=\u001b[39m copy \u001b[39mif\u001b[39;00m copy \u001b[39mis\u001b[39;00m \u001b[39mnot\u001b[39;00m \u001b[39mNone\u001b[39;00m \u001b[39melse\u001b[39;00m \u001b[39mself\u001b[39m\u001b[39m.\u001b[39mcopy\n\u001b[1;32m-> 1017\u001b[0m X \u001b[39m=\u001b[39m check_array(\n\u001b[0;32m   1018\u001b[0m     X,\n\u001b[0;32m   1019\u001b[0m     accept_sparse\u001b[39m=\u001b[39;49m\u001b[39m\"\u001b[39;49m\u001b[39mcsr\u001b[39;49m\u001b[39m\"\u001b[39;49m,\n\u001b[0;32m   1020\u001b[0m     copy\u001b[39m=\u001b[39;49mcopy,\n\u001b[0;32m   1021\u001b[0m     dtype\u001b[39m=\u001b[39;49mFLOAT_DTYPES,\n\u001b[0;32m   1022\u001b[0m     force_all_finite\u001b[39m=\u001b[39;49m\u001b[39m\"\u001b[39;49m\u001b[39mallow-nan\u001b[39;49m\u001b[39m\"\u001b[39;49m,\n\u001b[0;32m   1023\u001b[0m )\n\u001b[0;32m   1025\u001b[0m \u001b[39mif\u001b[39;00m sparse\u001b[39m.\u001b[39missparse(X):\n\u001b[0;32m   1026\u001b[0m     \u001b[39mif\u001b[39;00m \u001b[39mself\u001b[39m\u001b[39m.\u001b[39mwith_mean:\n",
      "File \u001b[1;32mc:\\Users\\aglad\\anaconda3\\envs\\tf\\lib\\site-packages\\sklearn\\utils\\validation.py:893\u001b[0m, in \u001b[0;36mcheck_array\u001b[1;34m(array, accept_sparse, accept_large_sparse, dtype, order, copy, force_all_finite, ensure_2d, allow_nd, ensure_min_samples, ensure_min_features, estimator, input_name)\u001b[0m\n\u001b[0;32m    887\u001b[0m     \u001b[39mraise\u001b[39;00m \u001b[39mValueError\u001b[39;00m(\n\u001b[0;32m    888\u001b[0m         \u001b[39m\"\u001b[39m\u001b[39mdtype=\u001b[39m\u001b[39m'\u001b[39m\u001b[39mnumeric\u001b[39m\u001b[39m'\u001b[39m\u001b[39m is not compatible with arrays of bytes/strings.\u001b[39m\u001b[39m\"\u001b[39m\n\u001b[0;32m    889\u001b[0m         \u001b[39m\"\u001b[39m\u001b[39mConvert your data to numeric values explicitly instead.\u001b[39m\u001b[39m\"\u001b[39m\n\u001b[0;32m    890\u001b[0m     )\n\u001b[0;32m    892\u001b[0m \u001b[39mif\u001b[39;00m \u001b[39mnot\u001b[39;00m allow_nd \u001b[39mand\u001b[39;00m array\u001b[39m.\u001b[39mndim \u001b[39m>\u001b[39m\u001b[39m=\u001b[39m \u001b[39m3\u001b[39m:\n\u001b[1;32m--> 893\u001b[0m     \u001b[39mraise\u001b[39;00m \u001b[39mValueError\u001b[39;00m(\n\u001b[0;32m    894\u001b[0m         \u001b[39m\"\u001b[39m\u001b[39mFound array with dim \u001b[39m\u001b[39m%d\u001b[39;00m\u001b[39m. \u001b[39m\u001b[39m%s\u001b[39;00m\u001b[39m expected <= 2.\u001b[39m\u001b[39m\"\u001b[39m\n\u001b[0;32m    895\u001b[0m         \u001b[39m%\u001b[39m (array\u001b[39m.\u001b[39mndim, estimator_name)\n\u001b[0;32m    896\u001b[0m     )\n\u001b[0;32m    898\u001b[0m \u001b[39mif\u001b[39;00m force_all_finite:\n\u001b[0;32m    899\u001b[0m     _assert_all_finite(\n\u001b[0;32m    900\u001b[0m         array,\n\u001b[0;32m    901\u001b[0m         input_name\u001b[39m=\u001b[39minput_name,\n\u001b[0;32m    902\u001b[0m         estimator_name\u001b[39m=\u001b[39mestimator_name,\n\u001b[0;32m    903\u001b[0m         allow_nan\u001b[39m=\u001b[39mforce_all_finite \u001b[39m==\u001b[39m \u001b[39m\"\u001b[39m\u001b[39mallow-nan\u001b[39m\u001b[39m\"\u001b[39m,\n\u001b[0;32m    904\u001b[0m     )\n",
      "\u001b[1;31mValueError\u001b[0m: Found array with dim 3. None expected <= 2."
     ]
    }
   ],
   "source": [
    "forecast_copies = np.repeat(forecast, DJI_OHLC_DF.shape[1], axis=-1)\n",
    "y_pred_future = scaler.inverse_transform(forecast_copies)[:,0]"
   ]
  },
  {
   "cell_type": "code",
   "execution_count": 25,
   "metadata": {},
   "outputs": [
    {
     "data": {
      "text/plain": [
       "array([[[1.880759 , 1.880759 , 1.880759 , 1.880759 ],\n",
       "        [1.7171808, 1.7171808, 1.7171808, 1.7171808],\n",
       "        [1.6883385, 1.6883385, 1.6883385, 1.6883385],\n",
       "        ...,\n",
       "        [1.5548326, 1.5548326, 1.5548326, 1.5548326],\n",
       "        [1.5743405, 1.5743405, 1.5743405, 1.5743405],\n",
       "        [1.609109 , 1.609109 , 1.609109 , 1.609109 ]],\n",
       "\n",
       "       [[1.8163433, 1.8163433, 1.8163433, 1.8163433],\n",
       "        [1.6505932, 1.6505932, 1.6505932, 1.6505932],\n",
       "        [1.7039038, 1.7039038, 1.7039038, 1.7039038],\n",
       "        ...,\n",
       "        [1.5754894, 1.5754894, 1.5754894, 1.5754894],\n",
       "        [1.6101229, 1.6101229, 1.6101229, 1.6101229],\n",
       "        [1.5361923, 1.5361923, 1.5361923, 1.5361923]],\n",
       "\n",
       "       [[1.7253703, 1.7253703, 1.7253703, 1.7253703],\n",
       "        [1.6725016, 1.6725016, 1.6725016, 1.6725016],\n",
       "        [1.7460288, 1.7460288, 1.7460288, 1.7460288],\n",
       "        ...,\n",
       "        [1.6105908, 1.6105908, 1.6105908, 1.6105908],\n",
       "        [1.5369205, 1.5369205, 1.5369205, 1.5369205],\n",
       "        [1.4375302, 1.4375302, 1.4375302, 1.4375302]],\n",
       "\n",
       "       ...,\n",
       "\n",
       "       [[1.4511385, 1.4511385, 1.4511385, 1.4511385],\n",
       "        [1.4673635, 1.4673635, 1.4673635, 1.4673635],\n",
       "        [1.4295931, 1.4295931, 1.4295931, 1.4295931],\n",
       "        ...,\n",
       "        [1.3757443, 1.3757443, 1.3757443, 1.3757443],\n",
       "        [1.3648003, 1.3648003, 1.3648003, 1.3648003],\n",
       "        [1.3367213, 1.3367213, 1.3367213, 1.3367213]],\n",
       "\n",
       "       [[1.4661661, 1.4661661, 1.4661661, 1.4661661],\n",
       "        [1.4246029, 1.4246029, 1.4246029, 1.4246029],\n",
       "        [1.44479  , 1.44479  , 1.44479  , 1.44479  ],\n",
       "        ...,\n",
       "        [1.3683826, 1.3683826, 1.3683826, 1.3683826],\n",
       "        [1.3400985, 1.3400985, 1.3400985, 1.3400985],\n",
       "        [1.2842108, 1.2842108, 1.2842108, 1.2842108]],\n",
       "\n",
       "       [[1.4027954, 1.4027954, 1.4027954, 1.4027954],\n",
       "        [1.4346236, 1.4346236, 1.4346236, 1.4346236],\n",
       "        [1.4727643, 1.4727643, 1.4727643, 1.4727643],\n",
       "        ...,\n",
       "        [1.3420256, 1.3420256, 1.3420256, 1.3420256],\n",
       "        [1.2862283, 1.2862283, 1.2862283, 1.2862283],\n",
       "        [1.2145634, 1.2145634, 1.2145634, 1.2145634]]], dtype=float32)"
      ]
     },
     "execution_count": 25,
     "metadata": {},
     "output_type": "execute_result"
    }
   ],
   "source": [
    "forecast_copies"
   ]
  }
 ],
 "metadata": {
  "kernelspec": {
   "display_name": "Python 3.10.4 ('tf')",
   "language": "python",
   "name": "python3"
  },
  "language_info": {
   "codemirror_mode": {
    "name": "ipython",
    "version": 3
   },
   "file_extension": ".py",
   "mimetype": "text/x-python",
   "name": "python",
   "nbconvert_exporter": "python",
   "pygments_lexer": "ipython3",
   "version": "3.10.4"
  },
  "orig_nbformat": 4,
  "vscode": {
   "interpreter": {
    "hash": "799c24e20ef044b7347dfbd13befb2eba99c12cee33b00728fad5d2808f60f7b"
   }
  }
 },
 "nbformat": 4,
 "nbformat_minor": 2
}
