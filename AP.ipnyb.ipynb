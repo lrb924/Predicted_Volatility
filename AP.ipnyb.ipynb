{
 "cells": [
  {
   "cell_type": "code",
   "execution_count": 1,
   "metadata": {},
   "outputs": [
    {
     "name": "stderr",
     "output_type": "stream",
     "text": [
      "c:\\Users\\apala\\anaconda3\\lib\\site-packages\\pandas\\core\\internals\\blocks.py:402: RuntimeWarning: divide by zero encountered in log\n",
      "  result = func(self.values, **kwargs)\n",
      "c:\\Users\\apala\\anaconda3\\lib\\site-packages\\pandas\\core\\internals\\blocks.py:402: RuntimeWarning: invalid value encountered in log\n",
      "  result = func(self.values, **kwargs)\n"
     ]
    },
    {
     "data": {
      "text/html": [
       "<div>\n",
       "<style scoped>\n",
       "    .dataframe tbody tr th:only-of-type {\n",
       "        vertical-align: middle;\n",
       "    }\n",
       "\n",
       "    .dataframe tbody tr th {\n",
       "        vertical-align: top;\n",
       "    }\n",
       "\n",
       "    .dataframe thead th {\n",
       "        text-align: right;\n",
       "    }\n",
       "</style>\n",
       "<table border=\"1\" class=\"dataframe\">\n",
       "  <thead>\n",
       "    <tr style=\"text-align: right;\">\n",
       "      <th></th>\n",
       "      <th>DJI_Close</th>\n",
       "      <th>NQ_Close</th>\n",
       "      <th>R2K_Close</th>\n",
       "      <th>SP_Close</th>\n",
       "      <th>return_DJI</th>\n",
       "      <th>return_NQ</th>\n",
       "      <th>return_R2K</th>\n",
       "      <th>return_SP</th>\n",
       "      <th>stdev_DJI</th>\n",
       "      <th>stdev_NQ</th>\n",
       "      <th>stdev_R2K</th>\n",
       "      <th>stdev_SP</th>\n",
       "    </tr>\n",
       "    <tr>\n",
       "      <th>Date</th>\n",
       "      <th></th>\n",
       "      <th></th>\n",
       "      <th></th>\n",
       "      <th></th>\n",
       "      <th></th>\n",
       "      <th></th>\n",
       "      <th></th>\n",
       "      <th></th>\n",
       "      <th></th>\n",
       "      <th></th>\n",
       "      <th></th>\n",
       "      <th></th>\n",
       "    </tr>\n",
       "  </thead>\n",
       "  <tbody>\n",
       "    <tr>\n",
       "      <th>2010-10-12 16:00:00</th>\n",
       "      <td>9.307503</td>\n",
       "      <td>7.790663</td>\n",
       "      <td>6.545407</td>\n",
       "      <td>7.064562</td>\n",
       "      <td>-6.998023</td>\n",
       "      <td>-5.037565</td>\n",
       "      <td>-5.601715</td>\n",
       "      <td>-5.567847</td>\n",
       "      <td>1.060923</td>\n",
       "      <td>1.184516</td>\n",
       "      <td>0.846680</td>\n",
       "      <td>0.685407</td>\n",
       "    </tr>\n",
       "    <tr>\n",
       "      <th>2010-10-13 16:00:00</th>\n",
       "      <td>9.314347</td>\n",
       "      <td>7.800257</td>\n",
       "      <td>6.560281</td>\n",
       "      <td>7.071658</td>\n",
       "      <td>-4.980989</td>\n",
       "      <td>-4.641780</td>\n",
       "      <td>-4.200721</td>\n",
       "      <td>-4.944699</td>\n",
       "      <td>1.081782</td>\n",
       "      <td>1.199228</td>\n",
       "      <td>0.871771</td>\n",
       "      <td>0.668653</td>\n",
       "    </tr>\n",
       "    <tr>\n",
       "      <th>2010-10-18 16:00:00</th>\n",
       "      <td>9.318629</td>\n",
       "      <td>7.816280</td>\n",
       "      <td>6.565448</td>\n",
       "      <td>7.077253</td>\n",
       "      <td>-4.918004</td>\n",
       "      <td>-5.335778</td>\n",
       "      <td>-4.613969</td>\n",
       "      <td>-4.927619</td>\n",
       "      <td>1.090289</td>\n",
       "      <td>0.603367</td>\n",
       "      <td>0.761757</td>\n",
       "      <td>0.621801</td>\n",
       "    </tr>\n",
       "    <tr>\n",
       "      <th>2010-10-20 16:00:00</th>\n",
       "      <td>9.315418</td>\n",
       "      <td>7.806855</td>\n",
       "      <td>6.554090</td>\n",
       "      <td>7.071718</td>\n",
       "      <td>-4.441183</td>\n",
       "      <td>-4.781009</td>\n",
       "      <td>-4.468259</td>\n",
       "      <td>-4.554091</td>\n",
       "      <td>0.983689</td>\n",
       "      <td>0.266785</td>\n",
       "      <td>0.567071</td>\n",
       "      <td>0.366449</td>\n",
       "    </tr>\n",
       "    <tr>\n",
       "      <th>2010-10-25 16:00:00</th>\n",
       "      <td>9.320454</td>\n",
       "      <td>7.820379</td>\n",
       "      <td>6.562289</td>\n",
       "      <td>7.078021</td>\n",
       "      <td>-5.869234</td>\n",
       "      <td>-5.376905</td>\n",
       "      <td>-5.060820</td>\n",
       "      <td>-6.143712</td>\n",
       "      <td>1.011493</td>\n",
       "      <td>0.326537</td>\n",
       "      <td>0.550903</td>\n",
       "      <td>0.628225</td>\n",
       "    </tr>\n",
       "    <tr>\n",
       "      <th>...</th>\n",
       "      <td>...</td>\n",
       "      <td>...</td>\n",
       "      <td>...</td>\n",
       "      <td>...</td>\n",
       "      <td>...</td>\n",
       "      <td>...</td>\n",
       "      <td>...</td>\n",
       "      <td>...</td>\n",
       "      <td>...</td>\n",
       "      <td>...</td>\n",
       "      <td>...</td>\n",
       "      <td>...</td>\n",
       "    </tr>\n",
       "    <tr>\n",
       "      <th>2022-09-08 16:00:00</th>\n",
       "      <td>10.366420</td>\n",
       "      <td>9.381106</td>\n",
       "      <td>7.521269</td>\n",
       "      <td>8.295593</td>\n",
       "      <td>-5.096387</td>\n",
       "      <td>-5.123393</td>\n",
       "      <td>-4.811131</td>\n",
       "      <td>-5.019055</td>\n",
       "      <td>1.332163</td>\n",
       "      <td>0.971188</td>\n",
       "      <td>0.498164</td>\n",
       "      <td>0.925285</td>\n",
       "    </tr>\n",
       "    <tr>\n",
       "      <th>2022-09-09 16:00:00</th>\n",
       "      <td>10.378221</td>\n",
       "      <td>9.401978</td>\n",
       "      <td>7.540542</td>\n",
       "      <td>8.310749</td>\n",
       "      <td>-4.433671</td>\n",
       "      <td>-3.858926</td>\n",
       "      <td>-3.939418</td>\n",
       "      <td>-4.181773</td>\n",
       "      <td>0.823799</td>\n",
       "      <td>0.776112</td>\n",
       "      <td>0.466746</td>\n",
       "      <td>0.764819</td>\n",
       "    </tr>\n",
       "    <tr>\n",
       "      <th>2022-09-12 16:00:00</th>\n",
       "      <td>10.385338</td>\n",
       "      <td>9.414620</td>\n",
       "      <td>7.552809</td>\n",
       "      <td>8.321278</td>\n",
       "      <td>-4.941752</td>\n",
       "      <td>-4.364376</td>\n",
       "      <td>-4.394667</td>\n",
       "      <td>-4.548387</td>\n",
       "      <td>0.344322</td>\n",
       "      <td>0.528673</td>\n",
       "      <td>0.395921</td>\n",
       "      <td>0.397792</td>\n",
       "    </tr>\n",
       "    <tr>\n",
       "      <th>2022-09-14 16:00:00</th>\n",
       "      <td>10.346091</td>\n",
       "      <td>9.369025</td>\n",
       "      <td>7.516684</td>\n",
       "      <td>8.280460</td>\n",
       "      <td>-6.939933</td>\n",
       "      <td>-4.906025</td>\n",
       "      <td>-5.582858</td>\n",
       "      <td>-5.687812</td>\n",
       "      <td>1.065216</td>\n",
       "      <td>0.587346</td>\n",
       "      <td>0.719367</td>\n",
       "      <td>0.681950</td>\n",
       "    </tr>\n",
       "    <tr>\n",
       "      <th>2022-09-19 16:00:00</th>\n",
       "      <td>10.342377</td>\n",
       "      <td>9.353143</td>\n",
       "      <td>7.502650</td>\n",
       "      <td>8.268704</td>\n",
       "      <td>-5.051475</td>\n",
       "      <td>-4.884075</td>\n",
       "      <td>-4.810096</td>\n",
       "      <td>-4.982464</td>\n",
       "      <td>0.958019</td>\n",
       "      <td>0.512166</td>\n",
       "      <td>0.607316</td>\n",
       "      <td>0.565643</td>\n",
       "    </tr>\n",
       "  </tbody>\n",
       "</table>\n",
       "<p>1151 rows × 12 columns</p>\n",
       "</div>"
      ],
      "text/plain": [
       "                     DJI_Close  NQ_Close  R2K_Close  SP_Close  return_DJI  \\\n",
       "Date                                                                        \n",
       "2010-10-12 16:00:00   9.307503  7.790663   6.545407  7.064562   -6.998023   \n",
       "2010-10-13 16:00:00   9.314347  7.800257   6.560281  7.071658   -4.980989   \n",
       "2010-10-18 16:00:00   9.318629  7.816280   6.565448  7.077253   -4.918004   \n",
       "2010-10-20 16:00:00   9.315418  7.806855   6.554090  7.071718   -4.441183   \n",
       "2010-10-25 16:00:00   9.320454  7.820379   6.562289  7.078021   -5.869234   \n",
       "...                        ...       ...        ...       ...         ...   \n",
       "2022-09-08 16:00:00  10.366420  9.381106   7.521269  8.295593   -5.096387   \n",
       "2022-09-09 16:00:00  10.378221  9.401978   7.540542  8.310749   -4.433671   \n",
       "2022-09-12 16:00:00  10.385338  9.414620   7.552809  8.321278   -4.941752   \n",
       "2022-09-14 16:00:00  10.346091  9.369025   7.516684  8.280460   -6.939933   \n",
       "2022-09-19 16:00:00  10.342377  9.353143   7.502650  8.268704   -5.051475   \n",
       "\n",
       "                     return_NQ  return_R2K  return_SP  stdev_DJI  stdev_NQ  \\\n",
       "Date                                                                         \n",
       "2010-10-12 16:00:00  -5.037565   -5.601715  -5.567847   1.060923  1.184516   \n",
       "2010-10-13 16:00:00  -4.641780   -4.200721  -4.944699   1.081782  1.199228   \n",
       "2010-10-18 16:00:00  -5.335778   -4.613969  -4.927619   1.090289  0.603367   \n",
       "2010-10-20 16:00:00  -4.781009   -4.468259  -4.554091   0.983689  0.266785   \n",
       "2010-10-25 16:00:00  -5.376905   -5.060820  -6.143712   1.011493  0.326537   \n",
       "...                        ...         ...        ...        ...       ...   \n",
       "2022-09-08 16:00:00  -5.123393   -4.811131  -5.019055   1.332163  0.971188   \n",
       "2022-09-09 16:00:00  -3.858926   -3.939418  -4.181773   0.823799  0.776112   \n",
       "2022-09-12 16:00:00  -4.364376   -4.394667  -4.548387   0.344322  0.528673   \n",
       "2022-09-14 16:00:00  -4.906025   -5.582858  -5.687812   1.065216  0.587346   \n",
       "2022-09-19 16:00:00  -4.884075   -4.810096  -4.982464   0.958019  0.512166   \n",
       "\n",
       "                     stdev_R2K  stdev_SP  \n",
       "Date                                      \n",
       "2010-10-12 16:00:00   0.846680  0.685407  \n",
       "2010-10-13 16:00:00   0.871771  0.668653  \n",
       "2010-10-18 16:00:00   0.761757  0.621801  \n",
       "2010-10-20 16:00:00   0.567071  0.366449  \n",
       "2010-10-25 16:00:00   0.550903  0.628225  \n",
       "...                        ...       ...  \n",
       "2022-09-08 16:00:00   0.498164  0.925285  \n",
       "2022-09-09 16:00:00   0.466746  0.764819  \n",
       "2022-09-12 16:00:00   0.395921  0.397792  \n",
       "2022-09-14 16:00:00   0.719367  0.681950  \n",
       "2022-09-19 16:00:00   0.607316  0.565643  \n",
       "\n",
       "[1151 rows x 12 columns]"
      ]
     },
     "execution_count": 1,
     "metadata": {},
     "output_type": "execute_result"
    }
   ],
   "source": [
    "# Importing Modules \n",
    "import pandas as pd \n",
    "import numpy as np\n",
    "\n",
    "# Importing data \n",
    "\n",
    "DJI_DF = pd.read_csv('./DATA/INDICES/DJI.csv', parse_dates=True, infer_datetime_format=True, index_col=\"Date\" )\n",
    "\n",
    "NQ_DF = pd.read_csv('./DATA/INDICES/NQ.csv', parse_dates=True, infer_datetime_format=True, index_col=\"Date\")\n",
    "\n",
    "R2K_DF = pd.read_csv('./DATA/INDICES/R2K.csv', parse_dates=True, infer_datetime_format=True, index_col=\"Date\")\n",
    "\n",
    "R3K_DF = pd.read_csv('./DATA/INDICES/R3K.csv', parse_dates=True, infer_datetime_format=True, index_col=\"Date\")\n",
    "\n",
    "SP_DF = pd.read_csv('./DATA/INDICES/SP.csv', parse_dates=True, infer_datetime_format=True, index_col=\"Date\")\n",
    "\n",
    "# Renaming DataFrames for concatenation \n",
    "DJI_DF = DJI_DF.rename(columns={'Close': 'DJI_Close'})\n",
    "\n",
    "NQ_DF = NQ_DF.rename(columns={'Close': 'NQ_Close'})\n",
    "\n",
    "R2K_DF = R2K_DF.rename(columns={'Close': 'R2K_Close'})\n",
    "\n",
    "SP_DF = SP_DF.rename(columns={'Close': 'SP_Close'})\n",
    "\n",
    "# Concatenating DF's into volatility DF \n",
    "volatility_df = pd.concat([DJI_DF, NQ_DF, R2K_DF, SP_DF], axis=1)\n",
    "\n",
    "# Creating Dialy Returns \n",
    "volatility_df['return_DJI'] = volatility_df['DJI_Close'].pct_change() \n",
    "volatility_df['return_NQ'] = volatility_df['NQ_Close'].pct_change() \n",
    "volatility_df['return_R2K'] = volatility_df['R2K_Close'].pct_change()   \n",
    "volatility_df['return_SP'] = volatility_df['SP_Close'].pct_change() \n",
    "\n",
    "# log Returns \n",
    "\n",
    "volatility_df = np.log(volatility_df)\n",
    "\n",
    "# Dropping NA's from Returns \n",
    "volatility_df = volatility_df.dropna()\n",
    "\n",
    "# Calculating volatility \n",
    "volatility_df['stdev_DJI'] = volatility_df['return_DJI'].rolling(window=5).std()\n",
    "volatility_df['stdev_NQ'] = volatility_df['return_NQ'].rolling(window=5).std()\n",
    "volatility_df['stdev_R2K'] = volatility_df['return_R2K'].rolling(window=5).std()\n",
    "volatility_df['stdev_SP'] = volatility_df['return_SP'].rolling(window=5).std()\n",
    "\n",
    "# Dropping NA's from rolling window volatility \n",
    "volatility_df = volatility_df.dropna()\n",
    "\n",
    "# Final DF \n",
    "volatility_df\n",
    "\n"
   ]
  },
  {
   "cell_type": "code",
   "execution_count": 27,
   "metadata": {},
   "outputs": [],
   "source": [
    "#load necessary packages\n",
    "import pandas as pd\n",
    "import numpy as np\n",
    "import matplotlib.pyplot as plt\n",
    "import cufflinks as cf\n",
    "import glob\n",
    "from pathlib import Path\n",
    "import seaborn as sns\n",
    "plt.style.use(\"seaborn\")\n",
    "import warnings\n",
    "warnings.filterwarnings(\"ignore\")\n",
    "import numpy as np \n",
    "from scipy.stats import boxcox\n",
    "%matplotlib inline"
   ]
  },
  {
   "cell_type": "code",
   "execution_count": 203,
   "metadata": {},
   "outputs": [
    {
     "data": {
      "text/html": [
       "<div>\n",
       "<style scoped>\n",
       "    .dataframe tbody tr th:only-of-type {\n",
       "        vertical-align: middle;\n",
       "    }\n",
       "\n",
       "    .dataframe tbody tr th {\n",
       "        vertical-align: top;\n",
       "    }\n",
       "\n",
       "    .dataframe thead th {\n",
       "        text-align: right;\n",
       "    }\n",
       "</style>\n",
       "<table border=\"1\" class=\"dataframe\">\n",
       "  <thead>\n",
       "    <tr style=\"text-align: right;\">\n",
       "      <th></th>\n",
       "      <th>stdev_DJI</th>\n",
       "      <th>stdev_NQ</th>\n",
       "      <th>stdev_R2K</th>\n",
       "      <th>stdev_SP</th>\n",
       "      <th>mean_vol</th>\n",
       "    </tr>\n",
       "    <tr>\n",
       "      <th>Date</th>\n",
       "      <th></th>\n",
       "      <th></th>\n",
       "      <th></th>\n",
       "      <th></th>\n",
       "      <th></th>\n",
       "    </tr>\n",
       "  </thead>\n",
       "  <tbody>\n",
       "    <tr>\n",
       "      <th>2010-10-12 16:00:00</th>\n",
       "      <td>1.060923</td>\n",
       "      <td>1.184516</td>\n",
       "      <td>0.846680</td>\n",
       "      <td>0.685407</td>\n",
       "      <td>0.944382</td>\n",
       "    </tr>\n",
       "    <tr>\n",
       "      <th>2010-10-13 16:00:00</th>\n",
       "      <td>1.081782</td>\n",
       "      <td>1.199228</td>\n",
       "      <td>0.871771</td>\n",
       "      <td>0.668653</td>\n",
       "      <td>0.955358</td>\n",
       "    </tr>\n",
       "    <tr>\n",
       "      <th>2010-10-18 16:00:00</th>\n",
       "      <td>1.090289</td>\n",
       "      <td>0.603367</td>\n",
       "      <td>0.761757</td>\n",
       "      <td>0.621801</td>\n",
       "      <td>0.769303</td>\n",
       "    </tr>\n",
       "    <tr>\n",
       "      <th>2010-10-20 16:00:00</th>\n",
       "      <td>0.983689</td>\n",
       "      <td>0.266785</td>\n",
       "      <td>0.567071</td>\n",
       "      <td>0.366449</td>\n",
       "      <td>0.545999</td>\n",
       "    </tr>\n",
       "    <tr>\n",
       "      <th>2010-10-25 16:00:00</th>\n",
       "      <td>1.011493</td>\n",
       "      <td>0.326537</td>\n",
       "      <td>0.550903</td>\n",
       "      <td>0.628225</td>\n",
       "      <td>0.629289</td>\n",
       "    </tr>\n",
       "    <tr>\n",
       "      <th>...</th>\n",
       "      <td>...</td>\n",
       "      <td>...</td>\n",
       "      <td>...</td>\n",
       "      <td>...</td>\n",
       "      <td>...</td>\n",
       "    </tr>\n",
       "    <tr>\n",
       "      <th>2022-09-08 16:00:00</th>\n",
       "      <td>1.332163</td>\n",
       "      <td>0.971188</td>\n",
       "      <td>0.498164</td>\n",
       "      <td>0.925285</td>\n",
       "      <td>0.931700</td>\n",
       "    </tr>\n",
       "    <tr>\n",
       "      <th>2022-09-09 16:00:00</th>\n",
       "      <td>0.823799</td>\n",
       "      <td>0.776112</td>\n",
       "      <td>0.466746</td>\n",
       "      <td>0.764819</td>\n",
       "      <td>0.707869</td>\n",
       "    </tr>\n",
       "    <tr>\n",
       "      <th>2022-09-12 16:00:00</th>\n",
       "      <td>0.344322</td>\n",
       "      <td>0.528673</td>\n",
       "      <td>0.395921</td>\n",
       "      <td>0.397792</td>\n",
       "      <td>0.416677</td>\n",
       "    </tr>\n",
       "    <tr>\n",
       "      <th>2022-09-14 16:00:00</th>\n",
       "      <td>1.065216</td>\n",
       "      <td>0.587346</td>\n",
       "      <td>0.719367</td>\n",
       "      <td>0.681950</td>\n",
       "      <td>0.763470</td>\n",
       "    </tr>\n",
       "    <tr>\n",
       "      <th>2022-09-19 16:00:00</th>\n",
       "      <td>0.958019</td>\n",
       "      <td>0.512166</td>\n",
       "      <td>0.607316</td>\n",
       "      <td>0.565643</td>\n",
       "      <td>0.660786</td>\n",
       "    </tr>\n",
       "  </tbody>\n",
       "</table>\n",
       "<p>1151 rows × 5 columns</p>\n",
       "</div>"
      ],
      "text/plain": [
       "                     stdev_DJI  stdev_NQ  stdev_R2K  stdev_SP  mean_vol\n",
       "Date                                                                   \n",
       "2010-10-12 16:00:00   1.060923  1.184516   0.846680  0.685407  0.944382\n",
       "2010-10-13 16:00:00   1.081782  1.199228   0.871771  0.668653  0.955358\n",
       "2010-10-18 16:00:00   1.090289  0.603367   0.761757  0.621801  0.769303\n",
       "2010-10-20 16:00:00   0.983689  0.266785   0.567071  0.366449  0.545999\n",
       "2010-10-25 16:00:00   1.011493  0.326537   0.550903  0.628225  0.629289\n",
       "...                        ...       ...        ...       ...       ...\n",
       "2022-09-08 16:00:00   1.332163  0.971188   0.498164  0.925285  0.931700\n",
       "2022-09-09 16:00:00   0.823799  0.776112   0.466746  0.764819  0.707869\n",
       "2022-09-12 16:00:00   0.344322  0.528673   0.395921  0.397792  0.416677\n",
       "2022-09-14 16:00:00   1.065216  0.587346   0.719367  0.681950  0.763470\n",
       "2022-09-19 16:00:00   0.958019  0.512166   0.607316  0.565643  0.660786\n",
       "\n",
       "[1151 rows x 5 columns]"
      ]
     },
     "execution_count": 203,
     "metadata": {},
     "output_type": "execute_result"
    }
   ],
   "source": [
    "vol_df = volatility_df[['stdev_DJI','stdev_NQ', 'stdev_R2K', 'stdev_SP' ]]\n",
    "vol_df['mean_vol'] = vol_df.mean(axis=1)\n",
    "\n",
    "vol_df\n"
   ]
  },
  {
   "cell_type": "code",
   "execution_count": 207,
   "metadata": {},
   "outputs": [],
   "source": [
    "volatility_df['mean_return'] = 100 * volatility_df.mean(axis=1)"
   ]
  },
  {
   "cell_type": "code",
   "execution_count": 216,
   "metadata": {},
   "outputs": [
    {
     "data": {
      "text/plain": [
       "Date\n",
       "2010-10-12 16:00:00     94.004271\n",
       "2010-10-13 16:00:00    131.664893\n",
       "2010-10-18 16:00:00    117.162112\n",
       "2010-10-20 16:00:00    122.396113\n",
       "2010-10-25 16:00:00     90.396909\n",
       "                          ...    \n",
       "2022-09-08 16:00:00    160.343523\n",
       "2022-09-09 16:00:00    183.743153\n",
       "2022-09-12 16:00:00    159.096425\n",
       "2022-09-14 16:00:00    128.745924\n",
       "2022-09-19 16:00:00    153.182575\n",
       "Name: mean_return, Length: 1151, dtype: float64"
      ]
     },
     "execution_count": 216,
     "metadata": {},
     "output_type": "execute_result"
    }
   ],
   "source": [
    "mean_return = volatility_df['mean_return']\n",
    "\n",
    "mean_return"
   ]
  },
  {
   "cell_type": "code",
   "execution_count": 61,
   "metadata": {},
   "outputs": [],
   "source": [
    "from arch import arch_model \n",
    "import scipy\n",
    "import scipy.stats as stats\n",
    "from statsmodels.tsa.stattools import adfuller\n",
    "from statsmodels.graphics.tsaplots import plot_acf, plot_pacf\n",
    "%matplotlib inline\n"
   ]
  },
  {
   "cell_type": "code",
   "execution_count": 63,
   "metadata": {},
   "outputs": [
    {
     "data": {
      "text/plain": [
       "(-2.481779344859221,\n",
       " 0.11997078139584644,\n",
       " 18,\n",
       " 1132,\n",
       " {'1%': -3.436139921033549,\n",
       "  '5%': -2.86409660029079,\n",
       "  '10%': -2.568131202693254},\n",
       " 22.711302681734196)"
      ]
     },
     "execution_count": 63,
     "metadata": {},
     "output_type": "execute_result"
    }
   ],
   "source": [
    "adfuller(volatility_df['mean_return'])\n",
    "\n",
    "# Based on adfuller null hyptothesis is rejected and therefore our data is non-stationary  "
   ]
  },
  {
   "cell_type": "code",
   "execution_count": 86,
   "metadata": {},
   "outputs": [
    {
     "name": "stdout",
     "output_type": "stream",
     "text": [
      "ADF Statistic (DJI_Close): -1.1130100224953294\n",
      "p-value: 0.7098558704330163\n",
      "DJI_Close is non stationary\n",
      "ADF Statistic (NQ_Close): -0.865328480668809\n",
      "p-value: 0.7991757728771178\n",
      "NQ_Close is non stationary\n",
      "ADF Statistic (R2K_Close): -1.5481081410956674\n",
      "p-value: 0.5095930658968275\n",
      "R2K_Close is non stationary\n",
      "ADF Statistic (SP_Close): -0.7755567803509512\n",
      "p-value: 0.8261968566558295\n",
      "SP_Close is non stationary\n",
      "ADF Statistic (return_DJI): -7.2513243847244615\n",
      "p-value: 1.776945464418883e-10\n",
      "ADF Statistic (return_NQ): -6.733573532389214\n",
      "p-value: 3.2497386903240825e-09\n",
      "ADF Statistic (return_R2K): -6.80550701412094\n",
      "p-value: 2.1819898470726593e-09\n",
      "ADF Statistic (return_SP): -6.34380350877702\n",
      "p-value: 2.7138510495690515e-08\n",
      "ADF Statistic (stdev_DJI): -8.529641781542242\n",
      "p-value: 1.0461151051932377e-13\n",
      "ADF Statistic (stdev_NQ): -8.848244434262055\n",
      "p-value: 1.5988466618370174e-14\n",
      "ADF Statistic (stdev_R2K): -6.88525674465871\n",
      "p-value: 1.3999223855851255e-09\n",
      "ADF Statistic (stdev_SP): -8.535525413435296\n",
      "p-value: 1.0104681998297658e-13\n",
      "ADF Statistic (mean_return): -2.567060229494427\n",
      "p-value: 0.09999813112211559\n",
      "mean_return is non stationary\n",
      "Non-stationary columns are: ['DJI_Close', 'NQ_Close', 'R2K_Close', 'SP_Close', 'mean_return']. Try .diff()\n",
      "ADF Statistic (DJI_Close): -1.1130100224953294\n",
      "p-value: 0.7098558704330163\n",
      "DJI_Close is non stationary\n",
      "ADF Statistic (NQ_Close): -0.865328480668809\n",
      "p-value: 0.7991757728771178\n",
      "NQ_Close is non stationary\n",
      "ADF Statistic (R2K_Close): -1.5481081410956674\n",
      "p-value: 0.5095930658968275\n",
      "R2K_Close is non stationary\n",
      "ADF Statistic (SP_Close): -0.7755567803509512\n",
      "p-value: 0.8261968566558295\n",
      "SP_Close is non stationary\n",
      "ADF Statistic (mean_return): -2.567060229494427\n",
      "p-value: 0.09999813112211559\n",
      "mean_return is non stationary\n",
      "ADF Statistic (return_DJI): -7.2513243847244615\n",
      "p-value: 1.776945464418883e-10\n",
      "ADF Statistic (return_NQ): -6.733573532389214\n",
      "p-value: 3.2497386903240825e-09\n",
      "ADF Statistic (return_R2K): -6.80550701412094\n",
      "p-value: 2.1819898470726593e-09\n",
      "ADF Statistic (return_SP): -6.34380350877702\n",
      "p-value: 2.7138510495690515e-08\n",
      "ADF Statistic (stdev_DJI): -8.529641781542242\n",
      "p-value: 1.0461151051932377e-13\n",
      "ADF Statistic (stdev_NQ): -8.848244434262055\n",
      "p-value: 1.5988466618370174e-14\n",
      "ADF Statistic (stdev_R2K): -6.88525674465871\n",
      "p-value: 1.3999223855851255e-09\n",
      "ADF Statistic (stdev_SP): -8.535525413435296\n",
      "p-value: 1.0104681998297658e-13\n",
      "Non-stationary columns are: ['DJI_Close', 'NQ_Close', 'R2K_Close', 'SP_Close', 'mean_return']. Try .diff()\n"
     ]
    },
    {
     "data": {
      "text/plain": [
       "['DJI_Close', 'NQ_Close', 'R2K_Close', 'SP_Close', 'mean_return']"
      ]
     },
     "execution_count": 86,
     "metadata": {},
     "output_type": "execute_result"
    }
   ],
   "source": [
    "def check_stationarity(df):\n",
    "    non_stationary = []\n",
    "    for column in df:\n",
    "        adfuller_res = adfuller(volatility_df[column][1:])\n",
    "        print(f'ADF Statistic ({column}): {adfuller_res[0]}')\n",
    "        print(f'p-value: {adfuller_res[1]}')\n",
    "        if adfuller_res[1] > 0.05:\n",
    "            non_stationary.append(column)\n",
    "            print(f'{column} is non stationary')\n",
    "    if len(non_stationary) > 0:\n",
    "        print(f'Non-stationary columns are: {non_stationary}. Try .diff()')\n",
    "        return non_stationary\n",
    "    else:\n",
    "        print(f'All columns are stationary!')\n",
    "non_stationary = check_stationarity(volatility_df)\n",
    "\n",
    "# Apply one .diff() on non stationary columns\n",
    "df_DJI = pd.concat([volatility_df[non_stationary].diff(), volatility_df.drop(columns=non_stationary)], axis=1)\n",
    "df_DJI.dropna(inplace=True)\n",
    "\n",
    "\n",
    "# Check stationarity again\n",
    "check_stationarity(df_DJI)"
   ]
  },
  {
   "cell_type": "code",
   "execution_count": 90,
   "metadata": {},
   "outputs": [
    {
     "data": {
      "text/plain": [
       "1151"
      ]
     },
     "execution_count": 90,
     "metadata": {},
     "output_type": "execute_result"
    }
   ],
   "source": [
    "volatility_df.shape"
   ]
  },
  {
   "cell_type": "code",
   "execution_count": 64,
   "metadata": {},
   "outputs": [
    {
     "data": {
      "image/png": "[encoded data removed]",
      "text/plain": [
       "<Figure size 432x288 with 1 Axes>"
      ]
     },
     "metadata": {
      "needs_background": "light"
     },
     "output_type": "display_data"
    }
   ],
   "source": [
    "# Garch P & Q Values \n",
    "\n",
    "plot_acf(volatility_df['mean_return'], zero=False, alpha = 0.9 )\n",
    "plt.show()"
   ]
  },
  {
   "cell_type": "code",
   "execution_count": 65,
   "metadata": {},
   "outputs": [
    {
     "data": {
      "image/png": "[encoded data removed]",
      "text/plain": [
       "<Figure size 432x288 with 1 Axes>"
      ]
     },
     "metadata": {
      "needs_background": "light"
     },
     "output_type": "display_data"
    }
   ],
   "source": [
    "plot_acf(volatility_df['mean_return'].diff())\n",
    "plt.show()"
   ]
  },
  {
   "cell_type": "code",
   "execution_count": 136,
   "metadata": {},
   "outputs": [
    {
     "name": "stdout",
     "output_type": "stream",
     "text": [
      "Iteration:      5,   Func. Count:     35,   Neg. LLF: 328.02849195520866\n",
      "Iteration:     10,   Func. Count:     66,   Neg. LLF: 33.468375751791946\n",
      "Iteration:     15,   Func. Count:     91,   Neg. LLF: 33.11754304694546\n",
      "Optimization terminated successfully    (Exit mode 0)\n",
      "            Current function value: 33.1175430466208\n",
      "            Iterations: 15\n",
      "            Function evaluations: 91\n",
      "            Gradient evaluations: 15\n"
     ]
    }
   ],
   "source": [
    "volatility_df_resampled = volatility_df.resample('W').mean()\n",
    "volatility_df_resampled.dropna(inplace=True)\n",
    "\n",
    "model_garch_vol = arch_model(volatility_df_resampled['mean_return'], mean = 'constant', vol = 'GARCH', dist = 'normal' )\n",
    "model_garch_vol = model_garch_vol.fit(update_freq=5)"
   ]
  },
  {
   "cell_type": "code",
   "execution_count": 225,
   "metadata": {},
   "outputs": [
    {
     "data": {
      "image/png": "[encoded data removed]",
      "text/plain": [
       "<Figure size 432x288 with 1 Axes>"
      ]
     },
     "metadata": {
      "needs_background": "light"
     },
     "output_type": "display_data"
    },
    {
     "data": {
      "text/plain": [
       "(-2.4817793448593113,\n",
       " 0.11997078139582396,\n",
       " 18,\n",
       " 1132,\n",
       " {'1%': -3.436139921033549,\n",
       "  '5%': -2.86409660029079,\n",
       "  '10%': -2.568131202693254},\n",
       " 10402.764901898892)"
      ]
     },
     "execution_count": 225,
     "metadata": {},
     "output_type": "execute_result"
    }
   ],
   "source": [
    "plot_acf(volatility_df['mean_return'], zero=False, alpha = 0.9 )\n",
    "plt.show()\n",
    "adfuller(volatility_df['mean_return'])"
   ]
  },
  {
   "cell_type": "code",
   "execution_count": 226,
   "metadata": {},
   "outputs": [
    {
     "data": {
      "text/html": [
       "<table class=\"simpletable\">\n",
       "<caption>Constant Mean - GARCH Model Results</caption>\n",
       "<tr>\n",
       "  <th>Dep. Variable:</th>     <td>mean_return</td>    <th>  R-squared:         </th>  <td>   0.000</td> \n",
       "</tr>\n",
       "<tr>\n",
       "  <th>Mean Model:</th>       <td>Constant Mean</td>   <th>  Adj. R-squared:    </th>  <td>   0.000</td> \n",
       "</tr>\n",
       "<tr>\n",
       "  <th>Vol Model:</th>            <td>GARCH</td>       <th>  Log-Likelihood:    </th> <td>  -33.1175</td>\n",
       "</tr>\n",
       "<tr>\n",
       "  <th>Distribution:</th>        <td>Normal</td>       <th>  AIC:               </th> <td>   74.2351</td>\n",
       "</tr>\n",
       "<tr>\n",
       "  <th>Method:</th>        <td>Maximum Likelihood</td> <th>  BIC:               </th> <td>   91.5824</td>\n",
       "</tr>\n",
       "<tr>\n",
       "  <th></th>                        <td></td>          <th>  No. Observations:  </th>     <td>565</td>   \n",
       "</tr>\n",
       "<tr>\n",
       "  <th>Date:</th>           <td>Thu, Sep 29 2022</td>  <th>  Df Residuals:      </th>     <td>564</td>   \n",
       "</tr>\n",
       "<tr>\n",
       "  <th>Time:</th>               <td>19:34:04</td>      <th>  Df Model:          </th>      <td>1</td>    \n",
       "</tr>\n",
       "</table>\n",
       "<table class=\"simpletable\">\n",
       "<caption>Mean Model</caption>\n",
       "<tr>\n",
       "   <td></td>     <th>coef</th>     <th>std err</th>      <th>t</th>     <th>P>|t|</th> <th>95.0% Conf. Int.</th> \n",
       "</tr>\n",
       "<tr>\n",
       "  <th>mu</th> <td>    1.3325</td> <td>1.734e-02</td> <td>   76.828</td> <td>0.000</td> <td>[  1.299,  1.367]</td>\n",
       "</tr>\n",
       "</table>\n",
       "<table class=\"simpletable\">\n",
       "<caption>Volatility Model</caption>\n",
       "<tr>\n",
       "      <td></td>        <th>coef</th>     <th>std err</th>      <th>t</th>       <th>P>|t|</th>      <th>95.0% Conf. Int.</th>   \n",
       "</tr>\n",
       "<tr>\n",
       "  <th>omega</th>    <td>9.3053e-03</td> <td>6.779e-03</td> <td>    1.373</td> <td>    0.170</td> <td>[-3.981e-03,2.259e-02]</td>\n",
       "</tr>\n",
       "<tr>\n",
       "  <th>alpha[1]</th> <td>    0.1591</td> <td>7.161e-02</td> <td>    2.222</td> <td>2.628e-02</td>   <td>[1.877e-02,  0.299]</td> \n",
       "</tr>\n",
       "<tr>\n",
       "  <th>beta[1]</th>  <td>    0.7082</td> <td>    0.157</td> <td>    4.512</td> <td>6.423e-06</td>    <td>[  0.401,  1.016]</td>  \n",
       "</tr>\n",
       "</table><br/><br/>Covariance estimator: robust"
      ],
      "text/plain": [
       "<class 'statsmodels.iolib.summary.Summary'>\n",
       "\"\"\"\n",
       "                     Constant Mean - GARCH Model Results                      \n",
       "==============================================================================\n",
       "Dep. Variable:            mean_return   R-squared:                       0.000\n",
       "Mean Model:             Constant Mean   Adj. R-squared:                  0.000\n",
       "Vol Model:                      GARCH   Log-Likelihood:               -33.1175\n",
       "Distribution:                  Normal   AIC:                           74.2351\n",
       "Method:            Maximum Likelihood   BIC:                           91.5824\n",
       "                                        No. Observations:                  565\n",
       "Date:                Thu, Sep 29 2022   Df Residuals:                      564\n",
       "Time:                        19:34:04   Df Model:                            1\n",
       "                               Mean Model                               \n",
       "========================================================================\n",
       "                 coef    std err          t      P>|t|  95.0% Conf. Int.\n",
       "------------------------------------------------------------------------\n",
       "mu             1.3325  1.734e-02     76.828      0.000 [  1.299,  1.367]\n",
       "                               Volatility Model                              \n",
       "=============================================================================\n",
       "                 coef    std err          t      P>|t|       95.0% Conf. Int.\n",
       "-----------------------------------------------------------------------------\n",
       "omega      9.3053e-03  6.779e-03      1.373      0.170 [-3.981e-03,2.259e-02]\n",
       "alpha[1]       0.1591  7.161e-02      2.222  2.628e-02    [1.877e-02,  0.299]\n",
       "beta[1]        0.7082      0.157      4.512  6.423e-06      [  0.401,  1.016]\n",
       "=============================================================================\n",
       "\n",
       "Covariance estimator: robust\n",
       "\"\"\""
      ]
     },
     "execution_count": 226,
     "metadata": {},
     "output_type": "execute_result"
    }
   ],
   "source": [
    "model_garch_vol.summary()"
   ]
  },
  {
   "cell_type": "code",
   "execution_count": 143,
   "metadata": {},
   "outputs": [
    {
     "data": {
      "text/plain": [
       "<AxesSubplot:>"
      ]
     },
     "execution_count": 143,
     "metadata": {},
     "output_type": "execute_result"
    },
    {
     "data": {
      "image/png": "[encoded data removed]",
      "text/plain": [
       "<Figure size 432x288 with 1 Axes>"
      ]
     },
     "metadata": {
      "needs_background": "light"
     },
     "output_type": "display_data"
    }
   ],
   "source": [
    "plot = model_garch_vol.forecast(start = volatility_df.index.max(), horizon = 12)\n",
    "\n",
    "plot.variance[-1:].T.plot()"
   ]
  },
  {
   "cell_type": "code",
   "execution_count": 144,
   "metadata": {},
   "outputs": [
    {
     "data": {
      "text/html": [
       "<div>\n",
       "<style scoped>\n",
       "    .dataframe tbody tr th:only-of-type {\n",
       "        vertical-align: middle;\n",
       "    }\n",
       "\n",
       "    .dataframe tbody tr th {\n",
       "        vertical-align: top;\n",
       "    }\n",
       "\n",
       "    .dataframe thead th {\n",
       "        text-align: right;\n",
       "    }\n",
       "</style>\n",
       "<table border=\"1\" class=\"dataframe\">\n",
       "  <thead>\n",
       "    <tr style=\"text-align: right;\">\n",
       "      <th>Date</th>\n",
       "      <th>2022-09-25</th>\n",
       "    </tr>\n",
       "  </thead>\n",
       "  <tbody>\n",
       "    <tr>\n",
       "      <th>h.01</th>\n",
       "      <td>0.084240</td>\n",
       "    </tr>\n",
       "    <tr>\n",
       "      <th>h.02</th>\n",
       "      <td>0.082368</td>\n",
       "    </tr>\n",
       "    <tr>\n",
       "      <th>h.03</th>\n",
       "      <td>0.080744</td>\n",
       "    </tr>\n",
       "    <tr>\n",
       "      <th>h.04</th>\n",
       "      <td>0.079335</td>\n",
       "    </tr>\n",
       "    <tr>\n",
       "      <th>h.05</th>\n",
       "      <td>0.078114</td>\n",
       "    </tr>\n",
       "    <tr>\n",
       "      <th>h.06</th>\n",
       "      <td>0.077055</td>\n",
       "    </tr>\n",
       "    <tr>\n",
       "      <th>h.07</th>\n",
       "      <td>0.076136</td>\n",
       "    </tr>\n",
       "    <tr>\n",
       "      <th>h.08</th>\n",
       "      <td>0.075339</td>\n",
       "    </tr>\n",
       "    <tr>\n",
       "      <th>h.09</th>\n",
       "      <td>0.074648</td>\n",
       "    </tr>\n",
       "    <tr>\n",
       "      <th>h.10</th>\n",
       "      <td>0.074048</td>\n",
       "    </tr>\n",
       "    <tr>\n",
       "      <th>h.11</th>\n",
       "      <td>0.073528</td>\n",
       "    </tr>\n",
       "    <tr>\n",
       "      <th>h.12</th>\n",
       "      <td>0.073077</td>\n",
       "    </tr>\n",
       "  </tbody>\n",
       "</table>\n",
       "</div>"
      ],
      "text/plain": [
       "Date  2022-09-25\n",
       "h.01    0.084240\n",
       "h.02    0.082368\n",
       "h.03    0.080744\n",
       "h.04    0.079335\n",
       "h.05    0.078114\n",
       "h.06    0.077055\n",
       "h.07    0.076136\n",
       "h.08    0.075339\n",
       "h.09    0.074648\n",
       "h.10    0.074048\n",
       "h.11    0.073528\n",
       "h.12    0.073077"
      ]
     },
     "execution_count": 144,
     "metadata": {},
     "output_type": "execute_result"
    }
   ],
   "source": [
    "plot.variance[-1:].T"
   ]
  },
  {
   "cell_type": "code",
   "execution_count": 232,
   "metadata": {},
   "outputs": [],
   "source": [
    "def predicted_volatility_garch(volatility_df):\n",
    "      \n",
    "    model_garch_vol = arch_model(mean_return, vol = 'GARCH', dist = 'normal', p=1, o=0, q=1, power=2.0 )\n",
    "    model_garch_vol = model_garch_vol.fit(last_obs=volatility_df.index.max(), update_freq=5)\n",
    "    garch_model = print(model_garch_vol.summary())\n",
    "    garch = model_garch_vol.forecast(horizon = 12, reindex=False)\n",
    "    garch_model = model_garch_vol.plot(annualize='W')\n",
    "    plt.show()\n",
    "    \n",
    "    predicted_volatility_2  = garch.variance[-1:].T.plot(title='Predicted Volatility')\n",
    "    predicted_volatility_df = garch.variance[-1:].T\n",
    "    \n",
    "    return predicted_volatility_2, predicted_volatility_df, garch_model"
   ]
  },
  {
   "cell_type": "code",
   "execution_count": 237,
   "metadata": {},
   "outputs": [
    {
     "name": "stdout",
     "output_type": "stream",
     "text": [
      "Iteration:      5,   Func. Count:     33,   Neg. LLF: 5509.830099905819\n",
      "Iteration:     10,   Func. Count:     59,   Neg. LLF: 5509.655359700431\n",
      "Iteration:     15,   Func. Count:     84,   Neg. LLF: 5509.306022264353\n",
      "Optimization terminated successfully    (Exit mode 0)\n",
      "            Current function value: 5509.305791537313\n",
      "            Iterations: 18\n",
      "            Function evaluations: 98\n",
      "            Gradient evaluations: 18\n",
      "                     Constant Mean - GARCH Model Results                      \n",
      "==============================================================================\n",
      "Dep. Variable:            mean_return   R-squared:                       0.000\n",
      "Mean Model:             Constant Mean   Adj. R-squared:                  0.000\n",
      "Vol Model:                      GARCH   Log-Likelihood:               -5509.31\n",
      "Distribution:                  Normal   AIC:                           11026.6\n",
      "Method:            Maximum Likelihood   BIC:                           11046.8\n",
      "                                        No. Observations:                 1150\n",
      "Date:                Thu, Sep 29 2022   Df Residuals:                     1149\n",
      "Time:                        20:54:43   Df Model:                            1\n",
      "                                 Mean Model                                 \n",
      "============================================================================\n",
      "                 coef    std err          t      P>|t|      95.0% Conf. Int.\n",
      "----------------------------------------------------------------------------\n",
      "mu           133.2495      1.169    114.029      0.000 [1.310e+02,1.355e+02]\n",
      "                             Volatility Model                             \n",
      "==========================================================================\n",
      "                 coef    std err          t      P>|t|    95.0% Conf. Int.\n",
      "--------------------------------------------------------------------------\n",
      "omega         58.6158     33.235      1.764  7.779e-02 [ -6.524,1.238e+02]\n",
      "alpha[1]       0.0956  3.205e-02      2.983  2.852e-03 [3.280e-02,  0.158]\n",
      "beta[1]        0.8383  6.577e-02     12.746  3.264e-37   [  0.709,  0.967]\n",
      "==========================================================================\n",
      "\n",
      "Covariance estimator: robust\n"
     ]
    },
    {
     "data": {
      "image/png": "[encoded data removed]",
      "text/plain": [
       "<Figure size 432x288 with 2 Axes>"
      ]
     },
     "metadata": {
      "needs_background": "light"
     },
     "output_type": "display_data"
    },
    {
     "data": {
      "text/plain": [
       "(<AxesSubplot:title={'center':'Predicted Volatility'}>,\n",
       " Date  2022-09-19 16:00:00\n",
       " h.01          1111.366856\n",
       " h.02          1096.594419\n",
       " h.03          1082.797469\n",
       " h.04          1069.911590\n",
       " h.05          1057.876620\n",
       " h.06          1046.636370\n",
       " h.07          1036.138361\n",
       " h.08          1026.333580\n",
       " h.09          1017.176251\n",
       " h.10          1008.623619\n",
       " h.11          1000.635753\n",
       " h.12           993.175360,\n",
       " <Figure size 432x288 with 2 Axes>)"
      ]
     },
     "execution_count": 237,
     "metadata": {},
     "output_type": "execute_result"
    },
    {
     "data": {
      "image/png": "[encoded data removed]",
      "text/plain": [
       "<Figure size 432x288 with 1 Axes>"
      ]
     },
     "metadata": {
      "needs_background": "light"
     },
     "output_type": "display_data"
    }
   ],
   "source": [
    "predicted_volatility_garch(volatility_df)"
   ]
  },
  {
   "cell_type": "code",
   "execution_count": 240,
   "metadata": {},
   "outputs": [
    {
     "data": {
      "image/png": "[encoded data removed]",
      "text/plain": [
       "<Figure size 432x288 with 1 Axes>"
      ]
     },
     "metadata": {
      "needs_background": "light"
     },
     "output_type": "display_data"
    }
   ],
   "source": [
    "np.random.seed(1)\n",
    "\n",
    "forecasts = model_garch_vol.forecast(horizon=5, method=\"simulation\", reindex=False)\n",
    "sims = forecasts.simulations\n",
    "\n",
    "x = np.arange(1, 6)\n",
    "lines = plt.plot(x, sims.residual_variances[-1, ::5].T, color=\"r\", alpha=0.5)\n",
    "lines[0].set_label(\"Simulated path\")\n",
    "line = plt.plot(x, forecasts.variance.iloc[-1].values, color=\"#002868\")\n",
    "line[0].set_label(\"Expected variance\")\n",
    "plt.gca().set_xticks(x)\n",
    "plt.gca().set_xlim(1, 5)\n",
    "legend = plt.legend()"
   ]
  },
  {
   "cell_type": "code",
   "execution_count": 236,
   "metadata": {},
   "outputs": [
    {
     "ename": "ValueError",
     "evalue": "x and y can be no greater than 2D, but have shapes (1,) and (1, 1000, 5)",
     "output_type": "error",
     "traceback": [
      "\u001b[1;31m---------------------------------------------------------------------------\u001b[0m",
      "\u001b[1;31mValueError\u001b[0m                                Traceback (most recent call last)",
      "\u001b[1;32mc:\\Users\\apala\\BOOTCAMP\\Predicted_Volatility\\AP.ipnyb.ipynb Cell 19\u001b[0m in \u001b[0;36m<cell line: 4>\u001b[1;34m()\u001b[0m\n\u001b[0;32m      <a href='vscode-notebook-cell:/c%3A/Users/apala/BOOTCAMP/Predicted_Volatility/AP.ipnyb.ipynb#X35sZmlsZQ%3D%3D?line=0'>1</a>\u001b[0m forecasts \u001b[39m=\u001b[39m model_garch_vol\u001b[39m.\u001b[39mforecast(horizon\u001b[39m=\u001b[39m\u001b[39m5\u001b[39m, method\u001b[39m=\u001b[39m\u001b[39m\"\u001b[39m\u001b[39msimulation\u001b[39m\u001b[39m\"\u001b[39m, reindex\u001b[39m=\u001b[39m\u001b[39mFalse\u001b[39;00m)\n\u001b[0;32m      <a href='vscode-notebook-cell:/c%3A/Users/apala/BOOTCAMP/Predicted_Volatility/AP.ipnyb.ipynb#X35sZmlsZQ%3D%3D?line=1'>2</a>\u001b[0m sims \u001b[39m=\u001b[39m forecasts\u001b[39m.\u001b[39msimulations\n\u001b[1;32m----> <a href='vscode-notebook-cell:/c%3A/Users/apala/BOOTCAMP/Predicted_Volatility/AP.ipnyb.ipynb#X35sZmlsZQ%3D%3D?line=3'>4</a>\u001b[0m plt\u001b[39m.\u001b[39;49mplot(sims\u001b[39m.\u001b[39;49mresidual_variances)\n",
      "File \u001b[1;32mc:\\Users\\apala\\anaconda3\\lib\\site-packages\\matplotlib\\pyplot.py:2757\u001b[0m, in \u001b[0;36mplot\u001b[1;34m(scalex, scaley, data, *args, **kwargs)\u001b[0m\n\u001b[0;32m   2755\u001b[0m \u001b[39m@_copy_docstring_and_deprecators\u001b[39m(Axes\u001b[39m.\u001b[39mplot)\n\u001b[0;32m   2756\u001b[0m \u001b[39mdef\u001b[39;00m \u001b[39mplot\u001b[39m(\u001b[39m*\u001b[39margs, scalex\u001b[39m=\u001b[39m\u001b[39mTrue\u001b[39;00m, scaley\u001b[39m=\u001b[39m\u001b[39mTrue\u001b[39;00m, data\u001b[39m=\u001b[39m\u001b[39mNone\u001b[39;00m, \u001b[39m*\u001b[39m\u001b[39m*\u001b[39mkwargs):\n\u001b[1;32m-> 2757\u001b[0m     \u001b[39mreturn\u001b[39;00m gca()\u001b[39m.\u001b[39mplot(\n\u001b[0;32m   2758\u001b[0m         \u001b[39m*\u001b[39margs, scalex\u001b[39m=\u001b[39mscalex, scaley\u001b[39m=\u001b[39mscaley,\n\u001b[0;32m   2759\u001b[0m         \u001b[39m*\u001b[39m\u001b[39m*\u001b[39m({\u001b[39m\"\u001b[39m\u001b[39mdata\u001b[39m\u001b[39m\"\u001b[39m: data} \u001b[39mif\u001b[39;00m data \u001b[39mis\u001b[39;00m \u001b[39mnot\u001b[39;00m \u001b[39mNone\u001b[39;00m \u001b[39melse\u001b[39;00m {}), \u001b[39m*\u001b[39m\u001b[39m*\u001b[39mkwargs)\n",
      "File \u001b[1;32mc:\\Users\\apala\\anaconda3\\lib\\site-packages\\matplotlib\\axes\\_axes.py:1632\u001b[0m, in \u001b[0;36mAxes.plot\u001b[1;34m(self, scalex, scaley, data, *args, **kwargs)\u001b[0m\n\u001b[0;32m   1390\u001b[0m \u001b[39m\"\"\"\u001b[39;00m\n\u001b[0;32m   1391\u001b[0m \u001b[39mPlot y versus x as lines and/or markers.\u001b[39;00m\n\u001b[0;32m   1392\u001b[0m \n\u001b[1;32m   (...)\u001b[0m\n\u001b[0;32m   1629\u001b[0m \u001b[39m(``'green'``) or hex strings (``'#008000'``).\u001b[39;00m\n\u001b[0;32m   1630\u001b[0m \u001b[39m\"\"\"\u001b[39;00m\n\u001b[0;32m   1631\u001b[0m kwargs \u001b[39m=\u001b[39m cbook\u001b[39m.\u001b[39mnormalize_kwargs(kwargs, mlines\u001b[39m.\u001b[39mLine2D)\n\u001b[1;32m-> 1632\u001b[0m lines \u001b[39m=\u001b[39m [\u001b[39m*\u001b[39m\u001b[39mself\u001b[39m\u001b[39m.\u001b[39m_get_lines(\u001b[39m*\u001b[39margs, data\u001b[39m=\u001b[39mdata, \u001b[39m*\u001b[39m\u001b[39m*\u001b[39mkwargs)]\n\u001b[0;32m   1633\u001b[0m \u001b[39mfor\u001b[39;00m line \u001b[39min\u001b[39;00m lines:\n\u001b[0;32m   1634\u001b[0m     \u001b[39mself\u001b[39m\u001b[39m.\u001b[39madd_line(line)\n",
      "File \u001b[1;32mc:\\Users\\apala\\anaconda3\\lib\\site-packages\\matplotlib\\axes\\_base.py:312\u001b[0m, in \u001b[0;36m_process_plot_var_args.__call__\u001b[1;34m(self, data, *args, **kwargs)\u001b[0m\n\u001b[0;32m    310\u001b[0m     this \u001b[39m+\u001b[39m\u001b[39m=\u001b[39m args[\u001b[39m0\u001b[39m],\n\u001b[0;32m    311\u001b[0m     args \u001b[39m=\u001b[39m args[\u001b[39m1\u001b[39m:]\n\u001b[1;32m--> 312\u001b[0m \u001b[39myield from\u001b[39;00m \u001b[39mself\u001b[39;49m\u001b[39m.\u001b[39;49m_plot_args(this, kwargs)\n",
      "File \u001b[1;32mc:\\Users\\apala\\anaconda3\\lib\\site-packages\\matplotlib\\axes\\_base.py:501\u001b[0m, in \u001b[0;36m_process_plot_var_args._plot_args\u001b[1;34m(self, tup, kwargs, return_kwargs)\u001b[0m\n\u001b[0;32m    498\u001b[0m     \u001b[39mraise\u001b[39;00m \u001b[39mValueError\u001b[39;00m(\u001b[39mf\u001b[39m\u001b[39m\"\u001b[39m\u001b[39mx and y must have same first dimension, but \u001b[39m\u001b[39m\"\u001b[39m\n\u001b[0;32m    499\u001b[0m                      \u001b[39mf\u001b[39m\u001b[39m\"\u001b[39m\u001b[39mhave shapes \u001b[39m\u001b[39m{\u001b[39;00mx\u001b[39m.\u001b[39mshape\u001b[39m}\u001b[39;00m\u001b[39m and \u001b[39m\u001b[39m{\u001b[39;00my\u001b[39m.\u001b[39mshape\u001b[39m}\u001b[39;00m\u001b[39m\"\u001b[39m)\n\u001b[0;32m    500\u001b[0m \u001b[39mif\u001b[39;00m x\u001b[39m.\u001b[39mndim \u001b[39m>\u001b[39m \u001b[39m2\u001b[39m \u001b[39mor\u001b[39;00m y\u001b[39m.\u001b[39mndim \u001b[39m>\u001b[39m \u001b[39m2\u001b[39m:\n\u001b[1;32m--> 501\u001b[0m     \u001b[39mraise\u001b[39;00m \u001b[39mValueError\u001b[39;00m(\u001b[39mf\u001b[39m\u001b[39m\"\u001b[39m\u001b[39mx and y can be no greater than 2D, but have \u001b[39m\u001b[39m\"\u001b[39m\n\u001b[0;32m    502\u001b[0m                      \u001b[39mf\u001b[39m\u001b[39m\"\u001b[39m\u001b[39mshapes \u001b[39m\u001b[39m{\u001b[39;00mx\u001b[39m.\u001b[39mshape\u001b[39m}\u001b[39;00m\u001b[39m and \u001b[39m\u001b[39m{\u001b[39;00my\u001b[39m.\u001b[39mshape\u001b[39m}\u001b[39;00m\u001b[39m\"\u001b[39m)\n\u001b[0;32m    503\u001b[0m \u001b[39mif\u001b[39;00m x\u001b[39m.\u001b[39mndim \u001b[39m==\u001b[39m \u001b[39m1\u001b[39m:\n\u001b[0;32m    504\u001b[0m     x \u001b[39m=\u001b[39m x[:, np\u001b[39m.\u001b[39mnewaxis]\n",
      "\u001b[1;31mValueError\u001b[0m: x and y can be no greater than 2D, but have shapes (1,) and (1, 1000, 5)"
     ]
    },
    {
     "data": {
      "image/png": "[encoded data removed]",
      "text/plain": [
       "<Figure size 432x288 with 1 Axes>"
      ]
     },
     "metadata": {
      "needs_background": "light"
     },
     "output_type": "display_data"
    }
   ],
   "source": [
    "forecasts = model_garch_vol.forecast(horizon=5, method=\"simulation\", reindex=False)\n",
    "sims = forecasts.simulations\n",
    "line\n",
    "\n",
    "plt.plot(sims.residual_variances)"
   ]
  },
  {
   "cell_type": "code",
   "execution_count": null,
   "metadata": {},
   "outputs": [],
   "source": [
    "mean_return"
   ]
  }
 ],
 "metadata": {
  "kernelspec": {
   "display_name": "Python 3.9.12 ('base')",
   "language": "python",
   "name": "python3"
  },
  "language_info": {
   "codemirror_mode": {
    "name": "ipython",
    "version": 3
   },
   "file_extension": ".py",
   "mimetype": "text/x-python",
   "name": "python",
   "nbconvert_exporter": "python",
   "pygments_lexer": "ipython3",
   "version": "3.9.12"
  },
  "orig_nbformat": 4,
  "vscode": {
   "interpreter": {
    "hash": "3161287874ee3d3bfe19bc31235e4eed2eb54f98e4cc9a0a76f68004823bd9ff"
   }
  }
 },
 "nbformat": 4,
 "nbformat_minor": 2
}
