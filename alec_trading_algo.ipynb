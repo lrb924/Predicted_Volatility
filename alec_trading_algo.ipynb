{
 "cells": [
  {
   "cell_type": "code",
   "execution_count": 131,
   "metadata": {},
   "outputs": [],
   "source": [
    "# Importing Modules \n",
    "import os \n",
    "\n",
    "import pandas as pd\n",
    "import numpy as np\n",
    "\n",
    "import matplotlib.pyplot as plt\n",
    "%matplotlib inline\n",
    "\n",
    "\n",
    "# import warnings\n",
    "# warnings.filterwarnings('ignore')"
   ]
  },
  {
   "cell_type": "code",
   "execution_count": 132,
   "metadata": {},
   "outputs": [],
   "source": [
    "def get_signals(df):\n",
    "    df['signal'] = 0\n",
    "    df['signal'] = np.where(df[\"prediction\"]>df[\"observed\"].shift().describe().loc[\"25%\"], float(1),\\\n",
    "                    np.where(df[\"prediction\"]<df[\"observed\"].shift().describe().loc[\"75%\"], float(-1),0))\n",
    "\n",
    "    # print(df_trading['signal'].value_counts())\n",
    "    \n",
    "    return df\n"
   ]
  },
  {
   "cell_type": "code",
   "execution_count": 133,
   "metadata": {},
   "outputs": [],
   "source": [
    "def load_etfs(directory):\n",
    "    \n",
    "    df = pd.DataFrame()\n",
    "    \n",
    "    for root,dirs,files in os.walk(directory):\n",
    "        for filename in files: \n",
    "            etf_path  = (os.path.join(root, filename))\n",
    "            \n",
    "            df_etf = pd.read_csv(etf_path, parse_dates=True, infer_datetime_format=True, index_col='Date')\n",
    "            df_etf.rename(columns={'Close': etf_path[-7:-4]}, inplace=True)\n",
    "            \n",
    "            df = pd.concat([df, df_etf.pct_change()], axis=1)\n",
    "            df.dropna(inplace=True)\n",
    "            \n",
    "    return df\n"
   ]
  },
  {
   "cell_type": "code",
   "execution_count": 143,
   "metadata": {},
   "outputs": [],
   "source": [
    "def compute_return(df_etfs, df_signals):\n",
    "    \n",
    "    final_returns = {}\n",
    "    \n",
    "    # df_etfs = df_etfs.copy().iloc[-len(df_signals):]\n",
    "    \n",
    "    df_etfs['return'] = df_etfs.sum(axis=1)\n",
    "    df_etfs['strategy_return'] = df_etfs['return'] * df_signals['signal']\n",
    "    df_etfs.dropna(inplace=True)\n",
    "    \n",
    "    df_etfs['cumulative_return'] = (1 + df_etfs[\"return\"]).cumprod()\n",
    "    df_etfs['cumulative_strategy_return'] = (1 + df_etfs[\"strategy_return\"]).cumprod()\n",
    "    \n",
    "    final_returns['final_cumulative_return'] = np.round(df_etfs['cumulative_return'].iloc[-1], 3)\n",
    "    final_returns['final_cumulative_strategy_return'] = np.round(df_etfs['cumulative_strategy_return'].iloc[-1], 3)\n",
    "    \n",
    "    return df_etfs, final_returns\n"
   ]
  },
  {
   "cell_type": "code",
   "execution_count": 135,
   "metadata": {},
   "outputs": [],
   "source": [
    "# df_pred = pd.read_csv('./predictions_test.csv', parse_dates=True, infer_datetime_format=True, index_col='Date')\n",
    "# df_signals = get_signals(df_pred)\n",
    "\n",
    "# df_cyc = load_etfs('./DATA/ETF_CYC')\n",
    "# df_def = load_etfs('./DATA/ETF_DEF')"
   ]
  }
 ],
 "metadata": {
  "kernelspec": {
   "display_name": "Python 3.10.4 ('tf_gpu')",
   "language": "python",
   "name": "python3"
  },
  "language_info": {
   "codemirror_mode": {
    "name": "ipython",
    "version": 3
   },
   "file_extension": ".py",
   "mimetype": "text/x-python",
   "name": "python",
   "nbconvert_exporter": "python",
   "pygments_lexer": "ipython3",
   "version": "3.10.4"
  },
  "vscode": {
   "interpreter": {
    "hash": "ecbdb9fbf868892931d640333ffd1e700f14eb7f4e70f167f3dc311fc82fcb91"
   }
  }
 },
 "nbformat": 4,
 "nbformat_minor": 2
}
